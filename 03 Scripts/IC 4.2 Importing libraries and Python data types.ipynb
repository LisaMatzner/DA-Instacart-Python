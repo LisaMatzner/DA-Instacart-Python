{
 "cells": [
  {
   "cell_type": "markdown",
   "id": "4e008b3a",
   "metadata": {},
   "source": [
    "# 4.2: Importing libraries and Python data types"
   ]
  },
  {
   "cell_type": "markdown",
   "id": "f7c6e30f",
   "metadata": {},
   "source": [
    "### This notebook contains:\n",
    "    01. Importing Libraries\n",
    "    02. Data Types"
   ]
  },
  {
   "cell_type": "markdown",
   "id": "1279ad53",
   "metadata": {},
   "source": [
    "## 01. Importing Libraries"
   ]
  },
  {
   "cell_type": "code",
   "execution_count": 2,
   "id": "6057a363",
   "metadata": {},
   "outputs": [],
   "source": [
    "# import libraries\n",
    "import pandas as pd\n",
    "import numpy as np\n",
    "import os"
   ]
  },
  {
   "cell_type": "markdown",
   "id": "65b4a483",
   "metadata": {},
   "source": [
    "## 02. Data Types"
   ]
  },
  {
   "cell_type": "code",
   "execution_count": 27,
   "id": "875ac6fd",
   "metadata": {},
   "outputs": [],
   "source": [
    "# Code 3 different ways of reaching a result of 100 by adding or subtracting numeric variables."
   ]
  },
  {
   "cell_type": "code",
   "execution_count": 34,
   "id": "b51d01b0",
   "metadata": {},
   "outputs": [],
   "source": [
    "a=10*10"
   ]
  },
  {
   "cell_type": "code",
   "execution_count": 35,
   "id": "eed125d0",
   "metadata": {},
   "outputs": [],
   "source": [
    "b=90+10"
   ]
  },
  {
   "cell_type": "code",
   "execution_count": 36,
   "id": "0c4c058a",
   "metadata": {},
   "outputs": [],
   "source": [
    "c=120-20"
   ]
  },
  {
   "cell_type": "code",
   "execution_count": 37,
   "id": "bbc82519",
   "metadata": {},
   "outputs": [],
   "source": [
    "d=(20*10)-100"
   ]
  },
  {
   "cell_type": "code",
   "execution_count": 38,
   "id": "c99cd034",
   "metadata": {},
   "outputs": [
    {
     "name": "stdout",
     "output_type": "stream",
     "text": [
      "100 100 100 100\n"
     ]
    }
   ],
   "source": [
    "print(a,b,c,d)"
   ]
  },
  {
   "cell_type": "code",
   "execution_count": 39,
   "id": "04ab2b39",
   "metadata": {},
   "outputs": [],
   "source": [
    "# Code 2 floating-point variables and divide them by each other."
   ]
  },
  {
   "cell_type": "code",
   "execution_count": 41,
   "id": "17a0bbb4",
   "metadata": {},
   "outputs": [
    {
     "name": "stdout",
     "output_type": "stream",
     "text": [
      "3.6212259835315646\n"
     ]
    }
   ],
   "source": [
    "e=3.958\n",
    "f=1.093\n",
    "g=e/f\n",
    "print(g)"
   ]
  },
  {
   "cell_type": "code",
   "execution_count": 42,
   "id": "c461d317",
   "metadata": {},
   "outputs": [],
   "source": [
    "# Construct a short word made of separate strings (you’ll need to concatenate some strings!)."
   ]
  },
  {
   "cell_type": "code",
   "execution_count": 43,
   "id": "487e5885",
   "metadata": {},
   "outputs": [
    {
     "name": "stdout",
     "output_type": "stream",
     "text": [
      "alligator\n",
      "alligator\n"
     ]
    }
   ],
   "source": [
    "h='alli'\n",
    "i='gator'\n",
    "j=h+i\n",
    "print(h+i)\n",
    "print(j)"
   ]
  },
  {
   "cell_type": "code",
   "execution_count": 46,
   "id": "266969aa",
   "metadata": {},
   "outputs": [],
   "source": [
    "# Construct 2 short sentences made of separate strings."
   ]
  },
  {
   "cell_type": "code",
   "execution_count": 47,
   "id": "854a8a74",
   "metadata": {},
   "outputs": [
    {
     "name": "stdout",
     "output_type": "stream",
     "text": [
      "See you later alligator.\n",
      "After a while crocodile.\n"
     ]
    }
   ],
   "source": [
    "k='See you later'\n",
    "l='.'\n",
    "m='After a while'\n",
    "n='crocodile'\n",
    "print(k+' '+j+l)\n",
    "print(m+' '+n+l)"
   ]
  }
 ],
 "metadata": {
  "kernelspec": {
   "display_name": "Python 3 (ipykernel)",
   "language": "python",
   "name": "python3"
  },
  "language_info": {
   "codemirror_mode": {
    "name": "ipython",
    "version": 3
   },
   "file_extension": ".py",
   "mimetype": "text/x-python",
   "name": "python",
   "nbconvert_exporter": "python",
   "pygments_lexer": "ipython3",
   "version": "3.9.13"
  },
  "varInspector": {
   "cols": {
    "lenName": 16,
    "lenType": 16,
    "lenVar": 40
   },
   "kernels_config": {
    "python": {
     "delete_cmd_postfix": "",
     "delete_cmd_prefix": "del ",
     "library": "var_list.py",
     "varRefreshCmd": "print(var_dic_list())"
    },
    "r": {
     "delete_cmd_postfix": ") ",
     "delete_cmd_prefix": "rm(",
     "library": "var_list.r",
     "varRefreshCmd": "cat(var_dic_list()) "
    }
   },
   "types_to_exclude": [
    "module",
    "function",
    "builtin_function_or_method",
    "instance",
    "_Feature"
   ],
   "window_display": false
  }
 },
 "nbformat": 4,
 "nbformat_minor": 5
}
