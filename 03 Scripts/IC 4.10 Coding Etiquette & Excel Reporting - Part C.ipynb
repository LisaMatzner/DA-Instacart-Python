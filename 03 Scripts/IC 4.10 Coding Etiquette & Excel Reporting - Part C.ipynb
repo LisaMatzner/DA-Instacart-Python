{
 "cells": [
  {
   "cell_type": "markdown",
   "id": "d292386d",
   "metadata": {},
   "source": [
    "# 4.10: Coding Etiquette & Excel Reporting - Part C"
   ]
  },
  {
   "cell_type": "markdown",
   "id": "25e8fd07",
   "metadata": {},
   "source": [
    "This Script is a continuation from Part B. \n",
    "### This notebook contains:\n",
    "    01. Importing Libraries\n",
    "    02. Importing Data\n",
    "    03. Coding Etiquette & Excel Reporting\n",
    "        F. Visualizations - Customer Profiling\n",
    "        G. Aggregations Customer Profiles\n",
    "        H. Cross Examination: Customer Profiles to Regions & Departments\n",
    "        I. Visualizations: Cross Examinations"
   ]
  },
  {
   "cell_type": "markdown",
   "id": "d085c91e",
   "metadata": {},
   "source": [
    "## 01. Importing Libraries"
   ]
  },
  {
   "cell_type": "code",
   "execution_count": 1,
   "id": "391a7d30",
   "metadata": {},
   "outputs": [],
   "source": [
    "import pandas as pd\n",
    "import numpy as np\n",
    "import os\n",
    "import matplotlib.pyplot as plt\n",
    "import seaborn as sns\n",
    "import scipy"
   ]
  },
  {
   "cell_type": "markdown",
   "id": "cae71b12",
   "metadata": {},
   "source": [
    "## 02. Importing Data"
   ]
  },
  {
   "cell_type": "code",
   "execution_count": 2,
   "id": "dc25f722",
   "metadata": {},
   "outputs": [],
   "source": [
    "# turning project folder path into string\n",
    "path = r'/Users/lisa/DA Projects/12-2022 Instacart Basket Analysis'"
   ]
  },
  {
   "cell_type": "code",
   "execution_count": 3,
   "id": "12bf0c6b",
   "metadata": {},
   "outputs": [],
   "source": [
    "# Importing latest dataset with normal activity customers\n",
    "df_opan = pd.read_pickle(os.path.join(path, '02 Data', 'Prepared Data', 'orders_products_customers_profiled.pkl'))"
   ]
  },
  {
   "cell_type": "code",
   "execution_count": 4,
   "id": "a7ea60c5",
   "metadata": {
    "collapsed": true
   },
   "outputs": [
    {
     "data": {
      "text/html": [
       "<div>\n",
       "<style scoped>\n",
       "    .dataframe tbody tr th:only-of-type {\n",
       "        vertical-align: middle;\n",
       "    }\n",
       "\n",
       "    .dataframe tbody tr th {\n",
       "        vertical-align: top;\n",
       "    }\n",
       "\n",
       "    .dataframe thead th {\n",
       "        text-align: right;\n",
       "    }\n",
       "</style>\n",
       "<table border=\"1\" class=\"dataframe\">\n",
       "  <thead>\n",
       "    <tr style=\"text-align: right;\">\n",
       "      <th></th>\n",
       "      <th>order_id</th>\n",
       "      <th>user_id</th>\n",
       "      <th>order_number</th>\n",
       "      <th>order_day_of_week</th>\n",
       "      <th>order_hour_of_day</th>\n",
       "      <th>days_since_prior_order</th>\n",
       "      <th>first_order</th>\n",
       "      <th>product_id</th>\n",
       "      <th>add_to_cart_order</th>\n",
       "      <th>reordered</th>\n",
       "      <th>...</th>\n",
       "      <th>no_of_dependants</th>\n",
       "      <th>marital_status</th>\n",
       "      <th>income</th>\n",
       "      <th>_merge</th>\n",
       "      <th>region</th>\n",
       "      <th>age_group_flag</th>\n",
       "      <th>income_flag</th>\n",
       "      <th>household_size_flag</th>\n",
       "      <th>child_age_flag</th>\n",
       "      <th>pets_flag</th>\n",
       "    </tr>\n",
       "  </thead>\n",
       "  <tbody>\n",
       "    <tr>\n",
       "      <th>0</th>\n",
       "      <td>2539329</td>\n",
       "      <td>1</td>\n",
       "      <td>1</td>\n",
       "      <td>2</td>\n",
       "      <td>8</td>\n",
       "      <td>NaN</td>\n",
       "      <td>True</td>\n",
       "      <td>196</td>\n",
       "      <td>1</td>\n",
       "      <td>0</td>\n",
       "      <td>...</td>\n",
       "      <td>3</td>\n",
       "      <td>married</td>\n",
       "      <td>40423</td>\n",
       "      <td>both</td>\n",
       "      <td>South</td>\n",
       "      <td>Middle-Aged adult</td>\n",
       "      <td>Low middle income</td>\n",
       "      <td>Large household</td>\n",
       "      <td>Older children</td>\n",
       "      <td>No Pets</td>\n",
       "    </tr>\n",
       "    <tr>\n",
       "      <th>1</th>\n",
       "      <td>2398795</td>\n",
       "      <td>1</td>\n",
       "      <td>2</td>\n",
       "      <td>3</td>\n",
       "      <td>7</td>\n",
       "      <td>15.0</td>\n",
       "      <td>False</td>\n",
       "      <td>196</td>\n",
       "      <td>1</td>\n",
       "      <td>1</td>\n",
       "      <td>...</td>\n",
       "      <td>3</td>\n",
       "      <td>married</td>\n",
       "      <td>40423</td>\n",
       "      <td>both</td>\n",
       "      <td>South</td>\n",
       "      <td>Middle-Aged adult</td>\n",
       "      <td>Low middle income</td>\n",
       "      <td>Large household</td>\n",
       "      <td>Older children</td>\n",
       "      <td>No Pets</td>\n",
       "    </tr>\n",
       "  </tbody>\n",
       "</table>\n",
       "<p>2 rows × 40 columns</p>\n",
       "</div>"
      ],
      "text/plain": [
       "   order_id  user_id  order_number  order_day_of_week  order_hour_of_day  \\\n",
       "0   2539329        1             1                  2                  8   \n",
       "1   2398795        1             2                  3                  7   \n",
       "\n",
       "   days_since_prior_order  first_order  product_id  add_to_cart_order  \\\n",
       "0                     NaN         True         196                  1   \n",
       "1                    15.0        False         196                  1   \n",
       "\n",
       "   reordered  ... no_of_dependants  marital_status  income  _merge region  \\\n",
       "0          0  ...                3         married   40423    both  South   \n",
       "1          1  ...                3         married   40423    both  South   \n",
       "\n",
       "      age_group_flag        income_flag household_size_flag  child_age_flag  \\\n",
       "0  Middle-Aged adult  Low middle income     Large household  Older children   \n",
       "1  Middle-Aged adult  Low middle income     Large household  Older children   \n",
       "\n",
       "  pets_flag  \n",
       "0   No Pets  \n",
       "1   No Pets  \n",
       "\n",
       "[2 rows x 40 columns]"
      ]
     },
     "execution_count": 4,
     "metadata": {},
     "output_type": "execute_result"
    }
   ],
   "source": [
    "df_opan.head(2)"
   ]
  },
  {
   "cell_type": "code",
   "execution_count": 5,
   "id": "e695e12f",
   "metadata": {},
   "outputs": [],
   "source": [
    "# Importing department\n",
    "df_dep = pd.read_csv(os.path.join(path, '02 Data', 'Prepared Data', 'departments_wrangled.csv'))"
   ]
  },
  {
   "cell_type": "code",
   "execution_count": 6,
   "id": "afb82ed0",
   "metadata": {},
   "outputs": [
    {
     "data": {
      "text/html": [
       "<div>\n",
       "<style scoped>\n",
       "    .dataframe tbody tr th:only-of-type {\n",
       "        vertical-align: middle;\n",
       "    }\n",
       "\n",
       "    .dataframe tbody tr th {\n",
       "        vertical-align: top;\n",
       "    }\n",
       "\n",
       "    .dataframe thead th {\n",
       "        text-align: right;\n",
       "    }\n",
       "</style>\n",
       "<table border=\"1\" class=\"dataframe\">\n",
       "  <thead>\n",
       "    <tr style=\"text-align: right;\">\n",
       "      <th></th>\n",
       "      <th>Unnamed: 0</th>\n",
       "      <th>department</th>\n",
       "    </tr>\n",
       "  </thead>\n",
       "  <tbody>\n",
       "    <tr>\n",
       "      <th>0</th>\n",
       "      <td>1</td>\n",
       "      <td>frozen</td>\n",
       "    </tr>\n",
       "    <tr>\n",
       "      <th>1</th>\n",
       "      <td>2</td>\n",
       "      <td>other</td>\n",
       "    </tr>\n",
       "    <tr>\n",
       "      <th>2</th>\n",
       "      <td>3</td>\n",
       "      <td>bakery</td>\n",
       "    </tr>\n",
       "    <tr>\n",
       "      <th>3</th>\n",
       "      <td>4</td>\n",
       "      <td>produce</td>\n",
       "    </tr>\n",
       "    <tr>\n",
       "      <th>4</th>\n",
       "      <td>5</td>\n",
       "      <td>alcohol</td>\n",
       "    </tr>\n",
       "    <tr>\n",
       "      <th>5</th>\n",
       "      <td>6</td>\n",
       "      <td>international</td>\n",
       "    </tr>\n",
       "    <tr>\n",
       "      <th>6</th>\n",
       "      <td>7</td>\n",
       "      <td>beverages</td>\n",
       "    </tr>\n",
       "    <tr>\n",
       "      <th>7</th>\n",
       "      <td>8</td>\n",
       "      <td>pets</td>\n",
       "    </tr>\n",
       "    <tr>\n",
       "      <th>8</th>\n",
       "      <td>9</td>\n",
       "      <td>dry goods pasta</td>\n",
       "    </tr>\n",
       "    <tr>\n",
       "      <th>9</th>\n",
       "      <td>10</td>\n",
       "      <td>bulk</td>\n",
       "    </tr>\n",
       "    <tr>\n",
       "      <th>10</th>\n",
       "      <td>11</td>\n",
       "      <td>personal care</td>\n",
       "    </tr>\n",
       "    <tr>\n",
       "      <th>11</th>\n",
       "      <td>12</td>\n",
       "      <td>meat seafood</td>\n",
       "    </tr>\n",
       "    <tr>\n",
       "      <th>12</th>\n",
       "      <td>13</td>\n",
       "      <td>pantry</td>\n",
       "    </tr>\n",
       "    <tr>\n",
       "      <th>13</th>\n",
       "      <td>14</td>\n",
       "      <td>breakfast</td>\n",
       "    </tr>\n",
       "    <tr>\n",
       "      <th>14</th>\n",
       "      <td>15</td>\n",
       "      <td>canned goods</td>\n",
       "    </tr>\n",
       "    <tr>\n",
       "      <th>15</th>\n",
       "      <td>16</td>\n",
       "      <td>dairy eggs</td>\n",
       "    </tr>\n",
       "    <tr>\n",
       "      <th>16</th>\n",
       "      <td>17</td>\n",
       "      <td>household</td>\n",
       "    </tr>\n",
       "    <tr>\n",
       "      <th>17</th>\n",
       "      <td>18</td>\n",
       "      <td>babies</td>\n",
       "    </tr>\n",
       "    <tr>\n",
       "      <th>18</th>\n",
       "      <td>19</td>\n",
       "      <td>snacks</td>\n",
       "    </tr>\n",
       "    <tr>\n",
       "      <th>19</th>\n",
       "      <td>20</td>\n",
       "      <td>deli</td>\n",
       "    </tr>\n",
       "    <tr>\n",
       "      <th>20</th>\n",
       "      <td>21</td>\n",
       "      <td>missing</td>\n",
       "    </tr>\n",
       "  </tbody>\n",
       "</table>\n",
       "</div>"
      ],
      "text/plain": [
       "    Unnamed: 0       department\n",
       "0            1           frozen\n",
       "1            2            other\n",
       "2            3           bakery\n",
       "3            4          produce\n",
       "4            5          alcohol\n",
       "5            6    international\n",
       "6            7        beverages\n",
       "7            8             pets\n",
       "8            9  dry goods pasta\n",
       "9           10             bulk\n",
       "10          11    personal care\n",
       "11          12     meat seafood\n",
       "12          13           pantry\n",
       "13          14        breakfast\n",
       "14          15     canned goods\n",
       "15          16       dairy eggs\n",
       "16          17        household\n",
       "17          18           babies\n",
       "18          19           snacks\n",
       "19          20             deli\n",
       "20          21          missing"
      ]
     },
     "execution_count": 6,
     "metadata": {},
     "output_type": "execute_result"
    }
   ],
   "source": [
    "#check\n",
    "df_dep"
   ]
  },
  {
   "cell_type": "code",
   "execution_count": 7,
   "id": "02c81048",
   "metadata": {},
   "outputs": [],
   "source": [
    "# Renaming Unnamed: 0 to department_id\n",
    "df_dep.rename(columns ={'Unnamed: 0': 'department_id'}, inplace = True)"
   ]
  },
  {
   "cell_type": "code",
   "execution_count": 8,
   "id": "684b2605",
   "metadata": {
    "collapsed": true
   },
   "outputs": [
    {
     "data": {
      "text/html": [
       "<div>\n",
       "<style scoped>\n",
       "    .dataframe tbody tr th:only-of-type {\n",
       "        vertical-align: middle;\n",
       "    }\n",
       "\n",
       "    .dataframe tbody tr th {\n",
       "        vertical-align: top;\n",
       "    }\n",
       "\n",
       "    .dataframe thead th {\n",
       "        text-align: right;\n",
       "    }\n",
       "</style>\n",
       "<table border=\"1\" class=\"dataframe\">\n",
       "  <thead>\n",
       "    <tr style=\"text-align: right;\">\n",
       "      <th></th>\n",
       "      <th>department_id</th>\n",
       "      <th>department</th>\n",
       "    </tr>\n",
       "  </thead>\n",
       "  <tbody>\n",
       "    <tr>\n",
       "      <th>0</th>\n",
       "      <td>1</td>\n",
       "      <td>frozen</td>\n",
       "    </tr>\n",
       "    <tr>\n",
       "      <th>1</th>\n",
       "      <td>2</td>\n",
       "      <td>other</td>\n",
       "    </tr>\n",
       "    <tr>\n",
       "      <th>2</th>\n",
       "      <td>3</td>\n",
       "      <td>bakery</td>\n",
       "    </tr>\n",
       "    <tr>\n",
       "      <th>3</th>\n",
       "      <td>4</td>\n",
       "      <td>produce</td>\n",
       "    </tr>\n",
       "    <tr>\n",
       "      <th>4</th>\n",
       "      <td>5</td>\n",
       "      <td>alcohol</td>\n",
       "    </tr>\n",
       "    <tr>\n",
       "      <th>5</th>\n",
       "      <td>6</td>\n",
       "      <td>international</td>\n",
       "    </tr>\n",
       "    <tr>\n",
       "      <th>6</th>\n",
       "      <td>7</td>\n",
       "      <td>beverages</td>\n",
       "    </tr>\n",
       "    <tr>\n",
       "      <th>7</th>\n",
       "      <td>8</td>\n",
       "      <td>pets</td>\n",
       "    </tr>\n",
       "    <tr>\n",
       "      <th>8</th>\n",
       "      <td>9</td>\n",
       "      <td>dry goods pasta</td>\n",
       "    </tr>\n",
       "    <tr>\n",
       "      <th>9</th>\n",
       "      <td>10</td>\n",
       "      <td>bulk</td>\n",
       "    </tr>\n",
       "    <tr>\n",
       "      <th>10</th>\n",
       "      <td>11</td>\n",
       "      <td>personal care</td>\n",
       "    </tr>\n",
       "    <tr>\n",
       "      <th>11</th>\n",
       "      <td>12</td>\n",
       "      <td>meat seafood</td>\n",
       "    </tr>\n",
       "    <tr>\n",
       "      <th>12</th>\n",
       "      <td>13</td>\n",
       "      <td>pantry</td>\n",
       "    </tr>\n",
       "    <tr>\n",
       "      <th>13</th>\n",
       "      <td>14</td>\n",
       "      <td>breakfast</td>\n",
       "    </tr>\n",
       "    <tr>\n",
       "      <th>14</th>\n",
       "      <td>15</td>\n",
       "      <td>canned goods</td>\n",
       "    </tr>\n",
       "    <tr>\n",
       "      <th>15</th>\n",
       "      <td>16</td>\n",
       "      <td>dairy eggs</td>\n",
       "    </tr>\n",
       "    <tr>\n",
       "      <th>16</th>\n",
       "      <td>17</td>\n",
       "      <td>household</td>\n",
       "    </tr>\n",
       "    <tr>\n",
       "      <th>17</th>\n",
       "      <td>18</td>\n",
       "      <td>babies</td>\n",
       "    </tr>\n",
       "    <tr>\n",
       "      <th>18</th>\n",
       "      <td>19</td>\n",
       "      <td>snacks</td>\n",
       "    </tr>\n",
       "    <tr>\n",
       "      <th>19</th>\n",
       "      <td>20</td>\n",
       "      <td>deli</td>\n",
       "    </tr>\n",
       "    <tr>\n",
       "      <th>20</th>\n",
       "      <td>21</td>\n",
       "      <td>missing</td>\n",
       "    </tr>\n",
       "  </tbody>\n",
       "</table>\n",
       "</div>"
      ],
      "text/plain": [
       "    department_id       department\n",
       "0               1           frozen\n",
       "1               2            other\n",
       "2               3           bakery\n",
       "3               4          produce\n",
       "4               5          alcohol\n",
       "5               6    international\n",
       "6               7        beverages\n",
       "7               8             pets\n",
       "8               9  dry goods pasta\n",
       "9              10             bulk\n",
       "10             11    personal care\n",
       "11             12     meat seafood\n",
       "12             13           pantry\n",
       "13             14        breakfast\n",
       "14             15     canned goods\n",
       "15             16       dairy eggs\n",
       "16             17        household\n",
       "17             18           babies\n",
       "18             19           snacks\n",
       "19             20             deli\n",
       "20             21          missing"
      ]
     },
     "execution_count": 8,
     "metadata": {},
     "output_type": "execute_result"
    }
   ],
   "source": [
    "#check\n",
    "df_dep"
   ]
  },
  {
   "cell_type": "markdown",
   "id": "2ee1370b",
   "metadata": {},
   "source": [
    "## 03. Coding Etiquette & Excel Reporting"
   ]
  },
  {
   "cell_type": "markdown",
   "id": "2f6a8cec",
   "metadata": {},
   "source": [
    "### F. Visualizations - Customer Profiling"
   ]
  },
  {
   "cell_type": "markdown",
   "id": "ffd20b81",
   "metadata": {},
   "source": [
    "#### Question 6.\n",
    "Create an appropriate visualization to show the distribution of profiles."
   ]
  },
  {
   "cell_type": "code",
   "execution_count": 10,
   "id": "8e0a143f",
   "metadata": {
    "collapsed": true
   },
   "outputs": [
    {
     "data": {
      "text/plain": [
       "Index(['order_id', 'user_id', 'order_number', 'order_day_of_week',\n",
       "       'order_hour_of_day', 'days_since_prior_order', 'first_order',\n",
       "       'product_id', 'add_to_cart_order', 'reordered', 'product_name',\n",
       "       'aisle_id', 'department_id', 'prices', 'price_range_loc', 'busiest_day',\n",
       "       'busiest_days', 'busiest_period_of_day', 'max_order', 'loyalty_flag',\n",
       "       'avg_price', 'spending_flag', 'order_freq', 'frequency_flag',\n",
       "       'first_name', 'last_name', 'gender', 'state', 'age', 'date_joined',\n",
       "       'no_of_dependants', 'marital_status', 'income', '_merge', 'region',\n",
       "       'age_group_flag', 'income_flag', 'household_size_flag',\n",
       "       'child_age_flag', 'pets_flag'],\n",
       "      dtype='object')"
      ]
     },
     "execution_count": 10,
     "metadata": {},
     "output_type": "execute_result"
    }
   ],
   "source": [
    "# getting variable names\n",
    "df_opan.columns"
   ]
  },
  {
   "cell_type": "markdown",
   "id": "5c8490a3",
   "metadata": {},
   "source": [
    "#### Age Group"
   ]
  },
  {
   "cell_type": "code",
   "execution_count": 14,
   "id": "fb7495c3",
   "metadata": {},
   "outputs": [
    {
     "data": {
      "image/png": "[encoded data removed]",
      "text/plain": [
       "<Figure size 640x480 with 1 Axes>"
      ]
     },
     "metadata": {},
     "output_type": "display_data"
    }
   ],
   "source": [
    "# creating bar chart for age group\n",
    "bar_age_group = df_opan['age_group_flag'].value_counts().plot.barh()\n",
    "plt.ylabel('')\n",
    "plt.title('Distribution of Orders by Age Group',fontsize=15)\n",
    "plt.savefig('bar_distrib_by_age.png', bbox_inches='tight')"
   ]
  },
  {
   "cell_type": "markdown",
   "id": "2a81c5e9",
   "metadata": {},
   "source": [
    "#### Income"
   ]
  },
  {
   "cell_type": "code",
   "execution_count": 16,
   "id": "071060f0",
   "metadata": {},
   "outputs": [
    {
     "data": {
      "image/png": "[encoded data removed]",
      "text/plain": [
       "<Figure size 640x480 with 1 Axes>"
      ]
     },
     "metadata": {},
     "output_type": "display_data"
    }
   ],
   "source": [
    "# creating bar chart for income\n",
    "bar_income = df_opan['income_flag'].value_counts().sort_index().plot.barh()\n",
    "plt.ylabel(' ')\n",
    "plt.title('Distribution of Orders by Income',fontsize=15)\n",
    "plt.savefig('bar_distrib_by_income_flag.png', bbox_inches='tight')"
   ]
  },
  {
   "cell_type": "markdown",
   "id": "be09d695",
   "metadata": {},
   "source": [
    "#### Household Size"
   ]
  },
  {
   "cell_type": "code",
   "execution_count": 19,
   "id": "11cfab2e",
   "metadata": {},
   "outputs": [
    {
     "data": {
      "image/png": "[encoded data removed]",
      "text/plain": [
       "<Figure size 640x480 with 1 Axes>"
      ]
     },
     "metadata": {},
     "output_type": "display_data"
    }
   ],
   "source": [
    "# creating bar chart for Household Size\n",
    "bar_household_size = df_opan['household_size_flag'].value_counts().plot.barh()\n",
    "plt.ylabel('Household Size')\n",
    "plt.title('Distribution of Orders by Household Size',fontsize=15)\n",
    "plt.savefig('bar_distrib_by_household_size.png', bbox_inches='tight')"
   ]
  },
  {
   "cell_type": "markdown",
   "id": "5749bdc1",
   "metadata": {},
   "source": [
    "#### Child Age"
   ]
  },
  {
   "cell_type": "code",
   "execution_count": 21,
   "id": "51727b67",
   "metadata": {},
   "outputs": [
    {
     "data": {
      "image/png": "[encoded data removed]",
      "text/plain": [
       "<Figure size 640x480 with 1 Axes>"
      ]
     },
     "metadata": {},
     "output_type": "display_data"
    }
   ],
   "source": [
    "# creating bar chart for age group\n",
    "bar_child_age = df_opan['child_age_flag'].value_counts().plot.barh()\n",
    "plt.ylabel('Child Ages in Household')\n",
    "plt.title('Distribution of Orders by Child Age',fontsize=15)\n",
    "plt.savefig('bar_distrib_by_child_age.png', bbox_inches='tight')"
   ]
  },
  {
   "cell_type": "markdown",
   "id": "7e979895",
   "metadata": {},
   "source": [
    "#### Pets"
   ]
  },
  {
   "cell_type": "code",
   "execution_count": 23,
   "id": "e9929f8d",
   "metadata": {},
   "outputs": [
    {
     "data": {
      "image/png": "[encoded data removed]",
      "text/plain": [
       "<Figure size 640x480 with 1 Axes>"
      ]
     },
     "metadata": {},
     "output_type": "display_data"
    }
   ],
   "source": [
    "# creating bar chart for pet status\n",
    "bar_pets = df_opan['pets_flag'].value_counts().plot.barh()\n",
    "plt.ylabel(' ')\n",
    "plt.title('Distribution of Orders by Pet Status',fontsize=15)\n",
    "plt.savefig('bar_distrib_by_pet_status.png', bbox_inches='tight')"
   ]
  },
  {
   "cell_type": "markdown",
   "id": "3554b3ad",
   "metadata": {},
   "source": [
    "### G. Aggregations Customer Profiles"
   ]
  },
  {
   "cell_type": "markdown",
   "id": "f3213b90",
   "metadata": {},
   "source": [
    "#### Question 7.\n",
    "Aggregate the max, mean, and min variables on a customer-profile level for usage frequency and expenditure."
   ]
  },
  {
   "cell_type": "code",
   "execution_count": 24,
   "id": "b034ca1a",
   "metadata": {
    "collapsed": true
   },
   "outputs": [
    {
     "data": {
      "text/plain": [
       "Index(['order_id', 'user_id', 'order_number', 'order_day_of_week',\n",
       "       'order_hour_of_day', 'days_since_prior_order', 'first_order',\n",
       "       'product_id', 'add_to_cart_order', 'reordered', 'product_name',\n",
       "       'aisle_id', 'department_id', 'prices', 'price_range_loc', 'busiest_day',\n",
       "       'busiest_days', 'busiest_period_of_day', 'max_order', 'loyalty_flag',\n",
       "       'avg_price', 'spending_flag', 'order_freq', 'frequency_flag',\n",
       "       'first_name', 'last_name', 'gender', 'state', 'age', 'date_joined',\n",
       "       'no_of_dependants', 'marital_status', 'income', '_merge', 'region',\n",
       "       'age_group_flag', 'income_flag', 'household_size_flag',\n",
       "       'child_age_flag', 'pets_flag'],\n",
       "      dtype='object')"
      ]
     },
     "execution_count": 24,
     "metadata": {},
     "output_type": "execute_result"
    }
   ],
   "source": [
    "# overview\n",
    "df_opan.columns"
   ]
  },
  {
   "cell_type": "markdown",
   "id": "1fdf5e57",
   "metadata": {},
   "source": [
    "#### Age Group"
   ]
  },
  {
   "cell_type": "code",
   "execution_count": 25,
   "id": "3b8d70d2",
   "metadata": {
    "collapsed": true
   },
   "outputs": [
    {
     "data": {
      "text/html": [
       "<div>\n",
       "<style scoped>\n",
       "    .dataframe tbody tr th:only-of-type {\n",
       "        vertical-align: middle;\n",
       "    }\n",
       "\n",
       "    .dataframe tbody tr th {\n",
       "        vertical-align: top;\n",
       "    }\n",
       "\n",
       "    .dataframe thead tr th {\n",
       "        text-align: left;\n",
       "    }\n",
       "\n",
       "    .dataframe thead tr:last-of-type th {\n",
       "        text-align: right;\n",
       "    }\n",
       "</style>\n",
       "<table border=\"1\" class=\"dataframe\">\n",
       "  <thead>\n",
       "    <tr>\n",
       "      <th></th>\n",
       "      <th colspan=\"3\" halign=\"left\">days_since_prior_order</th>\n",
       "    </tr>\n",
       "    <tr>\n",
       "      <th></th>\n",
       "      <th>mean</th>\n",
       "      <th>min</th>\n",
       "      <th>max</th>\n",
       "    </tr>\n",
       "    <tr>\n",
       "      <th>age_group_flag</th>\n",
       "      <th></th>\n",
       "      <th></th>\n",
       "      <th></th>\n",
       "    </tr>\n",
       "  </thead>\n",
       "  <tbody>\n",
       "    <tr>\n",
       "      <th>Middle-Aged adult</th>\n",
       "      <td>10.788131</td>\n",
       "      <td>0.0</td>\n",
       "      <td>30.0</td>\n",
       "    </tr>\n",
       "    <tr>\n",
       "      <th>Old-Aged adult</th>\n",
       "      <td>10.833339</td>\n",
       "      <td>0.0</td>\n",
       "      <td>30.0</td>\n",
       "    </tr>\n",
       "    <tr>\n",
       "      <th>Senior</th>\n",
       "      <td>10.791879</td>\n",
       "      <td>0.0</td>\n",
       "      <td>30.0</td>\n",
       "    </tr>\n",
       "    <tr>\n",
       "      <th>Young adult</th>\n",
       "      <td>10.838774</td>\n",
       "      <td>0.0</td>\n",
       "      <td>30.0</td>\n",
       "    </tr>\n",
       "  </tbody>\n",
       "</table>\n",
       "</div>"
      ],
      "text/plain": [
       "                  days_since_prior_order           \n",
       "                                    mean  min   max\n",
       "age_group_flag                                     \n",
       "Middle-Aged adult              10.788131  0.0  30.0\n",
       "Old-Aged adult                 10.833339  0.0  30.0\n",
       "Senior                         10.791879  0.0  30.0\n",
       "Young adult                    10.838774  0.0  30.0"
      ]
     },
     "execution_count": 25,
     "metadata": {},
     "output_type": "execute_result"
    }
   ],
   "source": [
    "# usage frequency per age group\n",
    "df_opan.groupby('age_group_flag').agg({'days_since_prior_order':['mean', 'min','max']})"
   ]
  },
  {
   "cell_type": "code",
   "execution_count": 26,
   "id": "ab5d46c6",
   "metadata": {
    "collapsed": true
   },
   "outputs": [
    {
     "data": {
      "text/html": [
       "<div>\n",
       "<style scoped>\n",
       "    .dataframe tbody tr th:only-of-type {\n",
       "        vertical-align: middle;\n",
       "    }\n",
       "\n",
       "    .dataframe tbody tr th {\n",
       "        vertical-align: top;\n",
       "    }\n",
       "\n",
       "    .dataframe thead tr th {\n",
       "        text-align: left;\n",
       "    }\n",
       "\n",
       "    .dataframe thead tr:last-of-type th {\n",
       "        text-align: right;\n",
       "    }\n",
       "</style>\n",
       "<table border=\"1\" class=\"dataframe\">\n",
       "  <thead>\n",
       "    <tr>\n",
       "      <th></th>\n",
       "      <th colspan=\"3\" halign=\"left\">prices</th>\n",
       "    </tr>\n",
       "    <tr>\n",
       "      <th></th>\n",
       "      <th>mean</th>\n",
       "      <th>min</th>\n",
       "      <th>max</th>\n",
       "    </tr>\n",
       "    <tr>\n",
       "      <th>age_group_flag</th>\n",
       "      <th></th>\n",
       "      <th></th>\n",
       "      <th></th>\n",
       "    </tr>\n",
       "  </thead>\n",
       "  <tbody>\n",
       "    <tr>\n",
       "      <th>Middle-Aged adult</th>\n",
       "      <td>7.793286</td>\n",
       "      <td>1.0</td>\n",
       "      <td>25.0</td>\n",
       "    </tr>\n",
       "    <tr>\n",
       "      <th>Old-Aged adult</th>\n",
       "      <td>7.788148</td>\n",
       "      <td>1.0</td>\n",
       "      <td>25.0</td>\n",
       "    </tr>\n",
       "    <tr>\n",
       "      <th>Senior</th>\n",
       "      <td>7.796144</td>\n",
       "      <td>1.0</td>\n",
       "      <td>25.0</td>\n",
       "    </tr>\n",
       "    <tr>\n",
       "      <th>Young adult</th>\n",
       "      <td>7.781398</td>\n",
       "      <td>1.0</td>\n",
       "      <td>25.0</td>\n",
       "    </tr>\n",
       "  </tbody>\n",
       "</table>\n",
       "</div>"
      ],
      "text/plain": [
       "                     prices           \n",
       "                       mean  min   max\n",
       "age_group_flag                        \n",
       "Middle-Aged adult  7.793286  1.0  25.0\n",
       "Old-Aged adult     7.788148  1.0  25.0\n",
       "Senior             7.796144  1.0  25.0\n",
       "Young adult        7.781398  1.0  25.0"
      ]
     },
     "execution_count": 26,
     "metadata": {},
     "output_type": "execute_result"
    }
   ],
   "source": [
    "# aggregate prices\n",
    "df_opan.groupby('age_group_flag').agg({'prices':['mean', 'min','max']})"
   ]
  },
  {
   "cell_type": "markdown",
   "id": "5f52c50c",
   "metadata": {},
   "source": [
    "#### Income"
   ]
  },
  {
   "cell_type": "code",
   "execution_count": 27,
   "id": "e3f13745",
   "metadata": {
    "collapsed": true
   },
   "outputs": [
    {
     "data": {
      "text/html": [
       "<div>\n",
       "<style scoped>\n",
       "    .dataframe tbody tr th:only-of-type {\n",
       "        vertical-align: middle;\n",
       "    }\n",
       "\n",
       "    .dataframe tbody tr th {\n",
       "        vertical-align: top;\n",
       "    }\n",
       "\n",
       "    .dataframe thead tr th {\n",
       "        text-align: left;\n",
       "    }\n",
       "\n",
       "    .dataframe thead tr:last-of-type th {\n",
       "        text-align: right;\n",
       "    }\n",
       "</style>\n",
       "<table border=\"1\" class=\"dataframe\">\n",
       "  <thead>\n",
       "    <tr>\n",
       "      <th></th>\n",
       "      <th colspan=\"3\" halign=\"left\">days_since_prior_order</th>\n",
       "    </tr>\n",
       "    <tr>\n",
       "      <th></th>\n",
       "      <th>mean</th>\n",
       "      <th>min</th>\n",
       "      <th>max</th>\n",
       "    </tr>\n",
       "    <tr>\n",
       "      <th>income_flag</th>\n",
       "      <th></th>\n",
       "      <th></th>\n",
       "      <th></th>\n",
       "    </tr>\n",
       "  </thead>\n",
       "  <tbody>\n",
       "    <tr>\n",
       "      <th>High Income</th>\n",
       "      <td>10.458571</td>\n",
       "      <td>0.0</td>\n",
       "      <td>30.0</td>\n",
       "    </tr>\n",
       "    <tr>\n",
       "      <th>Low income</th>\n",
       "      <td>11.592277</td>\n",
       "      <td>0.0</td>\n",
       "      <td>30.0</td>\n",
       "    </tr>\n",
       "    <tr>\n",
       "      <th>Low middle income</th>\n",
       "      <td>11.111454</td>\n",
       "      <td>0.0</td>\n",
       "      <td>30.0</td>\n",
       "    </tr>\n",
       "    <tr>\n",
       "      <th>Middle income</th>\n",
       "      <td>10.741217</td>\n",
       "      <td>0.0</td>\n",
       "      <td>30.0</td>\n",
       "    </tr>\n",
       "    <tr>\n",
       "      <th>Upper middle income</th>\n",
       "      <td>10.770904</td>\n",
       "      <td>0.0</td>\n",
       "      <td>30.0</td>\n",
       "    </tr>\n",
       "  </tbody>\n",
       "</table>\n",
       "</div>"
      ],
      "text/plain": [
       "                    days_since_prior_order           \n",
       "                                      mean  min   max\n",
       "income_flag                                          \n",
       "High Income                      10.458571  0.0  30.0\n",
       "Low income                       11.592277  0.0  30.0\n",
       "Low middle income                11.111454  0.0  30.0\n",
       "Middle income                    10.741217  0.0  30.0\n",
       "Upper middle income              10.770904  0.0  30.0"
      ]
     },
     "execution_count": 27,
     "metadata": {},
     "output_type": "execute_result"
    }
   ],
   "source": [
    "# usage frequency per age group\n",
    "df_opan.groupby('income_flag').agg({'days_since_prior_order':['mean', 'min','max']})"
   ]
  },
  {
   "cell_type": "code",
   "execution_count": 28,
   "id": "497ad467",
   "metadata": {
    "collapsed": true
   },
   "outputs": [
    {
     "data": {
      "text/html": [
       "<div>\n",
       "<style scoped>\n",
       "    .dataframe tbody tr th:only-of-type {\n",
       "        vertical-align: middle;\n",
       "    }\n",
       "\n",
       "    .dataframe tbody tr th {\n",
       "        vertical-align: top;\n",
       "    }\n",
       "\n",
       "    .dataframe thead tr th {\n",
       "        text-align: left;\n",
       "    }\n",
       "\n",
       "    .dataframe thead tr:last-of-type th {\n",
       "        text-align: right;\n",
       "    }\n",
       "</style>\n",
       "<table border=\"1\" class=\"dataframe\">\n",
       "  <thead>\n",
       "    <tr>\n",
       "      <th></th>\n",
       "      <th colspan=\"3\" halign=\"left\">prices</th>\n",
       "    </tr>\n",
       "    <tr>\n",
       "      <th></th>\n",
       "      <th>mean</th>\n",
       "      <th>min</th>\n",
       "      <th>max</th>\n",
       "    </tr>\n",
       "    <tr>\n",
       "      <th>income_flag</th>\n",
       "      <th></th>\n",
       "      <th></th>\n",
       "      <th></th>\n",
       "    </tr>\n",
       "  </thead>\n",
       "  <tbody>\n",
       "    <tr>\n",
       "      <th>High Income</th>\n",
       "      <td>7.761387</td>\n",
       "      <td>1.0</td>\n",
       "      <td>25.0</td>\n",
       "    </tr>\n",
       "    <tr>\n",
       "      <th>Low income</th>\n",
       "      <td>6.532603</td>\n",
       "      <td>1.0</td>\n",
       "      <td>25.0</td>\n",
       "    </tr>\n",
       "    <tr>\n",
       "      <th>Low middle income</th>\n",
       "      <td>6.933124</td>\n",
       "      <td>1.0</td>\n",
       "      <td>25.0</td>\n",
       "    </tr>\n",
       "    <tr>\n",
       "      <th>Middle income</th>\n",
       "      <td>7.919204</td>\n",
       "      <td>1.0</td>\n",
       "      <td>25.0</td>\n",
       "    </tr>\n",
       "    <tr>\n",
       "      <th>Upper middle income</th>\n",
       "      <td>7.954215</td>\n",
       "      <td>1.0</td>\n",
       "      <td>25.0</td>\n",
       "    </tr>\n",
       "  </tbody>\n",
       "</table>\n",
       "</div>"
      ],
      "text/plain": [
       "                       prices           \n",
       "                         mean  min   max\n",
       "income_flag                             \n",
       "High Income          7.761387  1.0  25.0\n",
       "Low income           6.532603  1.0  25.0\n",
       "Low middle income    6.933124  1.0  25.0\n",
       "Middle income        7.919204  1.0  25.0\n",
       "Upper middle income  7.954215  1.0  25.0"
      ]
     },
     "execution_count": 28,
     "metadata": {},
     "output_type": "execute_result"
    }
   ],
   "source": [
    "# aggregate prices\n",
    "df_opan.groupby('income_flag').agg({'prices':['mean', 'min','max']})"
   ]
  },
  {
   "cell_type": "markdown",
   "id": "5d088b17",
   "metadata": {},
   "source": [
    "#### Household Size"
   ]
  },
  {
   "cell_type": "code",
   "execution_count": 29,
   "id": "ece582c8",
   "metadata": {
    "collapsed": true
   },
   "outputs": [
    {
     "data": {
      "text/html": [
       "<div>\n",
       "<style scoped>\n",
       "    .dataframe tbody tr th:only-of-type {\n",
       "        vertical-align: middle;\n",
       "    }\n",
       "\n",
       "    .dataframe tbody tr th {\n",
       "        vertical-align: top;\n",
       "    }\n",
       "\n",
       "    .dataframe thead tr th {\n",
       "        text-align: left;\n",
       "    }\n",
       "\n",
       "    .dataframe thead tr:last-of-type th {\n",
       "        text-align: right;\n",
       "    }\n",
       "</style>\n",
       "<table border=\"1\" class=\"dataframe\">\n",
       "  <thead>\n",
       "    <tr>\n",
       "      <th></th>\n",
       "      <th colspan=\"3\" halign=\"left\">days_since_prior_order</th>\n",
       "    </tr>\n",
       "    <tr>\n",
       "      <th></th>\n",
       "      <th>mean</th>\n",
       "      <th>min</th>\n",
       "      <th>max</th>\n",
       "    </tr>\n",
       "    <tr>\n",
       "      <th>household_size_flag</th>\n",
       "      <th></th>\n",
       "      <th></th>\n",
       "      <th></th>\n",
       "    </tr>\n",
       "  </thead>\n",
       "  <tbody>\n",
       "    <tr>\n",
       "      <th>Large household</th>\n",
       "      <td>10.816223</td>\n",
       "      <td>0.0</td>\n",
       "      <td>30.0</td>\n",
       "    </tr>\n",
       "    <tr>\n",
       "      <th>Middle household</th>\n",
       "      <td>10.816513</td>\n",
       "      <td>0.0</td>\n",
       "      <td>30.0</td>\n",
       "    </tr>\n",
       "    <tr>\n",
       "      <th>Small household</th>\n",
       "      <td>10.791951</td>\n",
       "      <td>0.0</td>\n",
       "      <td>30.0</td>\n",
       "    </tr>\n",
       "  </tbody>\n",
       "</table>\n",
       "</div>"
      ],
      "text/plain": [
       "                    days_since_prior_order           \n",
       "                                      mean  min   max\n",
       "household_size_flag                                  \n",
       "Large household                  10.816223  0.0  30.0\n",
       "Middle household                 10.816513  0.0  30.0\n",
       "Small household                  10.791951  0.0  30.0"
      ]
     },
     "execution_count": 29,
     "metadata": {},
     "output_type": "execute_result"
    }
   ],
   "source": [
    "# usage frequency per age group\n",
    "df_opan.groupby('household_size_flag').agg({'days_since_prior_order':['mean', 'min','max']})"
   ]
  },
  {
   "cell_type": "code",
   "execution_count": 30,
   "id": "1be9cbf9",
   "metadata": {
    "collapsed": true
   },
   "outputs": [
    {
     "data": {
      "text/html": [
       "<div>\n",
       "<style scoped>\n",
       "    .dataframe tbody tr th:only-of-type {\n",
       "        vertical-align: middle;\n",
       "    }\n",
       "\n",
       "    .dataframe tbody tr th {\n",
       "        vertical-align: top;\n",
       "    }\n",
       "\n",
       "    .dataframe thead tr th {\n",
       "        text-align: left;\n",
       "    }\n",
       "\n",
       "    .dataframe thead tr:last-of-type th {\n",
       "        text-align: right;\n",
       "    }\n",
       "</style>\n",
       "<table border=\"1\" class=\"dataframe\">\n",
       "  <thead>\n",
       "    <tr>\n",
       "      <th></th>\n",
       "      <th colspan=\"3\" halign=\"left\">prices</th>\n",
       "    </tr>\n",
       "    <tr>\n",
       "      <th></th>\n",
       "      <th>mean</th>\n",
       "      <th>min</th>\n",
       "      <th>max</th>\n",
       "    </tr>\n",
       "    <tr>\n",
       "      <th>household_size_flag</th>\n",
       "      <th></th>\n",
       "      <th></th>\n",
       "      <th></th>\n",
       "    </tr>\n",
       "  </thead>\n",
       "  <tbody>\n",
       "    <tr>\n",
       "      <th>Large household</th>\n",
       "      <td>7.792886</td>\n",
       "      <td>1.0</td>\n",
       "      <td>25.0</td>\n",
       "    </tr>\n",
       "    <tr>\n",
       "      <th>Middle household</th>\n",
       "      <td>7.789957</td>\n",
       "      <td>1.0</td>\n",
       "      <td>25.0</td>\n",
       "    </tr>\n",
       "    <tr>\n",
       "      <th>Small household</th>\n",
       "      <td>7.789550</td>\n",
       "      <td>1.0</td>\n",
       "      <td>25.0</td>\n",
       "    </tr>\n",
       "  </tbody>\n",
       "</table>\n",
       "</div>"
      ],
      "text/plain": [
       "                       prices           \n",
       "                         mean  min   max\n",
       "household_size_flag                     \n",
       "Large household      7.792886  1.0  25.0\n",
       "Middle household     7.789957  1.0  25.0\n",
       "Small household      7.789550  1.0  25.0"
      ]
     },
     "execution_count": 30,
     "metadata": {},
     "output_type": "execute_result"
    }
   ],
   "source": [
    "# aggregate prices\n",
    "df_opan.groupby('household_size_flag').agg({'prices':['mean', 'min','max']})"
   ]
  },
  {
   "cell_type": "markdown",
   "id": "b88bccc2",
   "metadata": {},
   "source": [
    "#### Child Age"
   ]
  },
  {
   "cell_type": "code",
   "execution_count": 31,
   "id": "621e2a0c",
   "metadata": {
    "collapsed": true
   },
   "outputs": [
    {
     "data": {
      "text/html": [
       "<div>\n",
       "<style scoped>\n",
       "    .dataframe tbody tr th:only-of-type {\n",
       "        vertical-align: middle;\n",
       "    }\n",
       "\n",
       "    .dataframe tbody tr th {\n",
       "        vertical-align: top;\n",
       "    }\n",
       "\n",
       "    .dataframe thead tr th {\n",
       "        text-align: left;\n",
       "    }\n",
       "\n",
       "    .dataframe thead tr:last-of-type th {\n",
       "        text-align: right;\n",
       "    }\n",
       "</style>\n",
       "<table border=\"1\" class=\"dataframe\">\n",
       "  <thead>\n",
       "    <tr>\n",
       "      <th></th>\n",
       "      <th colspan=\"3\" halign=\"left\">days_since_prior_order</th>\n",
       "    </tr>\n",
       "    <tr>\n",
       "      <th></th>\n",
       "      <th>mean</th>\n",
       "      <th>min</th>\n",
       "      <th>max</th>\n",
       "    </tr>\n",
       "    <tr>\n",
       "      <th>child_age_flag</th>\n",
       "      <th></th>\n",
       "      <th></th>\n",
       "      <th></th>\n",
       "    </tr>\n",
       "  </thead>\n",
       "  <tbody>\n",
       "    <tr>\n",
       "      <th>No children</th>\n",
       "      <td>10.791951</td>\n",
       "      <td>0.0</td>\n",
       "      <td>30.0</td>\n",
       "    </tr>\n",
       "    <tr>\n",
       "      <th>Older children</th>\n",
       "      <td>10.831001</td>\n",
       "      <td>0.0</td>\n",
       "      <td>30.0</td>\n",
       "    </tr>\n",
       "    <tr>\n",
       "      <th>Young children</th>\n",
       "      <td>9.737722</td>\n",
       "      <td>0.0</td>\n",
       "      <td>30.0</td>\n",
       "    </tr>\n",
       "  </tbody>\n",
       "</table>\n",
       "</div>"
      ],
      "text/plain": [
       "               days_since_prior_order           \n",
       "                                 mean  min   max\n",
       "child_age_flag                                  \n",
       "No children                 10.791951  0.0  30.0\n",
       "Older children              10.831001  0.0  30.0\n",
       "Young children               9.737722  0.0  30.0"
      ]
     },
     "execution_count": 31,
     "metadata": {},
     "output_type": "execute_result"
    }
   ],
   "source": [
    "# usage frequency per age group\n",
    "df_opan.groupby('child_age_flag').agg({'days_since_prior_order':['mean', 'min','max']})"
   ]
  },
  {
   "cell_type": "code",
   "execution_count": 32,
   "id": "2d0e8241",
   "metadata": {
    "collapsed": true
   },
   "outputs": [
    {
     "data": {
      "text/html": [
       "<div>\n",
       "<style scoped>\n",
       "    .dataframe tbody tr th:only-of-type {\n",
       "        vertical-align: middle;\n",
       "    }\n",
       "\n",
       "    .dataframe tbody tr th {\n",
       "        vertical-align: top;\n",
       "    }\n",
       "\n",
       "    .dataframe thead tr th {\n",
       "        text-align: left;\n",
       "    }\n",
       "\n",
       "    .dataframe thead tr:last-of-type th {\n",
       "        text-align: right;\n",
       "    }\n",
       "</style>\n",
       "<table border=\"1\" class=\"dataframe\">\n",
       "  <thead>\n",
       "    <tr>\n",
       "      <th></th>\n",
       "      <th colspan=\"3\" halign=\"left\">prices</th>\n",
       "    </tr>\n",
       "    <tr>\n",
       "      <th></th>\n",
       "      <th>mean</th>\n",
       "      <th>min</th>\n",
       "      <th>max</th>\n",
       "    </tr>\n",
       "    <tr>\n",
       "      <th>child_age_flag</th>\n",
       "      <th></th>\n",
       "      <th></th>\n",
       "      <th></th>\n",
       "    </tr>\n",
       "  </thead>\n",
       "  <tbody>\n",
       "    <tr>\n",
       "      <th>No children</th>\n",
       "      <td>7.789550</td>\n",
       "      <td>1.0</td>\n",
       "      <td>25.0</td>\n",
       "    </tr>\n",
       "    <tr>\n",
       "      <th>Older children</th>\n",
       "      <td>7.792857</td>\n",
       "      <td>1.0</td>\n",
       "      <td>25.0</td>\n",
       "    </tr>\n",
       "    <tr>\n",
       "      <th>Young children</th>\n",
       "      <td>7.647681</td>\n",
       "      <td>1.0</td>\n",
       "      <td>15.0</td>\n",
       "    </tr>\n",
       "  </tbody>\n",
       "</table>\n",
       "</div>"
      ],
      "text/plain": [
       "                  prices           \n",
       "                    mean  min   max\n",
       "child_age_flag                     \n",
       "No children     7.789550  1.0  25.0\n",
       "Older children  7.792857  1.0  25.0\n",
       "Young children  7.647681  1.0  15.0"
      ]
     },
     "execution_count": 32,
     "metadata": {},
     "output_type": "execute_result"
    }
   ],
   "source": [
    "# aggregate prices\n",
    "df_opan.groupby('child_age_flag').agg({'prices':['mean', 'min','max']})"
   ]
  },
  {
   "cell_type": "markdown",
   "id": "049fcf18",
   "metadata": {},
   "source": [
    "#### Pet Status"
   ]
  },
  {
   "cell_type": "code",
   "execution_count": 33,
   "id": "af2b7ea5",
   "metadata": {
    "collapsed": true
   },
   "outputs": [
    {
     "data": {
      "text/html": [
       "<div>\n",
       "<style scoped>\n",
       "    .dataframe tbody tr th:only-of-type {\n",
       "        vertical-align: middle;\n",
       "    }\n",
       "\n",
       "    .dataframe tbody tr th {\n",
       "        vertical-align: top;\n",
       "    }\n",
       "\n",
       "    .dataframe thead tr th {\n",
       "        text-align: left;\n",
       "    }\n",
       "\n",
       "    .dataframe thead tr:last-of-type th {\n",
       "        text-align: right;\n",
       "    }\n",
       "</style>\n",
       "<table border=\"1\" class=\"dataframe\">\n",
       "  <thead>\n",
       "    <tr>\n",
       "      <th></th>\n",
       "      <th colspan=\"3\" halign=\"left\">days_since_prior_order</th>\n",
       "    </tr>\n",
       "    <tr>\n",
       "      <th></th>\n",
       "      <th>mean</th>\n",
       "      <th>min</th>\n",
       "      <th>max</th>\n",
       "    </tr>\n",
       "    <tr>\n",
       "      <th>pets_flag</th>\n",
       "      <th></th>\n",
       "      <th></th>\n",
       "      <th></th>\n",
       "    </tr>\n",
       "  </thead>\n",
       "  <tbody>\n",
       "    <tr>\n",
       "      <th>Has Pets</th>\n",
       "      <td>10.182021</td>\n",
       "      <td>0.0</td>\n",
       "      <td>30.0</td>\n",
       "    </tr>\n",
       "    <tr>\n",
       "      <th>No Pets</th>\n",
       "      <td>10.889796</td>\n",
       "      <td>0.0</td>\n",
       "      <td>30.0</td>\n",
       "    </tr>\n",
       "  </tbody>\n",
       "</table>\n",
       "</div>"
      ],
      "text/plain": [
       "          days_since_prior_order           \n",
       "                            mean  min   max\n",
       "pets_flag                                  \n",
       "Has Pets               10.182021  0.0  30.0\n",
       "No Pets                10.889796  0.0  30.0"
      ]
     },
     "execution_count": 33,
     "metadata": {},
     "output_type": "execute_result"
    }
   ],
   "source": [
    "# usage frequency per pet status\n",
    "df_opan.groupby('pets_flag').agg({'days_since_prior_order':['mean', 'min','max']})"
   ]
  },
  {
   "cell_type": "code",
   "execution_count": 34,
   "id": "e67f3c5c",
   "metadata": {
    "collapsed": true
   },
   "outputs": [
    {
     "data": {
      "text/html": [
       "<div>\n",
       "<style scoped>\n",
       "    .dataframe tbody tr th:only-of-type {\n",
       "        vertical-align: middle;\n",
       "    }\n",
       "\n",
       "    .dataframe tbody tr th {\n",
       "        vertical-align: top;\n",
       "    }\n",
       "\n",
       "    .dataframe thead tr th {\n",
       "        text-align: left;\n",
       "    }\n",
       "\n",
       "    .dataframe thead tr:last-of-type th {\n",
       "        text-align: right;\n",
       "    }\n",
       "</style>\n",
       "<table border=\"1\" class=\"dataframe\">\n",
       "  <thead>\n",
       "    <tr>\n",
       "      <th></th>\n",
       "      <th colspan=\"3\" halign=\"left\">prices</th>\n",
       "    </tr>\n",
       "    <tr>\n",
       "      <th></th>\n",
       "      <th>mean</th>\n",
       "      <th>min</th>\n",
       "      <th>max</th>\n",
       "    </tr>\n",
       "    <tr>\n",
       "      <th>pets_flag</th>\n",
       "      <th></th>\n",
       "      <th></th>\n",
       "      <th></th>\n",
       "    </tr>\n",
       "  </thead>\n",
       "  <tbody>\n",
       "    <tr>\n",
       "      <th>Has Pets</th>\n",
       "      <td>7.811730</td>\n",
       "      <td>1.0</td>\n",
       "      <td>25.0</td>\n",
       "    </tr>\n",
       "    <tr>\n",
       "      <th>No Pets</th>\n",
       "      <td>7.787939</td>\n",
       "      <td>1.0</td>\n",
       "      <td>25.0</td>\n",
       "    </tr>\n",
       "  </tbody>\n",
       "</table>\n",
       "</div>"
      ],
      "text/plain": [
       "             prices           \n",
       "               mean  min   max\n",
       "pets_flag                     \n",
       "Has Pets   7.811730  1.0  25.0\n",
       "No Pets    7.787939  1.0  25.0"
      ]
     },
     "execution_count": 34,
     "metadata": {},
     "output_type": "execute_result"
    }
   ],
   "source": [
    "# aggregate prices pet status\n",
    "df_opan.groupby('pets_flag').agg({'prices':['mean', 'min','max']})"
   ]
  },
  {
   "cell_type": "markdown",
   "id": "94956f7c",
   "metadata": {},
   "source": [
    "### H. Cross Examination: Customer Profiles to Regions & Departments"
   ]
  },
  {
   "cell_type": "markdown",
   "id": "0bfee91b",
   "metadata": {},
   "source": [
    "#### Question 8.\n",
    "Compare your customer profiles with regions and departments. Can you identify a link between them? Customers may demonstrate different behaviors across regions, which could make this information important."
   ]
  },
  {
   "cell_type": "markdown",
   "id": "fce69647",
   "metadata": {},
   "source": [
    "#### Age Group"
   ]
  },
  {
   "cell_type": "code",
   "execution_count": 35,
   "id": "bb3da7d6",
   "metadata": {},
   "outputs": [],
   "source": [
    "# creating crosstab for age and region\n",
    "age_reg =pd.crosstab(df_opan['age_group_flag'], df_opan['region'])"
   ]
  },
  {
   "cell_type": "code",
   "execution_count": 36,
   "id": "8f4e14fb",
   "metadata": {
    "collapsed": true
   },
   "outputs": [
    {
     "data": {
      "text/html": [
       "<div>\n",
       "<style scoped>\n",
       "    .dataframe tbody tr th:only-of-type {\n",
       "        vertical-align: middle;\n",
       "    }\n",
       "\n",
       "    .dataframe tbody tr th {\n",
       "        vertical-align: top;\n",
       "    }\n",
       "\n",
       "    .dataframe thead th {\n",
       "        text-align: right;\n",
       "    }\n",
       "</style>\n",
       "<table border=\"1\" class=\"dataframe\">\n",
       "  <thead>\n",
       "    <tr style=\"text-align: right;\">\n",
       "      <th>region</th>\n",
       "      <th>Midwest</th>\n",
       "      <th>Northeast</th>\n",
       "      <th>South</th>\n",
       "      <th>West</th>\n",
       "    </tr>\n",
       "    <tr>\n",
       "      <th>age_group_flag</th>\n",
       "      <th></th>\n",
       "      <th></th>\n",
       "      <th></th>\n",
       "      <th></th>\n",
       "    </tr>\n",
       "  </thead>\n",
       "  <tbody>\n",
       "    <tr>\n",
       "      <th>Middle-Aged adult</th>\n",
       "      <td>1723183</td>\n",
       "      <td>1261452</td>\n",
       "      <td>2449358</td>\n",
       "      <td>1828824</td>\n",
       "    </tr>\n",
       "    <tr>\n",
       "      <th>Old-Aged adult</th>\n",
       "      <td>1720513</td>\n",
       "      <td>1282744</td>\n",
       "      <td>2373650</td>\n",
       "      <td>1907993</td>\n",
       "    </tr>\n",
       "    <tr>\n",
       "      <th>Senior</th>\n",
       "      <td>2356770</td>\n",
       "      <td>1809013</td>\n",
       "      <td>3361229</td>\n",
       "      <td>2585595</td>\n",
       "    </tr>\n",
       "    <tr>\n",
       "      <th>Young adult</th>\n",
       "      <td>1461047</td>\n",
       "      <td>1111476</td>\n",
       "      <td>2126902</td>\n",
       "      <td>1604815</td>\n",
       "    </tr>\n",
       "  </tbody>\n",
       "</table>\n",
       "</div>"
      ],
      "text/plain": [
       "region             Midwest  Northeast    South     West\n",
       "age_group_flag                                         \n",
       "Middle-Aged adult  1723183    1261452  2449358  1828824\n",
       "Old-Aged adult     1720513    1282744  2373650  1907993\n",
       "Senior             2356770    1809013  3361229  2585595\n",
       "Young adult        1461047    1111476  2126902  1604815"
      ]
     },
     "execution_count": 36,
     "metadata": {},
     "output_type": "execute_result"
    }
   ],
   "source": [
    "# check\n",
    "age_reg"
   ]
  },
  {
   "cell_type": "code",
   "execution_count": 37,
   "id": "15643735",
   "metadata": {},
   "outputs": [],
   "source": [
    "# Export to clipboard\n",
    "age_reg.to_clipboard()"
   ]
  },
  {
   "cell_type": "code",
   "execution_count": 38,
   "id": "4154b12e",
   "metadata": {},
   "outputs": [],
   "source": [
    "# creating crosstab for age and department\n",
    "age_dep =pd.crosstab(df_opan['age_group_flag'], df_opan['department_id'])"
   ]
  },
  {
   "cell_type": "code",
   "execution_count": 39,
   "id": "cb7b36ea",
   "metadata": {
    "collapsed": true
   },
   "outputs": [
    {
     "data": {
      "text/html": [
       "<div>\n",
       "<style scoped>\n",
       "    .dataframe tbody tr th:only-of-type {\n",
       "        vertical-align: middle;\n",
       "    }\n",
       "\n",
       "    .dataframe tbody tr th {\n",
       "        vertical-align: top;\n",
       "    }\n",
       "\n",
       "    .dataframe thead th {\n",
       "        text-align: right;\n",
       "    }\n",
       "</style>\n",
       "<table border=\"1\" class=\"dataframe\">\n",
       "  <thead>\n",
       "    <tr style=\"text-align: right;\">\n",
       "      <th>department_id</th>\n",
       "      <th>1</th>\n",
       "      <th>2</th>\n",
       "      <th>3</th>\n",
       "      <th>4</th>\n",
       "      <th>5</th>\n",
       "      <th>6</th>\n",
       "      <th>7</th>\n",
       "      <th>8</th>\n",
       "      <th>9</th>\n",
       "      <th>10</th>\n",
       "      <th>...</th>\n",
       "      <th>12</th>\n",
       "      <th>13</th>\n",
       "      <th>14</th>\n",
       "      <th>15</th>\n",
       "      <th>16</th>\n",
       "      <th>17</th>\n",
       "      <th>18</th>\n",
       "      <th>19</th>\n",
       "      <th>20</th>\n",
       "      <th>21</th>\n",
       "    </tr>\n",
       "    <tr>\n",
       "      <th>age_group_flag</th>\n",
       "      <th></th>\n",
       "      <th></th>\n",
       "      <th></th>\n",
       "      <th></th>\n",
       "      <th></th>\n",
       "      <th></th>\n",
       "      <th></th>\n",
       "      <th></th>\n",
       "      <th></th>\n",
       "      <th></th>\n",
       "      <th></th>\n",
       "      <th></th>\n",
       "      <th></th>\n",
       "      <th></th>\n",
       "      <th></th>\n",
       "      <th></th>\n",
       "      <th></th>\n",
       "      <th></th>\n",
       "      <th></th>\n",
       "      <th></th>\n",
       "      <th></th>\n",
       "    </tr>\n",
       "  </thead>\n",
       "  <tbody>\n",
       "    <tr>\n",
       "      <th>Middle-Aged adult</th>\n",
       "      <td>493299</td>\n",
       "      <td>7866</td>\n",
       "      <td>264380</td>\n",
       "      <td>2136228</td>\n",
       "      <td>34234</td>\n",
       "      <td>60311</td>\n",
       "      <td>596744</td>\n",
       "      <td>21490</td>\n",
       "      <td>191499</td>\n",
       "      <td>7767</td>\n",
       "      <td>...</td>\n",
       "      <td>157423</td>\n",
       "      <td>417211</td>\n",
       "      <td>157252</td>\n",
       "      <td>236040</td>\n",
       "      <td>1221535</td>\n",
       "      <td>164183</td>\n",
       "      <td>97463</td>\n",
       "      <td>647752</td>\n",
       "      <td>236420</td>\n",
       "      <td>14876</td>\n",
       "    </tr>\n",
       "    <tr>\n",
       "      <th>Old-Aged adult</th>\n",
       "      <td>499745</td>\n",
       "      <td>8048</td>\n",
       "      <td>262836</td>\n",
       "      <td>2133423</td>\n",
       "      <td>34330</td>\n",
       "      <td>60379</td>\n",
       "      <td>611229</td>\n",
       "      <td>21405</td>\n",
       "      <td>193877</td>\n",
       "      <td>7795</td>\n",
       "      <td>...</td>\n",
       "      <td>158025</td>\n",
       "      <td>421687</td>\n",
       "      <td>158424</td>\n",
       "      <td>238305</td>\n",
       "      <td>1211427</td>\n",
       "      <td>163879</td>\n",
       "      <td>95840</td>\n",
       "      <td>652604</td>\n",
       "      <td>234694</td>\n",
       "      <td>15510</td>\n",
       "    </tr>\n",
       "    <tr>\n",
       "      <th>Senior</th>\n",
       "      <td>697366</td>\n",
       "      <td>11087</td>\n",
       "      <td>366017</td>\n",
       "      <td>2966397</td>\n",
       "      <td>45628</td>\n",
       "      <td>82578</td>\n",
       "      <td>844687</td>\n",
       "      <td>30570</td>\n",
       "      <td>267652</td>\n",
       "      <td>10929</td>\n",
       "      <td>...</td>\n",
       "      <td>222435</td>\n",
       "      <td>581946</td>\n",
       "      <td>217539</td>\n",
       "      <td>329485</td>\n",
       "      <td>1687944</td>\n",
       "      <td>229979</td>\n",
       "      <td>133019</td>\n",
       "      <td>900333</td>\n",
       "      <td>328967</td>\n",
       "      <td>20703</td>\n",
       "    </tr>\n",
       "    <tr>\n",
       "      <th>Young adult</th>\n",
       "      <td>431321</td>\n",
       "      <td>7410</td>\n",
       "      <td>227595</td>\n",
       "      <td>1843225</td>\n",
       "      <td>30435</td>\n",
       "      <td>52723</td>\n",
       "      <td>519241</td>\n",
       "      <td>19595</td>\n",
       "      <td>169108</td>\n",
       "      <td>6960</td>\n",
       "      <td>...</td>\n",
       "      <td>136898</td>\n",
       "      <td>361861</td>\n",
       "      <td>137635</td>\n",
       "      <td>208244</td>\n",
       "      <td>1056276</td>\n",
       "      <td>141816</td>\n",
       "      <td>84070</td>\n",
       "      <td>565717</td>\n",
       "      <td>203753</td>\n",
       "      <td>13679</td>\n",
       "    </tr>\n",
       "  </tbody>\n",
       "</table>\n",
       "<p>4 rows × 21 columns</p>\n",
       "</div>"
      ],
      "text/plain": [
       "department_id          1      2       3        4      5      6       7   \\\n",
       "age_group_flag                                                            \n",
       "Middle-Aged adult  493299   7866  264380  2136228  34234  60311  596744   \n",
       "Old-Aged adult     499745   8048  262836  2133423  34330  60379  611229   \n",
       "Senior             697366  11087  366017  2966397  45628  82578  844687   \n",
       "Young adult        431321   7410  227595  1843225  30435  52723  519241   \n",
       "\n",
       "department_id         8       9      10  ...      12      13      14      15  \\\n",
       "age_group_flag                           ...                                   \n",
       "Middle-Aged adult  21490  191499   7767  ...  157423  417211  157252  236040   \n",
       "Old-Aged adult     21405  193877   7795  ...  158025  421687  158424  238305   \n",
       "Senior             30570  267652  10929  ...  222435  581946  217539  329485   \n",
       "Young adult        19595  169108   6960  ...  136898  361861  137635  208244   \n",
       "\n",
       "department_id           16      17      18      19      20     21  \n",
       "age_group_flag                                                     \n",
       "Middle-Aged adult  1221535  164183   97463  647752  236420  14876  \n",
       "Old-Aged adult     1211427  163879   95840  652604  234694  15510  \n",
       "Senior             1687944  229979  133019  900333  328967  20703  \n",
       "Young adult        1056276  141816   84070  565717  203753  13679  \n",
       "\n",
       "[4 rows x 21 columns]"
      ]
     },
     "execution_count": 39,
     "metadata": {},
     "output_type": "execute_result"
    }
   ],
   "source": [
    "# check\n",
    "age_dep"
   ]
  },
  {
   "cell_type": "code",
   "execution_count": 40,
   "id": "f9dfb775",
   "metadata": {
    "collapsed": true
   },
   "outputs": [
    {
     "data": {
      "text/html": [
       "<div>\n",
       "<style scoped>\n",
       "    .dataframe tbody tr th:only-of-type {\n",
       "        vertical-align: middle;\n",
       "    }\n",
       "\n",
       "    .dataframe tbody tr th {\n",
       "        vertical-align: top;\n",
       "    }\n",
       "\n",
       "    .dataframe thead th {\n",
       "        text-align: right;\n",
       "    }\n",
       "</style>\n",
       "<table border=\"1\" class=\"dataframe\">\n",
       "  <thead>\n",
       "    <tr style=\"text-align: right;\">\n",
       "      <th></th>\n",
       "      <th>department_id</th>\n",
       "      <th>department</th>\n",
       "    </tr>\n",
       "  </thead>\n",
       "  <tbody>\n",
       "    <tr>\n",
       "      <th>0</th>\n",
       "      <td>1</td>\n",
       "      <td>frozen</td>\n",
       "    </tr>\n",
       "    <tr>\n",
       "      <th>1</th>\n",
       "      <td>2</td>\n",
       "      <td>other</td>\n",
       "    </tr>\n",
       "    <tr>\n",
       "      <th>2</th>\n",
       "      <td>3</td>\n",
       "      <td>bakery</td>\n",
       "    </tr>\n",
       "    <tr>\n",
       "      <th>3</th>\n",
       "      <td>4</td>\n",
       "      <td>produce</td>\n",
       "    </tr>\n",
       "    <tr>\n",
       "      <th>4</th>\n",
       "      <td>5</td>\n",
       "      <td>alcohol</td>\n",
       "    </tr>\n",
       "    <tr>\n",
       "      <th>5</th>\n",
       "      <td>6</td>\n",
       "      <td>international</td>\n",
       "    </tr>\n",
       "    <tr>\n",
       "      <th>6</th>\n",
       "      <td>7</td>\n",
       "      <td>beverages</td>\n",
       "    </tr>\n",
       "    <tr>\n",
       "      <th>7</th>\n",
       "      <td>8</td>\n",
       "      <td>pets</td>\n",
       "    </tr>\n",
       "    <tr>\n",
       "      <th>8</th>\n",
       "      <td>9</td>\n",
       "      <td>dry goods pasta</td>\n",
       "    </tr>\n",
       "    <tr>\n",
       "      <th>9</th>\n",
       "      <td>10</td>\n",
       "      <td>bulk</td>\n",
       "    </tr>\n",
       "    <tr>\n",
       "      <th>10</th>\n",
       "      <td>11</td>\n",
       "      <td>personal care</td>\n",
       "    </tr>\n",
       "    <tr>\n",
       "      <th>11</th>\n",
       "      <td>12</td>\n",
       "      <td>meat seafood</td>\n",
       "    </tr>\n",
       "    <tr>\n",
       "      <th>12</th>\n",
       "      <td>13</td>\n",
       "      <td>pantry</td>\n",
       "    </tr>\n",
       "    <tr>\n",
       "      <th>13</th>\n",
       "      <td>14</td>\n",
       "      <td>breakfast</td>\n",
       "    </tr>\n",
       "    <tr>\n",
       "      <th>14</th>\n",
       "      <td>15</td>\n",
       "      <td>canned goods</td>\n",
       "    </tr>\n",
       "    <tr>\n",
       "      <th>15</th>\n",
       "      <td>16</td>\n",
       "      <td>dairy eggs</td>\n",
       "    </tr>\n",
       "    <tr>\n",
       "      <th>16</th>\n",
       "      <td>17</td>\n",
       "      <td>household</td>\n",
       "    </tr>\n",
       "    <tr>\n",
       "      <th>17</th>\n",
       "      <td>18</td>\n",
       "      <td>babies</td>\n",
       "    </tr>\n",
       "    <tr>\n",
       "      <th>18</th>\n",
       "      <td>19</td>\n",
       "      <td>snacks</td>\n",
       "    </tr>\n",
       "    <tr>\n",
       "      <th>19</th>\n",
       "      <td>20</td>\n",
       "      <td>deli</td>\n",
       "    </tr>\n",
       "    <tr>\n",
       "      <th>20</th>\n",
       "      <td>21</td>\n",
       "      <td>missing</td>\n",
       "    </tr>\n",
       "  </tbody>\n",
       "</table>\n",
       "</div>"
      ],
      "text/plain": [
       "    department_id       department\n",
       "0               1           frozen\n",
       "1               2            other\n",
       "2               3           bakery\n",
       "3               4          produce\n",
       "4               5          alcohol\n",
       "5               6    international\n",
       "6               7        beverages\n",
       "7               8             pets\n",
       "8               9  dry goods pasta\n",
       "9              10             bulk\n",
       "10             11    personal care\n",
       "11             12     meat seafood\n",
       "12             13           pantry\n",
       "13             14        breakfast\n",
       "14             15     canned goods\n",
       "15             16       dairy eggs\n",
       "16             17        household\n",
       "17             18           babies\n",
       "18             19           snacks\n",
       "19             20             deli\n",
       "20             21          missing"
      ]
     },
     "execution_count": 40,
     "metadata": {},
     "output_type": "execute_result"
    }
   ],
   "source": [
    "df_dep"
   ]
  },
  {
   "cell_type": "code",
   "execution_count": 41,
   "id": "eda0f2b0",
   "metadata": {},
   "outputs": [],
   "source": [
    "# Export to clipboard\n",
    "age_dep.to_clipboard()"
   ]
  },
  {
   "cell_type": "markdown",
   "id": "804b2d72",
   "metadata": {},
   "source": [
    "#### Income"
   ]
  },
  {
   "cell_type": "code",
   "execution_count": 42,
   "id": "4e1449d7",
   "metadata": {},
   "outputs": [],
   "source": [
    "# creating crosstab for income and region\n",
    "income_reg =pd.crosstab(df_opan['income_flag'], df_opan['region'])"
   ]
  },
  {
   "cell_type": "code",
   "execution_count": 43,
   "id": "69af49ff",
   "metadata": {
    "collapsed": true
   },
   "outputs": [
    {
     "data": {
      "text/html": [
       "<div>\n",
       "<style scoped>\n",
       "    .dataframe tbody tr th:only-of-type {\n",
       "        vertical-align: middle;\n",
       "    }\n",
       "\n",
       "    .dataframe tbody tr th {\n",
       "        vertical-align: top;\n",
       "    }\n",
       "\n",
       "    .dataframe thead th {\n",
       "        text-align: right;\n",
       "    }\n",
       "</style>\n",
       "<table border=\"1\" class=\"dataframe\">\n",
       "  <thead>\n",
       "    <tr style=\"text-align: right;\">\n",
       "      <th>region</th>\n",
       "      <th>Midwest</th>\n",
       "      <th>Northeast</th>\n",
       "      <th>South</th>\n",
       "      <th>West</th>\n",
       "    </tr>\n",
       "    <tr>\n",
       "      <th>income_flag</th>\n",
       "      <th></th>\n",
       "      <th></th>\n",
       "      <th></th>\n",
       "      <th></th>\n",
       "    </tr>\n",
       "  </thead>\n",
       "  <tbody>\n",
       "    <tr>\n",
       "      <th>High Income</th>\n",
       "      <td>19051</td>\n",
       "      <td>9543</td>\n",
       "      <td>14613</td>\n",
       "      <td>14575</td>\n",
       "    </tr>\n",
       "    <tr>\n",
       "      <th>Low income</th>\n",
       "      <td>53250</td>\n",
       "      <td>33075</td>\n",
       "      <td>65037</td>\n",
       "      <td>42508</td>\n",
       "    </tr>\n",
       "    <tr>\n",
       "      <th>Low middle income</th>\n",
       "      <td>972158</td>\n",
       "      <td>756404</td>\n",
       "      <td>1444146</td>\n",
       "      <td>1085810</td>\n",
       "    </tr>\n",
       "    <tr>\n",
       "      <th>Middle income</th>\n",
       "      <td>2836012</td>\n",
       "      <td>2158722</td>\n",
       "      <td>4138011</td>\n",
       "      <td>3172029</td>\n",
       "    </tr>\n",
       "    <tr>\n",
       "      <th>Upper middle income</th>\n",
       "      <td>3381042</td>\n",
       "      <td>2506941</td>\n",
       "      <td>4649332</td>\n",
       "      <td>3612305</td>\n",
       "    </tr>\n",
       "  </tbody>\n",
       "</table>\n",
       "</div>"
      ],
      "text/plain": [
       "region               Midwest  Northeast    South     West\n",
       "income_flag                                              \n",
       "High Income            19051       9543    14613    14575\n",
       "Low income             53250      33075    65037    42508\n",
       "Low middle income     972158     756404  1444146  1085810\n",
       "Middle income        2836012    2158722  4138011  3172029\n",
       "Upper middle income  3381042    2506941  4649332  3612305"
      ]
     },
     "execution_count": 43,
     "metadata": {},
     "output_type": "execute_result"
    }
   ],
   "source": [
    "# check\n",
    "income_reg"
   ]
  },
  {
   "cell_type": "code",
   "execution_count": 44,
   "id": "7b0a0f9a",
   "metadata": {},
   "outputs": [],
   "source": [
    "# Export to clipboard\n",
    "income_reg.to_clipboard()"
   ]
  },
  {
   "cell_type": "code",
   "execution_count": 45,
   "id": "fc0d30dd",
   "metadata": {},
   "outputs": [],
   "source": [
    "# creating crosstab for income and department\n",
    "income_dep =pd.crosstab(df_opan['income_flag'], df_opan['department_id'])"
   ]
  },
  {
   "cell_type": "code",
   "execution_count": 46,
   "id": "9dc01328",
   "metadata": {
    "collapsed": true
   },
   "outputs": [
    {
     "data": {
      "text/html": [
       "<div>\n",
       "<style scoped>\n",
       "    .dataframe tbody tr th:only-of-type {\n",
       "        vertical-align: middle;\n",
       "    }\n",
       "\n",
       "    .dataframe tbody tr th {\n",
       "        vertical-align: top;\n",
       "    }\n",
       "\n",
       "    .dataframe thead th {\n",
       "        text-align: right;\n",
       "    }\n",
       "</style>\n",
       "<table border=\"1\" class=\"dataframe\">\n",
       "  <thead>\n",
       "    <tr style=\"text-align: right;\">\n",
       "      <th>department_id</th>\n",
       "      <th>1</th>\n",
       "      <th>2</th>\n",
       "      <th>3</th>\n",
       "      <th>4</th>\n",
       "      <th>5</th>\n",
       "      <th>6</th>\n",
       "      <th>7</th>\n",
       "      <th>8</th>\n",
       "      <th>9</th>\n",
       "      <th>10</th>\n",
       "      <th>...</th>\n",
       "      <th>12</th>\n",
       "      <th>13</th>\n",
       "      <th>14</th>\n",
       "      <th>15</th>\n",
       "      <th>16</th>\n",
       "      <th>17</th>\n",
       "      <th>18</th>\n",
       "      <th>19</th>\n",
       "      <th>20</th>\n",
       "      <th>21</th>\n",
       "    </tr>\n",
       "    <tr>\n",
       "      <th>income_flag</th>\n",
       "      <th></th>\n",
       "      <th></th>\n",
       "      <th></th>\n",
       "      <th></th>\n",
       "      <th></th>\n",
       "      <th></th>\n",
       "      <th></th>\n",
       "      <th></th>\n",
       "      <th></th>\n",
       "      <th></th>\n",
       "      <th></th>\n",
       "      <th></th>\n",
       "      <th></th>\n",
       "      <th></th>\n",
       "      <th></th>\n",
       "      <th></th>\n",
       "      <th></th>\n",
       "      <th></th>\n",
       "      <th></th>\n",
       "      <th></th>\n",
       "      <th></th>\n",
       "    </tr>\n",
       "  </thead>\n",
       "  <tbody>\n",
       "    <tr>\n",
       "      <th>High Income</th>\n",
       "      <td>4096</td>\n",
       "      <td>97</td>\n",
       "      <td>2572</td>\n",
       "      <td>11762</td>\n",
       "      <td>1815</td>\n",
       "      <td>512</td>\n",
       "      <td>5487</td>\n",
       "      <td>473</td>\n",
       "      <td>1739</td>\n",
       "      <td>4</td>\n",
       "      <td>...</td>\n",
       "      <td>1384</td>\n",
       "      <td>3609</td>\n",
       "      <td>1317</td>\n",
       "      <td>2146</td>\n",
       "      <td>9761</td>\n",
       "      <td>2818</td>\n",
       "      <td>450</td>\n",
       "      <td>5260</td>\n",
       "      <td>1544</td>\n",
       "      <td>59</td>\n",
       "    </tr>\n",
       "    <tr>\n",
       "      <th>Low income</th>\n",
       "      <td>12769</td>\n",
       "      <td>288</td>\n",
       "      <td>6001</td>\n",
       "      <td>46021</td>\n",
       "      <td>1247</td>\n",
       "      <td>1375</td>\n",
       "      <td>23377</td>\n",
       "      <td>448</td>\n",
       "      <td>3938</td>\n",
       "      <td>333</td>\n",
       "      <td>...</td>\n",
       "      <td>1565</td>\n",
       "      <td>8716</td>\n",
       "      <td>4801</td>\n",
       "      <td>4190</td>\n",
       "      <td>28367</td>\n",
       "      <td>4726</td>\n",
       "      <td>1509</td>\n",
       "      <td>34849</td>\n",
       "      <td>6501</td>\n",
       "      <td>395</td>\n",
       "    </tr>\n",
       "    <tr>\n",
       "      <th>Low middle income</th>\n",
       "      <td>275199</td>\n",
       "      <td>4670</td>\n",
       "      <td>138085</td>\n",
       "      <td>1093531</td>\n",
       "      <td>20952</td>\n",
       "      <td>28865</td>\n",
       "      <td>456365</td>\n",
       "      <td>11334</td>\n",
       "      <td>88463</td>\n",
       "      <td>5641</td>\n",
       "      <td>...</td>\n",
       "      <td>53152</td>\n",
       "      <td>217505</td>\n",
       "      <td>111739</td>\n",
       "      <td>108755</td>\n",
       "      <td>652449</td>\n",
       "      <td>106782</td>\n",
       "      <td>41929</td>\n",
       "      <td>638904</td>\n",
       "      <td>135257</td>\n",
       "      <td>8507</td>\n",
       "    </tr>\n",
       "    <tr>\n",
       "      <th>Middle income</th>\n",
       "      <td>845263</td>\n",
       "      <td>13703</td>\n",
       "      <td>449031</td>\n",
       "      <td>3702719</td>\n",
       "      <td>53286</td>\n",
       "      <td>105760</td>\n",
       "      <td>965697</td>\n",
       "      <td>36189</td>\n",
       "      <td>337004</td>\n",
       "      <td>13259</td>\n",
       "      <td>...</td>\n",
       "      <td>284512</td>\n",
       "      <td>716520</td>\n",
       "      <td>256714</td>\n",
       "      <td>413876</td>\n",
       "      <td>2090155</td>\n",
       "      <td>268390</td>\n",
       "      <td>170250</td>\n",
       "      <td>988052</td>\n",
       "      <td>399977</td>\n",
       "      <td>26411</td>\n",
       "    </tr>\n",
       "    <tr>\n",
       "      <th>Upper middle income</th>\n",
       "      <td>984404</td>\n",
       "      <td>15653</td>\n",
       "      <td>525139</td>\n",
       "      <td>4225240</td>\n",
       "      <td>67327</td>\n",
       "      <td>119479</td>\n",
       "      <td>1120975</td>\n",
       "      <td>44616</td>\n",
       "      <td>390992</td>\n",
       "      <td>14214</td>\n",
       "      <td>...</td>\n",
       "      <td>334168</td>\n",
       "      <td>836355</td>\n",
       "      <td>296279</td>\n",
       "      <td>483107</td>\n",
       "      <td>2396450</td>\n",
       "      <td>317141</td>\n",
       "      <td>196254</td>\n",
       "      <td>1099341</td>\n",
       "      <td>460555</td>\n",
       "      <td>29396</td>\n",
       "    </tr>\n",
       "  </tbody>\n",
       "</table>\n",
       "<p>5 rows × 21 columns</p>\n",
       "</div>"
      ],
      "text/plain": [
       "department_id            1      2       3        4      5       6        7   \\\n",
       "income_flag                                                                   \n",
       "High Income            4096     97    2572    11762   1815     512     5487   \n",
       "Low income            12769    288    6001    46021   1247    1375    23377   \n",
       "Low middle income    275199   4670  138085  1093531  20952   28865   456365   \n",
       "Middle income        845263  13703  449031  3702719  53286  105760   965697   \n",
       "Upper middle income  984404  15653  525139  4225240  67327  119479  1120975   \n",
       "\n",
       "department_id           8       9      10  ...      12      13      14  \\\n",
       "income_flag                                ...                           \n",
       "High Income            473    1739      4  ...    1384    3609    1317   \n",
       "Low income             448    3938    333  ...    1565    8716    4801   \n",
       "Low middle income    11334   88463   5641  ...   53152  217505  111739   \n",
       "Middle income        36189  337004  13259  ...  284512  716520  256714   \n",
       "Upper middle income  44616  390992  14214  ...  334168  836355  296279   \n",
       "\n",
       "department_id            15       16      17      18       19      20     21  \n",
       "income_flag                                                                   \n",
       "High Income            2146     9761    2818     450     5260    1544     59  \n",
       "Low income             4190    28367    4726    1509    34849    6501    395  \n",
       "Low middle income    108755   652449  106782   41929   638904  135257   8507  \n",
       "Middle income        413876  2090155  268390  170250   988052  399977  26411  \n",
       "Upper middle income  483107  2396450  317141  196254  1099341  460555  29396  \n",
       "\n",
       "[5 rows x 21 columns]"
      ]
     },
     "execution_count": 46,
     "metadata": {},
     "output_type": "execute_result"
    }
   ],
   "source": [
    "# check\n",
    "income_dep"
   ]
  },
  {
   "cell_type": "code",
   "execution_count": 47,
   "id": "11f5304b",
   "metadata": {},
   "outputs": [],
   "source": [
    "# Export to clipboard\n",
    "income_dep.to_clipboard()"
   ]
  },
  {
   "cell_type": "markdown",
   "id": "ff3d1b31",
   "metadata": {},
   "source": [
    "#### Household Size"
   ]
  },
  {
   "cell_type": "code",
   "execution_count": 48,
   "id": "529a38dd",
   "metadata": {},
   "outputs": [],
   "source": [
    "# creating crosstab for household size and region\n",
    "house_size_reg =pd.crosstab(df_opan['household_size_flag'], df_opan['region'])"
   ]
  },
  {
   "cell_type": "code",
   "execution_count": 49,
   "id": "ad86143e",
   "metadata": {
    "collapsed": true
   },
   "outputs": [
    {
     "data": {
      "text/html": [
       "<div>\n",
       "<style scoped>\n",
       "    .dataframe tbody tr th:only-of-type {\n",
       "        vertical-align: middle;\n",
       "    }\n",
       "\n",
       "    .dataframe tbody tr th {\n",
       "        vertical-align: top;\n",
       "    }\n",
       "\n",
       "    .dataframe thead th {\n",
       "        text-align: right;\n",
       "    }\n",
       "</style>\n",
       "<table border=\"1\" class=\"dataframe\">\n",
       "  <thead>\n",
       "    <tr style=\"text-align: right;\">\n",
       "      <th>region</th>\n",
       "      <th>Midwest</th>\n",
       "      <th>Northeast</th>\n",
       "      <th>South</th>\n",
       "      <th>West</th>\n",
       "    </tr>\n",
       "    <tr>\n",
       "      <th>household_size_flag</th>\n",
       "      <th></th>\n",
       "      <th></th>\n",
       "      <th></th>\n",
       "      <th></th>\n",
       "    </tr>\n",
       "  </thead>\n",
       "  <tbody>\n",
       "    <tr>\n",
       "      <th>Large household</th>\n",
       "      <td>1787286</td>\n",
       "      <td>1381233</td>\n",
       "      <td>2585864</td>\n",
       "      <td>2018133</td>\n",
       "    </tr>\n",
       "    <tr>\n",
       "      <th>Middle household</th>\n",
       "      <td>3651411</td>\n",
       "      <td>2728970</td>\n",
       "      <td>5143342</td>\n",
       "      <td>3928644</td>\n",
       "    </tr>\n",
       "    <tr>\n",
       "      <th>Small household</th>\n",
       "      <td>1822816</td>\n",
       "      <td>1354482</td>\n",
       "      <td>2581933</td>\n",
       "      <td>1980450</td>\n",
       "    </tr>\n",
       "  </tbody>\n",
       "</table>\n",
       "</div>"
      ],
      "text/plain": [
       "region               Midwest  Northeast    South     West\n",
       "household_size_flag                                      \n",
       "Large household      1787286    1381233  2585864  2018133\n",
       "Middle household     3651411    2728970  5143342  3928644\n",
       "Small household      1822816    1354482  2581933  1980450"
      ]
     },
     "execution_count": 49,
     "metadata": {},
     "output_type": "execute_result"
    }
   ],
   "source": [
    "# check\n",
    "house_size_reg"
   ]
  },
  {
   "cell_type": "code",
   "execution_count": 50,
   "id": "40439e27",
   "metadata": {},
   "outputs": [],
   "source": [
    "# Export to clipboard\n",
    "house_size_reg.to_clipboard()"
   ]
  },
  {
   "cell_type": "code",
   "execution_count": 51,
   "id": "bb71ff14",
   "metadata": {},
   "outputs": [],
   "source": [
    "# creating crosstab for household size and department\n",
    "house_size_dep =pd.crosstab(df_opan['household_size_flag'], df_opan['department_id'])"
   ]
  },
  {
   "cell_type": "code",
   "execution_count": 52,
   "id": "9e181c9e",
   "metadata": {
    "collapsed": true
   },
   "outputs": [
    {
     "data": {
      "text/html": [
       "<div>\n",
       "<style scoped>\n",
       "    .dataframe tbody tr th:only-of-type {\n",
       "        vertical-align: middle;\n",
       "    }\n",
       "\n",
       "    .dataframe tbody tr th {\n",
       "        vertical-align: top;\n",
       "    }\n",
       "\n",
       "    .dataframe thead th {\n",
       "        text-align: right;\n",
       "    }\n",
       "</style>\n",
       "<table border=\"1\" class=\"dataframe\">\n",
       "  <thead>\n",
       "    <tr style=\"text-align: right;\">\n",
       "      <th>department_id</th>\n",
       "      <th>1</th>\n",
       "      <th>2</th>\n",
       "      <th>3</th>\n",
       "      <th>4</th>\n",
       "      <th>5</th>\n",
       "      <th>6</th>\n",
       "      <th>7</th>\n",
       "      <th>8</th>\n",
       "      <th>9</th>\n",
       "      <th>10</th>\n",
       "      <th>...</th>\n",
       "      <th>12</th>\n",
       "      <th>13</th>\n",
       "      <th>14</th>\n",
       "      <th>15</th>\n",
       "      <th>16</th>\n",
       "      <th>17</th>\n",
       "      <th>18</th>\n",
       "      <th>19</th>\n",
       "      <th>20</th>\n",
       "      <th>21</th>\n",
       "    </tr>\n",
       "    <tr>\n",
       "      <th>household_size_flag</th>\n",
       "      <th></th>\n",
       "      <th></th>\n",
       "      <th></th>\n",
       "      <th></th>\n",
       "      <th></th>\n",
       "      <th></th>\n",
       "      <th></th>\n",
       "      <th></th>\n",
       "      <th></th>\n",
       "      <th></th>\n",
       "      <th></th>\n",
       "      <th></th>\n",
       "      <th></th>\n",
       "      <th></th>\n",
       "      <th></th>\n",
       "      <th></th>\n",
       "      <th></th>\n",
       "      <th></th>\n",
       "      <th></th>\n",
       "      <th></th>\n",
       "      <th></th>\n",
       "    </tr>\n",
       "  </thead>\n",
       "  <tbody>\n",
       "    <tr>\n",
       "      <th>Large household</th>\n",
       "      <td>532408</td>\n",
       "      <td>8377</td>\n",
       "      <td>279822</td>\n",
       "      <td>2287719</td>\n",
       "      <td>37333</td>\n",
       "      <td>63473</td>\n",
       "      <td>640927</td>\n",
       "      <td>23142</td>\n",
       "      <td>208412</td>\n",
       "      <td>8403</td>\n",
       "      <td>...</td>\n",
       "      <td>171423</td>\n",
       "      <td>446156</td>\n",
       "      <td>167322</td>\n",
       "      <td>255325</td>\n",
       "      <td>1296264</td>\n",
       "      <td>176284</td>\n",
       "      <td>102585</td>\n",
       "      <td>691799</td>\n",
       "      <td>252592</td>\n",
       "      <td>16435</td>\n",
       "    </tr>\n",
       "    <tr>\n",
       "      <th>Middle household</th>\n",
       "      <td>1059975</td>\n",
       "      <td>17320</td>\n",
       "      <td>559611</td>\n",
       "      <td>4516113</td>\n",
       "      <td>70467</td>\n",
       "      <td>128057</td>\n",
       "      <td>1285633</td>\n",
       "      <td>46316</td>\n",
       "      <td>409428</td>\n",
       "      <td>17048</td>\n",
       "      <td>...</td>\n",
       "      <td>337480</td>\n",
       "      <td>892645</td>\n",
       "      <td>337096</td>\n",
       "      <td>505729</td>\n",
       "      <td>2586542</td>\n",
       "      <td>352215</td>\n",
       "      <td>204479</td>\n",
       "      <td>1384169</td>\n",
       "      <td>497860</td>\n",
       "      <td>32398</td>\n",
       "    </tr>\n",
       "    <tr>\n",
       "      <th>Small household</th>\n",
       "      <td>529348</td>\n",
       "      <td>8714</td>\n",
       "      <td>281395</td>\n",
       "      <td>2275441</td>\n",
       "      <td>36827</td>\n",
       "      <td>64461</td>\n",
       "      <td>645341</td>\n",
       "      <td>23602</td>\n",
       "      <td>204296</td>\n",
       "      <td>8000</td>\n",
       "      <td>...</td>\n",
       "      <td>165878</td>\n",
       "      <td>443904</td>\n",
       "      <td>166432</td>\n",
       "      <td>251020</td>\n",
       "      <td>1294376</td>\n",
       "      <td>171358</td>\n",
       "      <td>103328</td>\n",
       "      <td>690438</td>\n",
       "      <td>253382</td>\n",
       "      <td>15935</td>\n",
       "    </tr>\n",
       "  </tbody>\n",
       "</table>\n",
       "<p>3 rows × 21 columns</p>\n",
       "</div>"
      ],
      "text/plain": [
       "department_id             1      2       3        4      5       6        7   \\\n",
       "household_size_flag                                                            \n",
       "Large household       532408   8377  279822  2287719  37333   63473   640927   \n",
       "Middle household     1059975  17320  559611  4516113  70467  128057  1285633   \n",
       "Small household       529348   8714  281395  2275441  36827   64461   645341   \n",
       "\n",
       "department_id           8       9      10  ...      12      13      14  \\\n",
       "household_size_flag                        ...                           \n",
       "Large household      23142  208412   8403  ...  171423  446156  167322   \n",
       "Middle household     46316  409428  17048  ...  337480  892645  337096   \n",
       "Small household      23602  204296   8000  ...  165878  443904  166432   \n",
       "\n",
       "department_id            15       16      17      18       19      20     21  \n",
       "household_size_flag                                                           \n",
       "Large household      255325  1296264  176284  102585   691799  252592  16435  \n",
       "Middle household     505729  2586542  352215  204479  1384169  497860  32398  \n",
       "Small household      251020  1294376  171358  103328   690438  253382  15935  \n",
       "\n",
       "[3 rows x 21 columns]"
      ]
     },
     "execution_count": 52,
     "metadata": {},
     "output_type": "execute_result"
    }
   ],
   "source": [
    "# check\n",
    "house_size_dep"
   ]
  },
  {
   "cell_type": "code",
   "execution_count": 53,
   "id": "f8a6b23b",
   "metadata": {},
   "outputs": [],
   "source": [
    "# Export to clipboard\n",
    "house_size_dep.to_clipboard()"
   ]
  },
  {
   "cell_type": "code",
   "execution_count": 54,
   "id": "c537bfec",
   "metadata": {},
   "outputs": [],
   "source": [
    "# creating crosstab for pets status and region\n",
    "pets_reg =pd.crosstab(df_opan['pets_flag'], df_opan['region'])"
   ]
  },
  {
   "cell_type": "code",
   "execution_count": 55,
   "id": "8cda344f",
   "metadata": {
    "collapsed": true
   },
   "outputs": [
    {
     "data": {
      "text/html": [
       "<div>\n",
       "<style scoped>\n",
       "    .dataframe tbody tr th:only-of-type {\n",
       "        vertical-align: middle;\n",
       "    }\n",
       "\n",
       "    .dataframe tbody tr th {\n",
       "        vertical-align: top;\n",
       "    }\n",
       "\n",
       "    .dataframe thead th {\n",
       "        text-align: right;\n",
       "    }\n",
       "</style>\n",
       "<table border=\"1\" class=\"dataframe\">\n",
       "  <thead>\n",
       "    <tr style=\"text-align: right;\">\n",
       "      <th>region</th>\n",
       "      <th>Midwest</th>\n",
       "      <th>Northeast</th>\n",
       "      <th>South</th>\n",
       "      <th>West</th>\n",
       "    </tr>\n",
       "    <tr>\n",
       "      <th>pets_flag</th>\n",
       "      <th></th>\n",
       "      <th></th>\n",
       "      <th></th>\n",
       "      <th></th>\n",
       "    </tr>\n",
       "  </thead>\n",
       "  <tbody>\n",
       "    <tr>\n",
       "      <th>Has Pets</th>\n",
       "      <td>827521</td>\n",
       "      <td>598184</td>\n",
       "      <td>1117650</td>\n",
       "      <td>907996</td>\n",
       "    </tr>\n",
       "    <tr>\n",
       "      <th>No Pets</th>\n",
       "      <td>6433992</td>\n",
       "      <td>4866501</td>\n",
       "      <td>9193489</td>\n",
       "      <td>7019231</td>\n",
       "    </tr>\n",
       "  </tbody>\n",
       "</table>\n",
       "</div>"
      ],
      "text/plain": [
       "region     Midwest  Northeast    South     West\n",
       "pets_flag                                      \n",
       "Has Pets    827521     598184  1117650   907996\n",
       "No Pets    6433992    4866501  9193489  7019231"
      ]
     },
     "execution_count": 55,
     "metadata": {},
     "output_type": "execute_result"
    }
   ],
   "source": [
    "# check\n",
    "pets_reg"
   ]
  },
  {
   "cell_type": "code",
   "execution_count": 56,
   "id": "2e2a7dac",
   "metadata": {},
   "outputs": [],
   "source": [
    "# Export to clipboard\n",
    "pets_reg.to_clipboard()"
   ]
  },
  {
   "cell_type": "code",
   "execution_count": 57,
   "id": "8cfb0113",
   "metadata": {},
   "outputs": [],
   "source": [
    "# creating crosstab for pets status and department\n",
    "pets_dep =pd.crosstab(df_opan['pets_flag'], df_opan['department_id'])"
   ]
  },
  {
   "cell_type": "code",
   "execution_count": 58,
   "id": "0cd3cc46",
   "metadata": {
    "collapsed": true
   },
   "outputs": [
    {
     "data": {
      "text/html": [
       "<div>\n",
       "<style scoped>\n",
       "    .dataframe tbody tr th:only-of-type {\n",
       "        vertical-align: middle;\n",
       "    }\n",
       "\n",
       "    .dataframe tbody tr th {\n",
       "        vertical-align: top;\n",
       "    }\n",
       "\n",
       "    .dataframe thead th {\n",
       "        text-align: right;\n",
       "    }\n",
       "</style>\n",
       "<table border=\"1\" class=\"dataframe\">\n",
       "  <thead>\n",
       "    <tr style=\"text-align: right;\">\n",
       "      <th>department_id</th>\n",
       "      <th>1</th>\n",
       "      <th>2</th>\n",
       "      <th>3</th>\n",
       "      <th>4</th>\n",
       "      <th>5</th>\n",
       "      <th>6</th>\n",
       "      <th>7</th>\n",
       "      <th>8</th>\n",
       "      <th>9</th>\n",
       "      <th>10</th>\n",
       "      <th>...</th>\n",
       "      <th>12</th>\n",
       "      <th>13</th>\n",
       "      <th>14</th>\n",
       "      <th>15</th>\n",
       "      <th>16</th>\n",
       "      <th>17</th>\n",
       "      <th>18</th>\n",
       "      <th>19</th>\n",
       "      <th>20</th>\n",
       "      <th>21</th>\n",
       "    </tr>\n",
       "    <tr>\n",
       "      <th>pets_flag</th>\n",
       "      <th></th>\n",
       "      <th></th>\n",
       "      <th></th>\n",
       "      <th></th>\n",
       "      <th></th>\n",
       "      <th></th>\n",
       "      <th></th>\n",
       "      <th></th>\n",
       "      <th></th>\n",
       "      <th></th>\n",
       "      <th></th>\n",
       "      <th></th>\n",
       "      <th></th>\n",
       "      <th></th>\n",
       "      <th></th>\n",
       "      <th></th>\n",
       "      <th></th>\n",
       "      <th></th>\n",
       "      <th></th>\n",
       "      <th></th>\n",
       "      <th></th>\n",
       "    </tr>\n",
       "  </thead>\n",
       "  <tbody>\n",
       "    <tr>\n",
       "      <th>Has Pets</th>\n",
       "      <td>279796</td>\n",
       "      <td>5193</td>\n",
       "      <td>137755</td>\n",
       "      <td>769614</td>\n",
       "      <td>26552</td>\n",
       "      <td>30917</td>\n",
       "      <td>319352</td>\n",
       "      <td>93060</td>\n",
       "      <td>100234</td>\n",
       "      <td>2120</td>\n",
       "      <td>...</td>\n",
       "      <td>79553</td>\n",
       "      <td>215838</td>\n",
       "      <td>74122</td>\n",
       "      <td>125866</td>\n",
       "      <td>524135</td>\n",
       "      <td>133920</td>\n",
       "      <td>35567</td>\n",
       "      <td>305181</td>\n",
       "      <td>109529</td>\n",
       "      <td>7387</td>\n",
       "    </tr>\n",
       "    <tr>\n",
       "      <th>No Pets</th>\n",
       "      <td>1841935</td>\n",
       "      <td>29218</td>\n",
       "      <td>983073</td>\n",
       "      <td>8309659</td>\n",
       "      <td>118075</td>\n",
       "      <td>225074</td>\n",
       "      <td>2252549</td>\n",
       "      <td>0</td>\n",
       "      <td>721902</td>\n",
       "      <td>31331</td>\n",
       "      <td>...</td>\n",
       "      <td>595228</td>\n",
       "      <td>1566867</td>\n",
       "      <td>596728</td>\n",
       "      <td>886208</td>\n",
       "      <td>4653047</td>\n",
       "      <td>565937</td>\n",
       "      <td>374825</td>\n",
       "      <td>2461225</td>\n",
       "      <td>894305</td>\n",
       "      <td>57381</td>\n",
       "    </tr>\n",
       "  </tbody>\n",
       "</table>\n",
       "<p>2 rows × 21 columns</p>\n",
       "</div>"
      ],
      "text/plain": [
       "department_id       1      2       3        4       5       6        7   \\\n",
       "pets_flag                                                                 \n",
       "Has Pets        279796   5193  137755   769614   26552   30917   319352   \n",
       "No Pets        1841935  29218  983073  8309659  118075  225074  2252549   \n",
       "\n",
       "department_id     8       9      10  ...      12       13      14      15  \\\n",
       "pets_flag                            ...                                    \n",
       "Has Pets       93060  100234   2120  ...   79553   215838   74122  125866   \n",
       "No Pets            0  721902  31331  ...  595228  1566867  596728  886208   \n",
       "\n",
       "department_id       16      17      18       19      20     21  \n",
       "pets_flag                                                       \n",
       "Has Pets        524135  133920   35567   305181  109529   7387  \n",
       "No Pets        4653047  565937  374825  2461225  894305  57381  \n",
       "\n",
       "[2 rows x 21 columns]"
      ]
     },
     "execution_count": 58,
     "metadata": {},
     "output_type": "execute_result"
    }
   ],
   "source": [
    "# check\n",
    "pets_dep"
   ]
  },
  {
   "cell_type": "code",
   "execution_count": 59,
   "id": "ee2ceeff",
   "metadata": {},
   "outputs": [],
   "source": [
    "# Export to clipboard\n",
    "house_size_dep.to_clipboard()"
   ]
  },
  {
   "cell_type": "markdown",
   "id": "475c25b9",
   "metadata": {},
   "source": [
    "#### Child Age"
   ]
  },
  {
   "cell_type": "code",
   "execution_count": 60,
   "id": "bd386a69",
   "metadata": {},
   "outputs": [],
   "source": [
    "# creating crosstab for child age and region\n",
    "child_age_reg =pd.crosstab(df_opan['child_age_flag'], df_opan['region'])"
   ]
  },
  {
   "cell_type": "code",
   "execution_count": 61,
   "id": "60a7aca2",
   "metadata": {
    "collapsed": true
   },
   "outputs": [
    {
     "data": {
      "text/html": [
       "<div>\n",
       "<style scoped>\n",
       "    .dataframe tbody tr th:only-of-type {\n",
       "        vertical-align: middle;\n",
       "    }\n",
       "\n",
       "    .dataframe tbody tr th {\n",
       "        vertical-align: top;\n",
       "    }\n",
       "\n",
       "    .dataframe thead th {\n",
       "        text-align: right;\n",
       "    }\n",
       "</style>\n",
       "<table border=\"1\" class=\"dataframe\">\n",
       "  <thead>\n",
       "    <tr style=\"text-align: right;\">\n",
       "      <th>region</th>\n",
       "      <th>Midwest</th>\n",
       "      <th>Northeast</th>\n",
       "      <th>South</th>\n",
       "      <th>West</th>\n",
       "    </tr>\n",
       "    <tr>\n",
       "      <th>child_age_flag</th>\n",
       "      <th></th>\n",
       "      <th></th>\n",
       "      <th></th>\n",
       "      <th></th>\n",
       "    </tr>\n",
       "  </thead>\n",
       "  <tbody>\n",
       "    <tr>\n",
       "      <th>No children</th>\n",
       "      <td>1822816</td>\n",
       "      <td>1354482</td>\n",
       "      <td>2581933</td>\n",
       "      <td>1980450</td>\n",
       "    </tr>\n",
       "    <tr>\n",
       "      <th>Older children</th>\n",
       "      <td>5367664</td>\n",
       "      <td>4055516</td>\n",
       "      <td>7624975</td>\n",
       "      <td>5869664</td>\n",
       "    </tr>\n",
       "    <tr>\n",
       "      <th>Young children</th>\n",
       "      <td>71033</td>\n",
       "      <td>54687</td>\n",
       "      <td>104231</td>\n",
       "      <td>77113</td>\n",
       "    </tr>\n",
       "  </tbody>\n",
       "</table>\n",
       "</div>"
      ],
      "text/plain": [
       "region          Midwest  Northeast    South     West\n",
       "child_age_flag                                      \n",
       "No children     1822816    1354482  2581933  1980450\n",
       "Older children  5367664    4055516  7624975  5869664\n",
       "Young children    71033      54687   104231    77113"
      ]
     },
     "execution_count": 61,
     "metadata": {},
     "output_type": "execute_result"
    }
   ],
   "source": [
    "# check\n",
    "child_age_reg"
   ]
  },
  {
   "cell_type": "code",
   "execution_count": 62,
   "id": "c8742a2e",
   "metadata": {},
   "outputs": [],
   "source": [
    "# Export to clipboard\n",
    "child_age_reg.to_clipboard()"
   ]
  },
  {
   "cell_type": "code",
   "execution_count": 63,
   "id": "c3cbfe0a",
   "metadata": {},
   "outputs": [],
   "source": [
    "# creating crosstab for child age and department\n",
    "child_age_dep =pd.crosstab(df_opan['child_age_flag'], df_opan['department_id'])"
   ]
  },
  {
   "cell_type": "code",
   "execution_count": 64,
   "id": "39e51cd7",
   "metadata": {
    "collapsed": true
   },
   "outputs": [
    {
     "data": {
      "text/html": [
       "<div>\n",
       "<style scoped>\n",
       "    .dataframe tbody tr th:only-of-type {\n",
       "        vertical-align: middle;\n",
       "    }\n",
       "\n",
       "    .dataframe tbody tr th {\n",
       "        vertical-align: top;\n",
       "    }\n",
       "\n",
       "    .dataframe thead th {\n",
       "        text-align: right;\n",
       "    }\n",
       "</style>\n",
       "<table border=\"1\" class=\"dataframe\">\n",
       "  <thead>\n",
       "    <tr style=\"text-align: right;\">\n",
       "      <th>department_id</th>\n",
       "      <th>1</th>\n",
       "      <th>2</th>\n",
       "      <th>3</th>\n",
       "      <th>4</th>\n",
       "      <th>5</th>\n",
       "      <th>6</th>\n",
       "      <th>7</th>\n",
       "      <th>8</th>\n",
       "      <th>9</th>\n",
       "      <th>10</th>\n",
       "      <th>...</th>\n",
       "      <th>12</th>\n",
       "      <th>13</th>\n",
       "      <th>14</th>\n",
       "      <th>15</th>\n",
       "      <th>16</th>\n",
       "      <th>17</th>\n",
       "      <th>18</th>\n",
       "      <th>19</th>\n",
       "      <th>20</th>\n",
       "      <th>21</th>\n",
       "    </tr>\n",
       "    <tr>\n",
       "      <th>child_age_flag</th>\n",
       "      <th></th>\n",
       "      <th></th>\n",
       "      <th></th>\n",
       "      <th></th>\n",
       "      <th></th>\n",
       "      <th></th>\n",
       "      <th></th>\n",
       "      <th></th>\n",
       "      <th></th>\n",
       "      <th></th>\n",
       "      <th></th>\n",
       "      <th></th>\n",
       "      <th></th>\n",
       "      <th></th>\n",
       "      <th></th>\n",
       "      <th></th>\n",
       "      <th></th>\n",
       "      <th></th>\n",
       "      <th></th>\n",
       "      <th></th>\n",
       "      <th></th>\n",
       "    </tr>\n",
       "  </thead>\n",
       "  <tbody>\n",
       "    <tr>\n",
       "      <th>No children</th>\n",
       "      <td>529348</td>\n",
       "      <td>8714</td>\n",
       "      <td>281395</td>\n",
       "      <td>2275441</td>\n",
       "      <td>36827</td>\n",
       "      <td>64461</td>\n",
       "      <td>645341</td>\n",
       "      <td>23602</td>\n",
       "      <td>204296</td>\n",
       "      <td>8000</td>\n",
       "      <td>...</td>\n",
       "      <td>165878</td>\n",
       "      <td>443904</td>\n",
       "      <td>166432</td>\n",
       "      <td>251020</td>\n",
       "      <td>1294376</td>\n",
       "      <td>171358</td>\n",
       "      <td>103328</td>\n",
       "      <td>690438</td>\n",
       "      <td>253382</td>\n",
       "      <td>15935</td>\n",
       "    </tr>\n",
       "    <tr>\n",
       "      <th>Older children</th>\n",
       "      <td>1592383</td>\n",
       "      <td>25697</td>\n",
       "      <td>839433</td>\n",
       "      <td>6803832</td>\n",
       "      <td>107800</td>\n",
       "      <td>191530</td>\n",
       "      <td>1926560</td>\n",
       "      <td>69458</td>\n",
       "      <td>617840</td>\n",
       "      <td>25451</td>\n",
       "      <td>...</td>\n",
       "      <td>508903</td>\n",
       "      <td>1338801</td>\n",
       "      <td>504418</td>\n",
       "      <td>761054</td>\n",
       "      <td>3882806</td>\n",
       "      <td>528499</td>\n",
       "      <td>0</td>\n",
       "      <td>2075968</td>\n",
       "      <td>750452</td>\n",
       "      <td>48833</td>\n",
       "    </tr>\n",
       "    <tr>\n",
       "      <th>Young children</th>\n",
       "      <td>0</td>\n",
       "      <td>0</td>\n",
       "      <td>0</td>\n",
       "      <td>0</td>\n",
       "      <td>0</td>\n",
       "      <td>0</td>\n",
       "      <td>0</td>\n",
       "      <td>0</td>\n",
       "      <td>0</td>\n",
       "      <td>0</td>\n",
       "      <td>...</td>\n",
       "      <td>0</td>\n",
       "      <td>0</td>\n",
       "      <td>0</td>\n",
       "      <td>0</td>\n",
       "      <td>0</td>\n",
       "      <td>0</td>\n",
       "      <td>307064</td>\n",
       "      <td>0</td>\n",
       "      <td>0</td>\n",
       "      <td>0</td>\n",
       "    </tr>\n",
       "  </tbody>\n",
       "</table>\n",
       "<p>3 rows × 21 columns</p>\n",
       "</div>"
      ],
      "text/plain": [
       "department_id        1      2       3        4       5       6        7   \\\n",
       "child_age_flag                                                             \n",
       "No children      529348   8714  281395  2275441   36827   64461   645341   \n",
       "Older children  1592383  25697  839433  6803832  107800  191530  1926560   \n",
       "Young children        0      0       0        0       0       0        0   \n",
       "\n",
       "department_id      8       9      10  ...      12       13      14      15  \\\n",
       "child_age_flag                        ...                                    \n",
       "No children     23602  204296   8000  ...  165878   443904  166432  251020   \n",
       "Older children  69458  617840  25451  ...  508903  1338801  504418  761054   \n",
       "Young children      0       0      0  ...       0        0       0       0   \n",
       "\n",
       "department_id        16      17      18       19      20     21  \n",
       "child_age_flag                                                   \n",
       "No children     1294376  171358  103328   690438  253382  15935  \n",
       "Older children  3882806  528499       0  2075968  750452  48833  \n",
       "Young children        0       0  307064        0       0      0  \n",
       "\n",
       "[3 rows x 21 columns]"
      ]
     },
     "execution_count": 64,
     "metadata": {},
     "output_type": "execute_result"
    }
   ],
   "source": [
    "# check\n",
    "child_age_dep"
   ]
  },
  {
   "cell_type": "code",
   "execution_count": 65,
   "id": "5b85b885",
   "metadata": {},
   "outputs": [],
   "source": [
    "# Export to clipboard\n",
    "child_age_dep.to_clipboard()"
   ]
  },
  {
   "cell_type": "markdown",
   "id": "568b390b",
   "metadata": {},
   "source": [
    "#### Pet Status"
   ]
  },
  {
   "cell_type": "code",
   "execution_count": 66,
   "id": "b4442b7e",
   "metadata": {},
   "outputs": [],
   "source": [
    "# creating crosstab for pets status and region\n",
    "pets_reg =pd.crosstab(df_opan['pets_flag'], df_opan['region'])"
   ]
  },
  {
   "cell_type": "code",
   "execution_count": 67,
   "id": "70d71772",
   "metadata": {
    "collapsed": true
   },
   "outputs": [
    {
     "data": {
      "text/html": [
       "<div>\n",
       "<style scoped>\n",
       "    .dataframe tbody tr th:only-of-type {\n",
       "        vertical-align: middle;\n",
       "    }\n",
       "\n",
       "    .dataframe tbody tr th {\n",
       "        vertical-align: top;\n",
       "    }\n",
       "\n",
       "    .dataframe thead th {\n",
       "        text-align: right;\n",
       "    }\n",
       "</style>\n",
       "<table border=\"1\" class=\"dataframe\">\n",
       "  <thead>\n",
       "    <tr style=\"text-align: right;\">\n",
       "      <th>region</th>\n",
       "      <th>Midwest</th>\n",
       "      <th>Northeast</th>\n",
       "      <th>South</th>\n",
       "      <th>West</th>\n",
       "    </tr>\n",
       "    <tr>\n",
       "      <th>pets_flag</th>\n",
       "      <th></th>\n",
       "      <th></th>\n",
       "      <th></th>\n",
       "      <th></th>\n",
       "    </tr>\n",
       "  </thead>\n",
       "  <tbody>\n",
       "    <tr>\n",
       "      <th>Has Pets</th>\n",
       "      <td>827521</td>\n",
       "      <td>598184</td>\n",
       "      <td>1117650</td>\n",
       "      <td>907996</td>\n",
       "    </tr>\n",
       "    <tr>\n",
       "      <th>No Pets</th>\n",
       "      <td>6433992</td>\n",
       "      <td>4866501</td>\n",
       "      <td>9193489</td>\n",
       "      <td>7019231</td>\n",
       "    </tr>\n",
       "  </tbody>\n",
       "</table>\n",
       "</div>"
      ],
      "text/plain": [
       "region     Midwest  Northeast    South     West\n",
       "pets_flag                                      \n",
       "Has Pets    827521     598184  1117650   907996\n",
       "No Pets    6433992    4866501  9193489  7019231"
      ]
     },
     "execution_count": 67,
     "metadata": {},
     "output_type": "execute_result"
    }
   ],
   "source": [
    "# check\n",
    "pets_reg"
   ]
  },
  {
   "cell_type": "code",
   "execution_count": 68,
   "id": "5638a885",
   "metadata": {},
   "outputs": [],
   "source": [
    "# Export to clipboard\n",
    "pets_reg.to_clipboard()"
   ]
  },
  {
   "cell_type": "code",
   "execution_count": 69,
   "id": "19d1670d",
   "metadata": {},
   "outputs": [],
   "source": [
    "# creating crosstab for pets status and department\n",
    "pets_dep =pd.crosstab(df_opan['pets_flag'], df_opan['department_id'])"
   ]
  },
  {
   "cell_type": "code",
   "execution_count": 70,
   "id": "ac0700a9",
   "metadata": {
    "collapsed": true
   },
   "outputs": [
    {
     "data": {
      "text/html": [
       "<div>\n",
       "<style scoped>\n",
       "    .dataframe tbody tr th:only-of-type {\n",
       "        vertical-align: middle;\n",
       "    }\n",
       "\n",
       "    .dataframe tbody tr th {\n",
       "        vertical-align: top;\n",
       "    }\n",
       "\n",
       "    .dataframe thead th {\n",
       "        text-align: right;\n",
       "    }\n",
       "</style>\n",
       "<table border=\"1\" class=\"dataframe\">\n",
       "  <thead>\n",
       "    <tr style=\"text-align: right;\">\n",
       "      <th>department_id</th>\n",
       "      <th>1</th>\n",
       "      <th>2</th>\n",
       "      <th>3</th>\n",
       "      <th>4</th>\n",
       "      <th>5</th>\n",
       "      <th>6</th>\n",
       "      <th>7</th>\n",
       "      <th>8</th>\n",
       "      <th>9</th>\n",
       "      <th>10</th>\n",
       "      <th>...</th>\n",
       "      <th>12</th>\n",
       "      <th>13</th>\n",
       "      <th>14</th>\n",
       "      <th>15</th>\n",
       "      <th>16</th>\n",
       "      <th>17</th>\n",
       "      <th>18</th>\n",
       "      <th>19</th>\n",
       "      <th>20</th>\n",
       "      <th>21</th>\n",
       "    </tr>\n",
       "    <tr>\n",
       "      <th>pets_flag</th>\n",
       "      <th></th>\n",
       "      <th></th>\n",
       "      <th></th>\n",
       "      <th></th>\n",
       "      <th></th>\n",
       "      <th></th>\n",
       "      <th></th>\n",
       "      <th></th>\n",
       "      <th></th>\n",
       "      <th></th>\n",
       "      <th></th>\n",
       "      <th></th>\n",
       "      <th></th>\n",
       "      <th></th>\n",
       "      <th></th>\n",
       "      <th></th>\n",
       "      <th></th>\n",
       "      <th></th>\n",
       "      <th></th>\n",
       "      <th></th>\n",
       "      <th></th>\n",
       "    </tr>\n",
       "  </thead>\n",
       "  <tbody>\n",
       "    <tr>\n",
       "      <th>Has Pets</th>\n",
       "      <td>279796</td>\n",
       "      <td>5193</td>\n",
       "      <td>137755</td>\n",
       "      <td>769614</td>\n",
       "      <td>26552</td>\n",
       "      <td>30917</td>\n",
       "      <td>319352</td>\n",
       "      <td>93060</td>\n",
       "      <td>100234</td>\n",
       "      <td>2120</td>\n",
       "      <td>...</td>\n",
       "      <td>79553</td>\n",
       "      <td>215838</td>\n",
       "      <td>74122</td>\n",
       "      <td>125866</td>\n",
       "      <td>524135</td>\n",
       "      <td>133920</td>\n",
       "      <td>35567</td>\n",
       "      <td>305181</td>\n",
       "      <td>109529</td>\n",
       "      <td>7387</td>\n",
       "    </tr>\n",
       "    <tr>\n",
       "      <th>No Pets</th>\n",
       "      <td>1841935</td>\n",
       "      <td>29218</td>\n",
       "      <td>983073</td>\n",
       "      <td>8309659</td>\n",
       "      <td>118075</td>\n",
       "      <td>225074</td>\n",
       "      <td>2252549</td>\n",
       "      <td>0</td>\n",
       "      <td>721902</td>\n",
       "      <td>31331</td>\n",
       "      <td>...</td>\n",
       "      <td>595228</td>\n",
       "      <td>1566867</td>\n",
       "      <td>596728</td>\n",
       "      <td>886208</td>\n",
       "      <td>4653047</td>\n",
       "      <td>565937</td>\n",
       "      <td>374825</td>\n",
       "      <td>2461225</td>\n",
       "      <td>894305</td>\n",
       "      <td>57381</td>\n",
       "    </tr>\n",
       "  </tbody>\n",
       "</table>\n",
       "<p>2 rows × 21 columns</p>\n",
       "</div>"
      ],
      "text/plain": [
       "department_id       1      2       3        4       5       6        7   \\\n",
       "pets_flag                                                                 \n",
       "Has Pets        279796   5193  137755   769614   26552   30917   319352   \n",
       "No Pets        1841935  29218  983073  8309659  118075  225074  2252549   \n",
       "\n",
       "department_id     8       9      10  ...      12       13      14      15  \\\n",
       "pets_flag                            ...                                    \n",
       "Has Pets       93060  100234   2120  ...   79553   215838   74122  125866   \n",
       "No Pets            0  721902  31331  ...  595228  1566867  596728  886208   \n",
       "\n",
       "department_id       16      17      18       19      20     21  \n",
       "pets_flag                                                       \n",
       "Has Pets        524135  133920   35567   305181  109529   7387  \n",
       "No Pets        4653047  565937  374825  2461225  894305  57381  \n",
       "\n",
       "[2 rows x 21 columns]"
      ]
     },
     "execution_count": 70,
     "metadata": {},
     "output_type": "execute_result"
    }
   ],
   "source": [
    "# check\n",
    "pets_dep"
   ]
  },
  {
   "cell_type": "code",
   "execution_count": 71,
   "id": "2fe8c1cf",
   "metadata": {},
   "outputs": [],
   "source": [
    "# Export to clipboard\n",
    "pets_dep.to_clipboard()"
   ]
  },
  {
   "cell_type": "markdown",
   "id": "36825c56",
   "metadata": {},
   "source": [
    "### I. Visualizations: Cross Examinations "
   ]
  },
  {
   "cell_type": "markdown",
   "id": "461ab19c",
   "metadata": {},
   "source": [
    "#### Question 9.\n",
    "Produce suitable charts to illustrate your results and export them in your project folder."
   ]
  },
  {
   "cell_type": "code",
   "execution_count": 73,
   "id": "dd881f2d",
   "metadata": {},
   "outputs": [
    {
     "data": {
      "text/plain": [
       "Index(['order_id', 'user_id', 'order_number', 'order_day_of_week',\n",
       "       'order_hour_of_day', 'days_since_prior_order', 'first_order',\n",
       "       'product_id', 'add_to_cart_order', 'reordered', 'product_name',\n",
       "       'aisle_id', 'department_id', 'prices', 'price_range_loc', 'busiest_day',\n",
       "       'busiest_days', 'busiest_period_of_day', 'max_order', 'loyalty_flag',\n",
       "       'avg_price', 'spending_flag', 'order_freq', 'frequency_flag',\n",
       "       'first_name', 'last_name', 'gender', 'state', 'age', 'date_joined',\n",
       "       'no_of_dependants', 'marital_status', 'income', '_merge', 'region',\n",
       "       'age_group_flag', 'income_flag', 'household_size_flag',\n",
       "       'child_age_flag', 'pets_flag'],\n",
       "      dtype='object')"
      ]
     },
     "execution_count": 73,
     "metadata": {},
     "output_type": "execute_result"
    }
   ],
   "source": [
    "# getting overview over variables\n",
    "df_opan.columns"
   ]
  },
  {
   "cell_type": "markdown",
   "id": "befd1155",
   "metadata": {},
   "source": [
    "### Age Groups "
   ]
  },
  {
   "cell_type": "markdown",
   "id": "8598cf2a",
   "metadata": {},
   "source": [
    "#### Spending Flag  & Age Groups"
   ]
  },
  {
   "cell_type": "code",
   "execution_count": 74,
   "id": "633f97f9",
   "metadata": {},
   "outputs": [],
   "source": [
    "# creating crosstab for spending flag and age group\n",
    "age_spending = pd.crosstab(df_opan['age_group_flag'], df_opan['spending_flag'])"
   ]
  },
  {
   "cell_type": "code",
   "execution_count": 75,
   "id": "bc0ad907",
   "metadata": {
    "collapsed": true
   },
   "outputs": [
    {
     "data": {
      "text/html": [
       "<div>\n",
       "<style scoped>\n",
       "    .dataframe tbody tr th:only-of-type {\n",
       "        vertical-align: middle;\n",
       "    }\n",
       "\n",
       "    .dataframe tbody tr th {\n",
       "        vertical-align: top;\n",
       "    }\n",
       "\n",
       "    .dataframe thead th {\n",
       "        text-align: right;\n",
       "    }\n",
       "</style>\n",
       "<table border=\"1\" class=\"dataframe\">\n",
       "  <thead>\n",
       "    <tr style=\"text-align: right;\">\n",
       "      <th>spending_flag</th>\n",
       "      <th>High Spender</th>\n",
       "      <th>Low spender</th>\n",
       "    </tr>\n",
       "    <tr>\n",
       "      <th>age_group_flag</th>\n",
       "      <th></th>\n",
       "      <th></th>\n",
       "    </tr>\n",
       "  </thead>\n",
       "  <tbody>\n",
       "    <tr>\n",
       "      <th>Middle-Aged adult</th>\n",
       "      <td>146620</td>\n",
       "      <td>7116197</td>\n",
       "    </tr>\n",
       "    <tr>\n",
       "      <th>Old-Aged adult</th>\n",
       "      <td>142389</td>\n",
       "      <td>7142511</td>\n",
       "    </tr>\n",
       "    <tr>\n",
       "      <th>Senior</th>\n",
       "      <td>199472</td>\n",
       "      <td>9913135</td>\n",
       "    </tr>\n",
       "    <tr>\n",
       "      <th>Young adult</th>\n",
       "      <td>114944</td>\n",
       "      <td>6189296</td>\n",
       "    </tr>\n",
       "  </tbody>\n",
       "</table>\n",
       "</div>"
      ],
      "text/plain": [
       "spending_flag      High Spender  Low spender\n",
       "age_group_flag                              \n",
       "Middle-Aged adult        146620      7116197\n",
       "Old-Aged adult           142389      7142511\n",
       "Senior                   199472      9913135\n",
       "Young adult              114944      6189296"
      ]
     },
     "execution_count": 75,
     "metadata": {},
     "output_type": "execute_result"
    }
   ],
   "source": [
    "age_spending"
   ]
  },
  {
   "cell_type": "code",
   "execution_count": 77,
   "id": "7c521bd3",
   "metadata": {
    "scrolled": false
   },
   "outputs": [
    {
     "data": {
      "image/png": "[encoded data removed]",
      "text/plain": [
       "<Figure size 640x480 with 1 Axes>"
      ]
     },
     "metadata": {},
     "output_type": "display_data"
    }
   ],
   "source": [
    "# create bar chart for spending flag and age group\n",
    "bar_age_spending = age_spending.plot(kind= 'bar', stacked = True)\n",
    "plt.title('Distribution of Spending Types by Age Group')\n",
    "plt.xlabel('Age Groups')\n",
    "plt.savefig('bar_age_spending.png', bbox_inches='tight')"
   ]
  },
  {
   "cell_type": "markdown",
   "id": "1f6cf81c",
   "metadata": {},
   "source": [
    "#### Order Frequency & Age Groups"
   ]
  },
  {
   "cell_type": "code",
   "execution_count": 78,
   "id": "93746b4f",
   "metadata": {},
   "outputs": [],
   "source": [
    "# creating crosstab for frequency flag and age group\n",
    "age_frequency = pd.crosstab(df_opan['age_group_flag'], df_opan['frequency_flag'])"
   ]
  },
  {
   "cell_type": "code",
   "execution_count": 79,
   "id": "1dc54371",
   "metadata": {
    "collapsed": true
   },
   "outputs": [
    {
     "data": {
      "text/html": [
       "<div>\n",
       "<style scoped>\n",
       "    .dataframe tbody tr th:only-of-type {\n",
       "        vertical-align: middle;\n",
       "    }\n",
       "\n",
       "    .dataframe tbody tr th {\n",
       "        vertical-align: top;\n",
       "    }\n",
       "\n",
       "    .dataframe thead th {\n",
       "        text-align: right;\n",
       "    }\n",
       "</style>\n",
       "<table border=\"1\" class=\"dataframe\">\n",
       "  <thead>\n",
       "    <tr style=\"text-align: right;\">\n",
       "      <th>frequency_flag</th>\n",
       "      <th>Frequent customer</th>\n",
       "      <th>Non-frequent customer</th>\n",
       "      <th>Regular customer</th>\n",
       "    </tr>\n",
       "    <tr>\n",
       "      <th>age_group_flag</th>\n",
       "      <th></th>\n",
       "      <th></th>\n",
       "      <th></th>\n",
       "    </tr>\n",
       "  </thead>\n",
       "  <tbody>\n",
       "    <tr>\n",
       "      <th>Middle-Aged adult</th>\n",
       "      <td>4978785</td>\n",
       "      <td>669513</td>\n",
       "      <td>1614519</td>\n",
       "    </tr>\n",
       "    <tr>\n",
       "      <th>Old-Aged adult</th>\n",
       "      <td>4966368</td>\n",
       "      <td>694275</td>\n",
       "      <td>1624257</td>\n",
       "    </tr>\n",
       "    <tr>\n",
       "      <th>Senior</th>\n",
       "      <td>6941627</td>\n",
       "      <td>942929</td>\n",
       "      <td>2228051</td>\n",
       "    </tr>\n",
       "    <tr>\n",
       "      <th>Young adult</th>\n",
       "      <td>4317696</td>\n",
       "      <td>588258</td>\n",
       "      <td>1398286</td>\n",
       "    </tr>\n",
       "  </tbody>\n",
       "</table>\n",
       "</div>"
      ],
      "text/plain": [
       "frequency_flag     Frequent customer  Non-frequent customer  Regular customer\n",
       "age_group_flag                                                               \n",
       "Middle-Aged adult            4978785                 669513           1614519\n",
       "Old-Aged adult               4966368                 694275           1624257\n",
       "Senior                       6941627                 942929           2228051\n",
       "Young adult                  4317696                 588258           1398286"
      ]
     },
     "execution_count": 79,
     "metadata": {},
     "output_type": "execute_result"
    }
   ],
   "source": [
    "age_frequency"
   ]
  },
  {
   "cell_type": "code",
   "execution_count": 80,
   "id": "48348d3c",
   "metadata": {},
   "outputs": [
    {
     "data": {
      "image/png": "[encoded data removed]",
      "text/plain": [
       "<Figure size 640x480 with 1 Axes>"
      ]
     },
     "metadata": {},
     "output_type": "display_data"
    }
   ],
   "source": [
    "# create bar chart for frequency flag and age group\n",
    "bar_age_frequency = age_frequency.plot(kind= 'bar', stacked = True)\n",
    "plt.title('Order Frequency by Age Group')\n",
    "plt.xlabel('Age Groups')\n",
    "plt.savefig('bar_age_frequency.png', bbox_inches='tight')"
   ]
  },
  {
   "cell_type": "markdown",
   "id": "e9819343",
   "metadata": {},
   "source": [
    "#### Region & Age Groups"
   ]
  },
  {
   "cell_type": "code",
   "execution_count": 82,
   "id": "dfb8ff30",
   "metadata": {},
   "outputs": [],
   "source": [
    "# creating crosstab for age and region\n",
    "age_reg2 = pd.crosstab(df_opan['region'], df_opan['age_group_flag'])"
   ]
  },
  {
   "cell_type": "code",
   "execution_count": 83,
   "id": "fd133727",
   "metadata": {},
   "outputs": [
    {
     "data": {
      "image/png": "[encoded data removed]",
      "text/plain": [
       "<Figure size 640x480 with 1 Axes>"
      ]
     },
     "metadata": {},
     "output_type": "display_data"
    }
   ],
   "source": [
    "# create bar chart Age and Region\n",
    "bar_age_region = age_reg2.plot(kind= 'bar', stacked = False)\n",
    "plt.title('Distribution of Orders by Age Group and Region')\n",
    "plt.xlabel('Regions')\n",
    "plt.savefig('bar_age_region.png', bbox_inches='tight')"
   ]
  },
  {
   "cell_type": "markdown",
   "id": "3385cd20",
   "metadata": {},
   "source": [
    "### Income"
   ]
  },
  {
   "cell_type": "markdown",
   "id": "e020e960",
   "metadata": {},
   "source": [
    "#### Spending Flag & Income Type"
   ]
  },
  {
   "cell_type": "code",
   "execution_count": 84,
   "id": "61cf4594",
   "metadata": {},
   "outputs": [],
   "source": [
    "# creating crosstab for spending flag and income\n",
    "income_spending = pd.crosstab(df_opan['income_flag'], df_opan['spending_flag'])"
   ]
  },
  {
   "cell_type": "code",
   "execution_count": 94,
   "id": "15147dd6",
   "metadata": {
    "collapsed": true
   },
   "outputs": [
    {
     "data": {
      "text/html": [
       "<div>\n",
       "<style scoped>\n",
       "    .dataframe tbody tr th:only-of-type {\n",
       "        vertical-align: middle;\n",
       "    }\n",
       "\n",
       "    .dataframe tbody tr th {\n",
       "        vertical-align: top;\n",
       "    }\n",
       "\n",
       "    .dataframe thead th {\n",
       "        text-align: right;\n",
       "    }\n",
       "</style>\n",
       "<table border=\"1\" class=\"dataframe\">\n",
       "  <thead>\n",
       "    <tr style=\"text-align: right;\">\n",
       "      <th>spending_flag</th>\n",
       "      <th>High Spender</th>\n",
       "      <th>Low spender</th>\n",
       "    </tr>\n",
       "    <tr>\n",
       "      <th>income_flag</th>\n",
       "      <th></th>\n",
       "      <th></th>\n",
       "    </tr>\n",
       "  </thead>\n",
       "  <tbody>\n",
       "    <tr>\n",
       "      <th>High Income</th>\n",
       "      <td>57782</td>\n",
       "      <td>0</td>\n",
       "    </tr>\n",
       "    <tr>\n",
       "      <th>Low income</th>\n",
       "      <td>0</td>\n",
       "      <td>193870</td>\n",
       "    </tr>\n",
       "    <tr>\n",
       "      <th>Low middle income</th>\n",
       "      <td>5121</td>\n",
       "      <td>4253397</td>\n",
       "    </tr>\n",
       "    <tr>\n",
       "      <th>Middle income</th>\n",
       "      <td>74449</td>\n",
       "      <td>12230325</td>\n",
       "    </tr>\n",
       "    <tr>\n",
       "      <th>Upper middle income</th>\n",
       "      <td>466073</td>\n",
       "      <td>13683547</td>\n",
       "    </tr>\n",
       "  </tbody>\n",
       "</table>\n",
       "</div>"
      ],
      "text/plain": [
       "spending_flag        High Spender  Low spender\n",
       "income_flag                                   \n",
       "High Income                 57782            0\n",
       "Low income                      0       193870\n",
       "Low middle income            5121      4253397\n",
       "Middle income               74449     12230325\n",
       "Upper middle income        466073     13683547"
      ]
     },
     "execution_count": 94,
     "metadata": {},
     "output_type": "execute_result"
    }
   ],
   "source": [
    "income_spending"
   ]
  },
  {
   "cell_type": "code",
   "execution_count": 86,
   "id": "975653d3",
   "metadata": {},
   "outputs": [
    {
     "data": {
      "image/png": "[encoded data removed]",
      "text/plain": [
       "<Figure size 640x480 with 1 Axes>"
      ]
     },
     "metadata": {},
     "output_type": "display_data"
    }
   ],
   "source": [
    "# create bar chart Income and Spending\n",
    "bar_income_spending = income_spending.plot(kind= 'bar', stacked = True)\n",
    "plt.title('Distribution of Spending Types by Income')\n",
    "plt.xlabel('Income Types')\n",
    "plt.savefig('bar_income_spending.png', bbox_inches='tight')"
   ]
  },
  {
   "cell_type": "markdown",
   "id": "0bfe290a",
   "metadata": {},
   "source": [
    "#### Order Frequency & Income Type"
   ]
  },
  {
   "cell_type": "code",
   "execution_count": 87,
   "id": "6540871d",
   "metadata": {},
   "outputs": [],
   "source": [
    "# creating crosstab for order frequency and income\n",
    "income_freq = pd.crosstab(df_opan['income_flag'], df_opan['frequency_flag'])"
   ]
  },
  {
   "cell_type": "code",
   "execution_count": 88,
   "id": "a172d084",
   "metadata": {
    "collapsed": true
   },
   "outputs": [
    {
     "data": {
      "text/html": [
       "<div>\n",
       "<style scoped>\n",
       "    .dataframe tbody tr th:only-of-type {\n",
       "        vertical-align: middle;\n",
       "    }\n",
       "\n",
       "    .dataframe tbody tr th {\n",
       "        vertical-align: top;\n",
       "    }\n",
       "\n",
       "    .dataframe thead th {\n",
       "        text-align: right;\n",
       "    }\n",
       "</style>\n",
       "<table border=\"1\" class=\"dataframe\">\n",
       "  <thead>\n",
       "    <tr style=\"text-align: right;\">\n",
       "      <th>frequency_flag</th>\n",
       "      <th>Frequent customer</th>\n",
       "      <th>Non-frequent customer</th>\n",
       "      <th>Regular customer</th>\n",
       "    </tr>\n",
       "    <tr>\n",
       "      <th>income_flag</th>\n",
       "      <th></th>\n",
       "      <th></th>\n",
       "      <th></th>\n",
       "    </tr>\n",
       "  </thead>\n",
       "  <tbody>\n",
       "    <tr>\n",
       "      <th>High Income</th>\n",
       "      <td>39685</td>\n",
       "      <td>4347</td>\n",
       "      <td>13750</td>\n",
       "    </tr>\n",
       "    <tr>\n",
       "      <th>Low income</th>\n",
       "      <td>122153</td>\n",
       "      <td>23611</td>\n",
       "      <td>48106</td>\n",
       "    </tr>\n",
       "    <tr>\n",
       "      <th>Low middle income</th>\n",
       "      <td>2819069</td>\n",
       "      <td>464659</td>\n",
       "      <td>974790</td>\n",
       "    </tr>\n",
       "    <tr>\n",
       "      <th>Middle income</th>\n",
       "      <td>8483557</td>\n",
       "      <td>1116203</td>\n",
       "      <td>2705014</td>\n",
       "    </tr>\n",
       "    <tr>\n",
       "      <th>Upper middle income</th>\n",
       "      <td>9740012</td>\n",
       "      <td>1286155</td>\n",
       "      <td>3123453</td>\n",
       "    </tr>\n",
       "  </tbody>\n",
       "</table>\n",
       "</div>"
      ],
      "text/plain": [
       "frequency_flag       Frequent customer  Non-frequent customer  \\\n",
       "income_flag                                                     \n",
       "High Income                      39685                   4347   \n",
       "Low income                      122153                  23611   \n",
       "Low middle income              2819069                 464659   \n",
       "Middle income                  8483557                1116203   \n",
       "Upper middle income            9740012                1286155   \n",
       "\n",
       "frequency_flag       Regular customer  \n",
       "income_flag                            \n",
       "High Income                     13750  \n",
       "Low income                      48106  \n",
       "Low middle income              974790  \n",
       "Middle income                 2705014  \n",
       "Upper middle income           3123453  "
      ]
     },
     "execution_count": 88,
     "metadata": {},
     "output_type": "execute_result"
    }
   ],
   "source": [
    "income_freq"
   ]
  },
  {
   "cell_type": "code",
   "execution_count": 89,
   "id": "03215572",
   "metadata": {
    "scrolled": false
   },
   "outputs": [
    {
     "data": {
      "image/png": "[encoded data removed]",
      "text/plain": [
       "<Figure size 640x480 with 1 Axes>"
      ]
     },
     "metadata": {},
     "output_type": "display_data"
    }
   ],
   "source": [
    "# create bar chart for frequency flag and income\n",
    "bar_income_freq = income_freq.plot(kind= 'bar', stacked = True)\n",
    "plt.title('Order Frequency by Income Type')\n",
    "plt.xlabel('Income Types')\n",
    "plt.savefig('bar_income_frequency.png', bbox_inches='tight')"
   ]
  },
  {
   "cell_type": "markdown",
   "id": "3ddd6dcc",
   "metadata": {},
   "source": [
    "#### Region & Income Type"
   ]
  },
  {
   "cell_type": "code",
   "execution_count": 90,
   "id": "f4bd5111",
   "metadata": {},
   "outputs": [],
   "source": [
    "# create crosstab region and income\n",
    "income_reg2 =pd.crosstab(df_opan['region'], df_opan['income_flag'])"
   ]
  },
  {
   "cell_type": "code",
   "execution_count": 91,
   "id": "47639864",
   "metadata": {
    "collapsed": true
   },
   "outputs": [
    {
     "data": {
      "text/html": [
       "<div>\n",
       "<style scoped>\n",
       "    .dataframe tbody tr th:only-of-type {\n",
       "        vertical-align: middle;\n",
       "    }\n",
       "\n",
       "    .dataframe tbody tr th {\n",
       "        vertical-align: top;\n",
       "    }\n",
       "\n",
       "    .dataframe thead th {\n",
       "        text-align: right;\n",
       "    }\n",
       "</style>\n",
       "<table border=\"1\" class=\"dataframe\">\n",
       "  <thead>\n",
       "    <tr style=\"text-align: right;\">\n",
       "      <th>income_flag</th>\n",
       "      <th>High Income</th>\n",
       "      <th>Low income</th>\n",
       "      <th>Low middle income</th>\n",
       "      <th>Middle income</th>\n",
       "      <th>Upper middle income</th>\n",
       "    </tr>\n",
       "    <tr>\n",
       "      <th>region</th>\n",
       "      <th></th>\n",
       "      <th></th>\n",
       "      <th></th>\n",
       "      <th></th>\n",
       "      <th></th>\n",
       "    </tr>\n",
       "  </thead>\n",
       "  <tbody>\n",
       "    <tr>\n",
       "      <th>Midwest</th>\n",
       "      <td>19051</td>\n",
       "      <td>53250</td>\n",
       "      <td>972158</td>\n",
       "      <td>2836012</td>\n",
       "      <td>3381042</td>\n",
       "    </tr>\n",
       "    <tr>\n",
       "      <th>Northeast</th>\n",
       "      <td>9543</td>\n",
       "      <td>33075</td>\n",
       "      <td>756404</td>\n",
       "      <td>2158722</td>\n",
       "      <td>2506941</td>\n",
       "    </tr>\n",
       "    <tr>\n",
       "      <th>South</th>\n",
       "      <td>14613</td>\n",
       "      <td>65037</td>\n",
       "      <td>1444146</td>\n",
       "      <td>4138011</td>\n",
       "      <td>4649332</td>\n",
       "    </tr>\n",
       "    <tr>\n",
       "      <th>West</th>\n",
       "      <td>14575</td>\n",
       "      <td>42508</td>\n",
       "      <td>1085810</td>\n",
       "      <td>3172029</td>\n",
       "      <td>3612305</td>\n",
       "    </tr>\n",
       "  </tbody>\n",
       "</table>\n",
       "</div>"
      ],
      "text/plain": [
       "income_flag  High Income  Low income  Low middle income  Middle income  \\\n",
       "region                                                                   \n",
       "Midwest            19051       53250             972158        2836012   \n",
       "Northeast           9543       33075             756404        2158722   \n",
       "South              14613       65037            1444146        4138011   \n",
       "West               14575       42508            1085810        3172029   \n",
       "\n",
       "income_flag  Upper middle income  \n",
       "region                            \n",
       "Midwest                  3381042  \n",
       "Northeast                2506941  \n",
       "South                    4649332  \n",
       "West                     3612305  "
      ]
     },
     "execution_count": 91,
     "metadata": {},
     "output_type": "execute_result"
    }
   ],
   "source": [
    "income_reg2"
   ]
  },
  {
   "cell_type": "code",
   "execution_count": 92,
   "id": "4c569634",
   "metadata": {},
   "outputs": [
    {
     "data": {
      "image/png": "[encoded data removed]",
      "text/plain": [
       "<Figure size 640x480 with 1 Axes>"
      ]
     },
     "metadata": {},
     "output_type": "display_data"
    }
   ],
   "source": [
    "# create bar chart for region and income\n",
    "bar_income_region = income_reg2.plot(kind= 'bar', stacked = True)\n",
    "plt.title('Income Types by Region')\n",
    "plt.xlabel('Regions')\n",
    "plt.savefig('bar_income_region.png', bbox_inches='tight')"
   ]
  },
  {
   "cell_type": "markdown",
   "id": "cd4e3003",
   "metadata": {},
   "source": [
    "### Household Size"
   ]
  },
  {
   "cell_type": "markdown",
   "id": "fa642394",
   "metadata": {},
   "source": [
    "#### Spending Flag & Household Size"
   ]
  },
  {
   "cell_type": "code",
   "execution_count": 92,
   "id": "1bdd554b",
   "metadata": {},
   "outputs": [],
   "source": [
    "# creating crosstab for spending flag and household size\n",
    "household_spending = pd.crosstab(df_opan['household_size_flag'], df_opan['spending_flag'])"
   ]
  },
  {
   "cell_type": "code",
   "execution_count": 95,
   "id": "6628a253",
   "metadata": {},
   "outputs": [
    {
     "data": {
      "image/png": "[encoded data removed]",
      "text/plain": [
       "<Figure size 640x480 with 1 Axes>"
      ]
     },
     "metadata": {},
     "output_type": "display_data"
    }
   ],
   "source": [
    "# create bar chart Household Size and Spending\n",
    "bar_household_spending = household_spending.plot(kind= 'bar', stacked = True)\n",
    "plt.title('Spending Types by Household Size')\n",
    "plt.xlabel('Household Size')\n",
    "plt.savefig('bar_household_size_spending.png', bbox_inches='tight')"
   ]
  },
  {
   "cell_type": "markdown",
   "id": "aec667dd",
   "metadata": {},
   "source": [
    "#### Order Frequency & Household Size"
   ]
  },
  {
   "cell_type": "code",
   "execution_count": 96,
   "id": "5ba652fc",
   "metadata": {},
   "outputs": [],
   "source": [
    "# creating crosstab for order frequency and houesehold size\n",
    "household_freq = pd.crosstab(df_opan['household_size_flag'], df_opan['frequency_flag'])"
   ]
  },
  {
   "cell_type": "code",
   "execution_count": 97,
   "id": "437f3cfb",
   "metadata": {
    "collapsed": true
   },
   "outputs": [
    {
     "data": {
      "text/html": [
       "<div>\n",
       "<style scoped>\n",
       "    .dataframe tbody tr th:only-of-type {\n",
       "        vertical-align: middle;\n",
       "    }\n",
       "\n",
       "    .dataframe tbody tr th {\n",
       "        vertical-align: top;\n",
       "    }\n",
       "\n",
       "    .dataframe thead th {\n",
       "        text-align: right;\n",
       "    }\n",
       "</style>\n",
       "<table border=\"1\" class=\"dataframe\">\n",
       "  <thead>\n",
       "    <tr style=\"text-align: right;\">\n",
       "      <th>frequency_flag</th>\n",
       "      <th>Frequent customer</th>\n",
       "      <th>Non-frequent customer</th>\n",
       "      <th>Regular customer</th>\n",
       "    </tr>\n",
       "    <tr>\n",
       "      <th>household_size_flag</th>\n",
       "      <th></th>\n",
       "      <th></th>\n",
       "      <th></th>\n",
       "    </tr>\n",
       "  </thead>\n",
       "  <tbody>\n",
       "    <tr>\n",
       "      <th>Large household</th>\n",
       "      <td>5317843</td>\n",
       "      <td>723881</td>\n",
       "      <td>1730792</td>\n",
       "    </tr>\n",
       "    <tr>\n",
       "      <th>Middle household</th>\n",
       "      <td>10601496</td>\n",
       "      <td>1454588</td>\n",
       "      <td>3396283</td>\n",
       "    </tr>\n",
       "    <tr>\n",
       "      <th>Small household</th>\n",
       "      <td>5285137</td>\n",
       "      <td>716506</td>\n",
       "      <td>1738038</td>\n",
       "    </tr>\n",
       "  </tbody>\n",
       "</table>\n",
       "</div>"
      ],
      "text/plain": [
       "frequency_flag       Frequent customer  Non-frequent customer  \\\n",
       "household_size_flag                                             \n",
       "Large household                5317843                 723881   \n",
       "Middle household              10601496                1454588   \n",
       "Small household                5285137                 716506   \n",
       "\n",
       "frequency_flag       Regular customer  \n",
       "household_size_flag                    \n",
       "Large household               1730792  \n",
       "Middle household              3396283  \n",
       "Small household               1738038  "
      ]
     },
     "execution_count": 97,
     "metadata": {},
     "output_type": "execute_result"
    }
   ],
   "source": [
    "household_freq"
   ]
  },
  {
   "cell_type": "code",
   "execution_count": 113,
   "id": "945dbefe",
   "metadata": {},
   "outputs": [
    {
     "data": {
      "image/png": "[encoded data removed]",
      "text/plain": [
       "<Figure size 640x480 with 1 Axes>"
      ]
     },
     "metadata": {},
     "output_type": "display_data"
    }
   ],
   "source": [
    "# create bar chart Household Size and Spending\n",
    "bar_household_freq = household_freq.plot(kind= 'barh', stacked = True)\n",
    "plt.title('Order Frequency by Household Size')\n",
    "plt.ylabel(' ')\n",
    "bar_household_freq.legend(loc='upper center',  bbox_to_anchor=(0.5, -0.1), ncol=3)\n",
    "plt.savefig('bar_household_size_frequency.png', bbox_inches='tight')"
   ]
  },
  {
   "cell_type": "markdown",
   "id": "f257d036",
   "metadata": {},
   "source": [
    "#### Region & Household Size"
   ]
  },
  {
   "cell_type": "code",
   "execution_count": 114,
   "id": "6f05bf81",
   "metadata": {},
   "outputs": [],
   "source": [
    "# create crosstab region and income\n",
    "household_reg2 =pd.crosstab(df_opan['region'], df_opan['household_size_flag'])"
   ]
  },
  {
   "cell_type": "code",
   "execution_count": 115,
   "id": "efaee2bd",
   "metadata": {
    "collapsed": true
   },
   "outputs": [
    {
     "data": {
      "text/html": [
       "<div>\n",
       "<style scoped>\n",
       "    .dataframe tbody tr th:only-of-type {\n",
       "        vertical-align: middle;\n",
       "    }\n",
       "\n",
       "    .dataframe tbody tr th {\n",
       "        vertical-align: top;\n",
       "    }\n",
       "\n",
       "    .dataframe thead th {\n",
       "        text-align: right;\n",
       "    }\n",
       "</style>\n",
       "<table border=\"1\" class=\"dataframe\">\n",
       "  <thead>\n",
       "    <tr style=\"text-align: right;\">\n",
       "      <th>household_size_flag</th>\n",
       "      <th>Large household</th>\n",
       "      <th>Middle household</th>\n",
       "      <th>Small household</th>\n",
       "    </tr>\n",
       "    <tr>\n",
       "      <th>region</th>\n",
       "      <th></th>\n",
       "      <th></th>\n",
       "      <th></th>\n",
       "    </tr>\n",
       "  </thead>\n",
       "  <tbody>\n",
       "    <tr>\n",
       "      <th>Midwest</th>\n",
       "      <td>1787286</td>\n",
       "      <td>3651411</td>\n",
       "      <td>1822816</td>\n",
       "    </tr>\n",
       "    <tr>\n",
       "      <th>Northeast</th>\n",
       "      <td>1381233</td>\n",
       "      <td>2728970</td>\n",
       "      <td>1354482</td>\n",
       "    </tr>\n",
       "    <tr>\n",
       "      <th>South</th>\n",
       "      <td>2585864</td>\n",
       "      <td>5143342</td>\n",
       "      <td>2581933</td>\n",
       "    </tr>\n",
       "    <tr>\n",
       "      <th>West</th>\n",
       "      <td>2018133</td>\n",
       "      <td>3928644</td>\n",
       "      <td>1980450</td>\n",
       "    </tr>\n",
       "  </tbody>\n",
       "</table>\n",
       "</div>"
      ],
      "text/plain": [
       "household_size_flag  Large household  Middle household  Small household\n",
       "region                                                                 \n",
       "Midwest                      1787286           3651411          1822816\n",
       "Northeast                    1381233           2728970          1354482\n",
       "South                        2585864           5143342          2581933\n",
       "West                         2018133           3928644          1980450"
      ]
     },
     "execution_count": 115,
     "metadata": {},
     "output_type": "execute_result"
    }
   ],
   "source": [
    "household_reg2"
   ]
  },
  {
   "cell_type": "code",
   "execution_count": 116,
   "id": "d75bc078",
   "metadata": {},
   "outputs": [
    {
     "data": {
      "image/png": "[encoded data removed]",
      "text/plain": [
       "<Figure size 640x480 with 1 Axes>"
      ]
     },
     "metadata": {},
     "output_type": "display_data"
    }
   ],
   "source": [
    "# create bar chart for region and household size\n",
    "bar_household_region = household_reg2.plot(kind= 'bar', stacked = True)\n",
    "plt.title('Order Distribution per Household Size by Region')\n",
    "plt.xlabel('Regions')\n",
    "plt.savefig('bar_household_size_region.png', bbox_inches='tight')"
   ]
  }
 ],
 "metadata": {
  "kernelspec": {
   "display_name": "Python 3 (ipykernel)",
   "language": "python",
   "name": "python3"
  },
  "language_info": {
   "codemirror_mode": {
    "name": "ipython",
    "version": 3
   },
   "file_extension": ".py",
   "mimetype": "text/x-python",
   "name": "python",
   "nbconvert_exporter": "python",
   "pygments_lexer": "ipython3",
   "version": "3.9.13"
  },
  "varInspector": {
   "cols": {
    "lenName": 16,
    "lenType": 16,
    "lenVar": 40
   },
   "kernels_config": {
    "python": {
     "delete_cmd_postfix": "",
     "delete_cmd_prefix": "del ",
     "library": "var_list.py",
     "varRefreshCmd": "print(var_dic_list())"
    },
    "r": {
     "delete_cmd_postfix": ") ",
     "delete_cmd_prefix": "rm(",
     "library": "var_list.r",
     "varRefreshCmd": "cat(var_dic_list()) "
    }
   },
   "types_to_exclude": [
    "module",
    "function",
    "builtin_function_or_method",
    "instance",
    "_Feature"
   ],
   "window_display": false
  }
 },
 "nbformat": 4,
 "nbformat_minor": 5
}
