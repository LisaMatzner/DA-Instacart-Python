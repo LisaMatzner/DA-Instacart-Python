{
 "cells": [
  {
   "cell_type": "markdown",
   "id": "4dca8a70",
   "metadata": {},
   "source": [
    "# Task 4.9 Data Visualization with Python - Part 1"
   ]
  },
  {
   "cell_type": "markdown",
   "id": "63b42ffd",
   "metadata": {},
   "source": [
    "### This notebook contains:\n",
    "    01. Importing Libraries\n",
    "    02. Importing Data\n",
    "    03. Data Preparation & Combination\n",
    "        A. Data Wrangling\n",
    "        B. Data Quality & Concistency Checks\n",
    "        C. Combining Data\n",
    "        D. Exporting Data"
   ]
  },
  {
   "cell_type": "markdown",
   "id": "79623281",
   "metadata": {},
   "source": [
    "## 01. Importing Libraries"
   ]
  },
  {
   "cell_type": "code",
   "execution_count": 1,
   "id": "3f8c4bc8",
   "metadata": {},
   "outputs": [],
   "source": [
    "import pandas as pd\n",
    "import numpy as np\n",
    "import os"
   ]
  },
  {
   "cell_type": "markdown",
   "id": "84f1d168",
   "metadata": {},
   "source": [
    "## 02. Importing Data"
   ]
  },
  {
   "cell_type": "code",
   "execution_count": 2,
   "id": "42543d9b",
   "metadata": {},
   "outputs": [],
   "source": [
    "# turning project folder path into string\n",
    "path = r'/Users/lisa/DA Projects/12-2022 Instacart Basket Analysis'"
   ]
  },
  {
   "cell_type": "code",
   "execution_count": 3,
   "id": "f7d70d2f",
   "metadata": {},
   "outputs": [],
   "source": [
    "# Importing customer data set\n",
    "df_cust = pd.read_csv(os.path.join(path, '02 Data', 'Original Data', 'customers.csv'))"
   ]
  },
  {
   "cell_type": "code",
   "execution_count": 4,
   "id": "d627a9cd",
   "metadata": {},
   "outputs": [],
   "source": [
    "# Importing orders products merged\n",
    "ords_prods_merge = pd.read_pickle(os.path.join(path, '02 Data', 'Prepared Data', 'orders_products_grouped.pkl'))"
   ]
  },
  {
   "cell_type": "markdown",
   "id": "173dd104",
   "metadata": {},
   "source": [
    "## 03. Data Cleaning"
   ]
  },
  {
   "cell_type": "markdown",
   "id": "94869b16",
   "metadata": {},
   "source": [
    "### A. Data Wrangling"
   ]
  },
  {
   "cell_type": "code",
   "execution_count": 5,
   "id": "0b799e15",
   "metadata": {},
   "outputs": [
    {
     "data": {
      "text/html": [
       "<div>\n",
       "<style scoped>\n",
       "    .dataframe tbody tr th:only-of-type {\n",
       "        vertical-align: middle;\n",
       "    }\n",
       "\n",
       "    .dataframe tbody tr th {\n",
       "        vertical-align: top;\n",
       "    }\n",
       "\n",
       "    .dataframe thead th {\n",
       "        text-align: right;\n",
       "    }\n",
       "</style>\n",
       "<table border=\"1\" class=\"dataframe\">\n",
       "  <thead>\n",
       "    <tr style=\"text-align: right;\">\n",
       "      <th></th>\n",
       "      <th>user_id</th>\n",
       "      <th>First Name</th>\n",
       "      <th>Surnam</th>\n",
       "      <th>Gender</th>\n",
       "      <th>STATE</th>\n",
       "      <th>Age</th>\n",
       "      <th>date_joined</th>\n",
       "      <th>n_dependants</th>\n",
       "      <th>fam_status</th>\n",
       "      <th>income</th>\n",
       "    </tr>\n",
       "  </thead>\n",
       "  <tbody>\n",
       "    <tr>\n",
       "      <th>0</th>\n",
       "      <td>26711</td>\n",
       "      <td>Deborah</td>\n",
       "      <td>Esquivel</td>\n",
       "      <td>Female</td>\n",
       "      <td>Missouri</td>\n",
       "      <td>48</td>\n",
       "      <td>1/1/2017</td>\n",
       "      <td>3</td>\n",
       "      <td>married</td>\n",
       "      <td>165665</td>\n",
       "    </tr>\n",
       "    <tr>\n",
       "      <th>1</th>\n",
       "      <td>33890</td>\n",
       "      <td>Patricia</td>\n",
       "      <td>Hart</td>\n",
       "      <td>Female</td>\n",
       "      <td>New Mexico</td>\n",
       "      <td>36</td>\n",
       "      <td>1/1/2017</td>\n",
       "      <td>0</td>\n",
       "      <td>single</td>\n",
       "      <td>59285</td>\n",
       "    </tr>\n",
       "    <tr>\n",
       "      <th>2</th>\n",
       "      <td>65803</td>\n",
       "      <td>Kenneth</td>\n",
       "      <td>Farley</td>\n",
       "      <td>Male</td>\n",
       "      <td>Idaho</td>\n",
       "      <td>35</td>\n",
       "      <td>1/1/2017</td>\n",
       "      <td>2</td>\n",
       "      <td>married</td>\n",
       "      <td>99568</td>\n",
       "    </tr>\n",
       "    <tr>\n",
       "      <th>3</th>\n",
       "      <td>125935</td>\n",
       "      <td>Michelle</td>\n",
       "      <td>Hicks</td>\n",
       "      <td>Female</td>\n",
       "      <td>Iowa</td>\n",
       "      <td>40</td>\n",
       "      <td>1/1/2017</td>\n",
       "      <td>0</td>\n",
       "      <td>single</td>\n",
       "      <td>42049</td>\n",
       "    </tr>\n",
       "    <tr>\n",
       "      <th>4</th>\n",
       "      <td>130797</td>\n",
       "      <td>Ann</td>\n",
       "      <td>Gilmore</td>\n",
       "      <td>Female</td>\n",
       "      <td>Maryland</td>\n",
       "      <td>26</td>\n",
       "      <td>1/1/2017</td>\n",
       "      <td>1</td>\n",
       "      <td>married</td>\n",
       "      <td>40374</td>\n",
       "    </tr>\n",
       "    <tr>\n",
       "      <th>5</th>\n",
       "      <td>133128</td>\n",
       "      <td>Cynthia</td>\n",
       "      <td>Noble</td>\n",
       "      <td>Female</td>\n",
       "      <td>Kentucky</td>\n",
       "      <td>43</td>\n",
       "      <td>1/1/2017</td>\n",
       "      <td>2</td>\n",
       "      <td>married</td>\n",
       "      <td>49643</td>\n",
       "    </tr>\n",
       "    <tr>\n",
       "      <th>6</th>\n",
       "      <td>152052</td>\n",
       "      <td>Chris</td>\n",
       "      <td>Walton</td>\n",
       "      <td>Male</td>\n",
       "      <td>Montana</td>\n",
       "      <td>20</td>\n",
       "      <td>1/1/2017</td>\n",
       "      <td>0</td>\n",
       "      <td>single</td>\n",
       "      <td>61746</td>\n",
       "    </tr>\n",
       "    <tr>\n",
       "      <th>7</th>\n",
       "      <td>168851</td>\n",
       "      <td>Joseph</td>\n",
       "      <td>Hickman</td>\n",
       "      <td>Male</td>\n",
       "      <td>South Carolina</td>\n",
       "      <td>30</td>\n",
       "      <td>1/1/2017</td>\n",
       "      <td>0</td>\n",
       "      <td>single</td>\n",
       "      <td>63712</td>\n",
       "    </tr>\n",
       "    <tr>\n",
       "      <th>8</th>\n",
       "      <td>69965</td>\n",
       "      <td>Jeremy</td>\n",
       "      <td>Vang</td>\n",
       "      <td>Male</td>\n",
       "      <td>Texas</td>\n",
       "      <td>47</td>\n",
       "      <td>1/1/2017</td>\n",
       "      <td>1</td>\n",
       "      <td>married</td>\n",
       "      <td>162432</td>\n",
       "    </tr>\n",
       "    <tr>\n",
       "      <th>9</th>\n",
       "      <td>82820</td>\n",
       "      <td>Shawn</td>\n",
       "      <td>Chung</td>\n",
       "      <td>Male</td>\n",
       "      <td>Virginia</td>\n",
       "      <td>26</td>\n",
       "      <td>1/1/2017</td>\n",
       "      <td>2</td>\n",
       "      <td>married</td>\n",
       "      <td>32072</td>\n",
       "    </tr>\n",
       "  </tbody>\n",
       "</table>\n",
       "</div>"
      ],
      "text/plain": [
       "   user_id First Name    Surnam  Gender           STATE  Age date_joined  \\\n",
       "0    26711    Deborah  Esquivel  Female        Missouri   48    1/1/2017   \n",
       "1    33890   Patricia      Hart  Female      New Mexico   36    1/1/2017   \n",
       "2    65803    Kenneth    Farley    Male           Idaho   35    1/1/2017   \n",
       "3   125935   Michelle     Hicks  Female            Iowa   40    1/1/2017   \n",
       "4   130797        Ann   Gilmore  Female        Maryland   26    1/1/2017   \n",
       "5   133128    Cynthia     Noble  Female        Kentucky   43    1/1/2017   \n",
       "6   152052      Chris    Walton    Male         Montana   20    1/1/2017   \n",
       "7   168851     Joseph   Hickman    Male  South Carolina   30    1/1/2017   \n",
       "8    69965     Jeremy      Vang    Male           Texas   47    1/1/2017   \n",
       "9    82820      Shawn     Chung    Male        Virginia   26    1/1/2017   \n",
       "\n",
       "   n_dependants fam_status  income  \n",
       "0             3    married  165665  \n",
       "1             0     single   59285  \n",
       "2             2    married   99568  \n",
       "3             0     single   42049  \n",
       "4             1    married   40374  \n",
       "5             2    married   49643  \n",
       "6             0     single   61746  \n",
       "7             0     single   63712  \n",
       "8             1    married  162432  \n",
       "9             2    married   32072  "
      ]
     },
     "execution_count": 5,
     "metadata": {},
     "output_type": "execute_result"
    }
   ],
   "source": [
    "# initial check columns\n",
    "df_cust.head(10)"
   ]
  },
  {
   "cell_type": "code",
   "execution_count": 6,
   "id": "0294777c",
   "metadata": {},
   "outputs": [
    {
     "data": {
      "text/plain": [
       "(206209, 10)"
      ]
     },
     "execution_count": 6,
     "metadata": {},
     "output_type": "execute_result"
    }
   ],
   "source": [
    "# initial check shape\n",
    "df_cust.shape"
   ]
  },
  {
   "cell_type": "code",
   "execution_count": 7,
   "id": "50836069",
   "metadata": {},
   "outputs": [
    {
     "data": {
      "text/plain": [
       "user_id          int64\n",
       "First Name      object\n",
       "Surnam          object\n",
       "Gender          object\n",
       "STATE           object\n",
       "Age              int64\n",
       "date_joined     object\n",
       "n_dependants     int64\n",
       "fam_status      object\n",
       "income           int64\n",
       "dtype: object"
      ]
     },
     "execution_count": 7,
     "metadata": {},
     "output_type": "execute_result"
    }
   ],
   "source": [
    "# initial check data types\n",
    "df_cust.dtypes"
   ]
  },
  {
   "cell_type": "markdown",
   "id": "2a8bebca",
   "metadata": {},
   "source": [
    "#### Renaming Columns"
   ]
  },
  {
   "cell_type": "code",
   "execution_count": 8,
   "id": "f4f84fa0",
   "metadata": {},
   "outputs": [],
   "source": [
    "# changing column name First Name\n",
    "df_cust.rename(columns = {'First Name' : 'first_name'}, inplace = True)"
   ]
  },
  {
   "cell_type": "code",
   "execution_count": 9,
   "id": "10df76d8",
   "metadata": {},
   "outputs": [],
   "source": [
    "# changing column name Surnam\n",
    "df_cust.rename(columns = {'Surnam' : 'last_name'}, inplace = True)"
   ]
  },
  {
   "cell_type": "code",
   "execution_count": 10,
   "id": "610d5d59",
   "metadata": {},
   "outputs": [],
   "source": [
    "# changing column name Gender\n",
    "df_cust.rename(columns = {'Gender' : 'gender'}, inplace = True)"
   ]
  },
  {
   "cell_type": "code",
   "execution_count": 11,
   "id": "fffda94c",
   "metadata": {},
   "outputs": [],
   "source": [
    "# changing column name STATE\n",
    "df_cust.rename(columns = {'STATE' : 'state'}, inplace = True)"
   ]
  },
  {
   "cell_type": "code",
   "execution_count": 12,
   "id": "fdf69ab1",
   "metadata": {},
   "outputs": [],
   "source": [
    "# changing column name Age\n",
    "df_cust.rename(columns = {'Age' : 'age'}, inplace = True)"
   ]
  },
  {
   "cell_type": "code",
   "execution_count": 13,
   "id": "67b5844e",
   "metadata": {},
   "outputs": [],
   "source": [
    "# changing column name n_dependants\n",
    "df_cust.rename(columns = {'n_dependants' : 'no_of_dependants'}, inplace = True)"
   ]
  },
  {
   "cell_type": "code",
   "execution_count": 14,
   "id": "7448df5c",
   "metadata": {},
   "outputs": [],
   "source": [
    "# changing column name fam_status\n",
    "df_cust.rename(columns = {'fam_status' : 'marital_status'}, inplace = True)"
   ]
  },
  {
   "cell_type": "code",
   "execution_count": 15,
   "id": "a950b471",
   "metadata": {},
   "outputs": [
    {
     "data": {
      "text/html": [
       "<div>\n",
       "<style scoped>\n",
       "    .dataframe tbody tr th:only-of-type {\n",
       "        vertical-align: middle;\n",
       "    }\n",
       "\n",
       "    .dataframe tbody tr th {\n",
       "        vertical-align: top;\n",
       "    }\n",
       "\n",
       "    .dataframe thead th {\n",
       "        text-align: right;\n",
       "    }\n",
       "</style>\n",
       "<table border=\"1\" class=\"dataframe\">\n",
       "  <thead>\n",
       "    <tr style=\"text-align: right;\">\n",
       "      <th></th>\n",
       "      <th>user_id</th>\n",
       "      <th>first_name</th>\n",
       "      <th>last_name</th>\n",
       "      <th>gender</th>\n",
       "      <th>state</th>\n",
       "      <th>age</th>\n",
       "      <th>date_joined</th>\n",
       "      <th>no_of_dependants</th>\n",
       "      <th>marital_status</th>\n",
       "      <th>income</th>\n",
       "    </tr>\n",
       "  </thead>\n",
       "  <tbody>\n",
       "    <tr>\n",
       "      <th>0</th>\n",
       "      <td>26711</td>\n",
       "      <td>Deborah</td>\n",
       "      <td>Esquivel</td>\n",
       "      <td>Female</td>\n",
       "      <td>Missouri</td>\n",
       "      <td>48</td>\n",
       "      <td>1/1/2017</td>\n",
       "      <td>3</td>\n",
       "      <td>married</td>\n",
       "      <td>165665</td>\n",
       "    </tr>\n",
       "    <tr>\n",
       "      <th>1</th>\n",
       "      <td>33890</td>\n",
       "      <td>Patricia</td>\n",
       "      <td>Hart</td>\n",
       "      <td>Female</td>\n",
       "      <td>New Mexico</td>\n",
       "      <td>36</td>\n",
       "      <td>1/1/2017</td>\n",
       "      <td>0</td>\n",
       "      <td>single</td>\n",
       "      <td>59285</td>\n",
       "    </tr>\n",
       "    <tr>\n",
       "      <th>2</th>\n",
       "      <td>65803</td>\n",
       "      <td>Kenneth</td>\n",
       "      <td>Farley</td>\n",
       "      <td>Male</td>\n",
       "      <td>Idaho</td>\n",
       "      <td>35</td>\n",
       "      <td>1/1/2017</td>\n",
       "      <td>2</td>\n",
       "      <td>married</td>\n",
       "      <td>99568</td>\n",
       "    </tr>\n",
       "    <tr>\n",
       "      <th>3</th>\n",
       "      <td>125935</td>\n",
       "      <td>Michelle</td>\n",
       "      <td>Hicks</td>\n",
       "      <td>Female</td>\n",
       "      <td>Iowa</td>\n",
       "      <td>40</td>\n",
       "      <td>1/1/2017</td>\n",
       "      <td>0</td>\n",
       "      <td>single</td>\n",
       "      <td>42049</td>\n",
       "    </tr>\n",
       "    <tr>\n",
       "      <th>4</th>\n",
       "      <td>130797</td>\n",
       "      <td>Ann</td>\n",
       "      <td>Gilmore</td>\n",
       "      <td>Female</td>\n",
       "      <td>Maryland</td>\n",
       "      <td>26</td>\n",
       "      <td>1/1/2017</td>\n",
       "      <td>1</td>\n",
       "      <td>married</td>\n",
       "      <td>40374</td>\n",
       "    </tr>\n",
       "    <tr>\n",
       "      <th>5</th>\n",
       "      <td>133128</td>\n",
       "      <td>Cynthia</td>\n",
       "      <td>Noble</td>\n",
       "      <td>Female</td>\n",
       "      <td>Kentucky</td>\n",
       "      <td>43</td>\n",
       "      <td>1/1/2017</td>\n",
       "      <td>2</td>\n",
       "      <td>married</td>\n",
       "      <td>49643</td>\n",
       "    </tr>\n",
       "    <tr>\n",
       "      <th>6</th>\n",
       "      <td>152052</td>\n",
       "      <td>Chris</td>\n",
       "      <td>Walton</td>\n",
       "      <td>Male</td>\n",
       "      <td>Montana</td>\n",
       "      <td>20</td>\n",
       "      <td>1/1/2017</td>\n",
       "      <td>0</td>\n",
       "      <td>single</td>\n",
       "      <td>61746</td>\n",
       "    </tr>\n",
       "    <tr>\n",
       "      <th>7</th>\n",
       "      <td>168851</td>\n",
       "      <td>Joseph</td>\n",
       "      <td>Hickman</td>\n",
       "      <td>Male</td>\n",
       "      <td>South Carolina</td>\n",
       "      <td>30</td>\n",
       "      <td>1/1/2017</td>\n",
       "      <td>0</td>\n",
       "      <td>single</td>\n",
       "      <td>63712</td>\n",
       "    </tr>\n",
       "    <tr>\n",
       "      <th>8</th>\n",
       "      <td>69965</td>\n",
       "      <td>Jeremy</td>\n",
       "      <td>Vang</td>\n",
       "      <td>Male</td>\n",
       "      <td>Texas</td>\n",
       "      <td>47</td>\n",
       "      <td>1/1/2017</td>\n",
       "      <td>1</td>\n",
       "      <td>married</td>\n",
       "      <td>162432</td>\n",
       "    </tr>\n",
       "    <tr>\n",
       "      <th>9</th>\n",
       "      <td>82820</td>\n",
       "      <td>Shawn</td>\n",
       "      <td>Chung</td>\n",
       "      <td>Male</td>\n",
       "      <td>Virginia</td>\n",
       "      <td>26</td>\n",
       "      <td>1/1/2017</td>\n",
       "      <td>2</td>\n",
       "      <td>married</td>\n",
       "      <td>32072</td>\n",
       "    </tr>\n",
       "  </tbody>\n",
       "</table>\n",
       "</div>"
      ],
      "text/plain": [
       "   user_id first_name last_name  gender           state  age date_joined  \\\n",
       "0    26711    Deborah  Esquivel  Female        Missouri   48    1/1/2017   \n",
       "1    33890   Patricia      Hart  Female      New Mexico   36    1/1/2017   \n",
       "2    65803    Kenneth    Farley    Male           Idaho   35    1/1/2017   \n",
       "3   125935   Michelle     Hicks  Female            Iowa   40    1/1/2017   \n",
       "4   130797        Ann   Gilmore  Female        Maryland   26    1/1/2017   \n",
       "5   133128    Cynthia     Noble  Female        Kentucky   43    1/1/2017   \n",
       "6   152052      Chris    Walton    Male         Montana   20    1/1/2017   \n",
       "7   168851     Joseph   Hickman    Male  South Carolina   30    1/1/2017   \n",
       "8    69965     Jeremy      Vang    Male           Texas   47    1/1/2017   \n",
       "9    82820      Shawn     Chung    Male        Virginia   26    1/1/2017   \n",
       "\n",
       "   no_of_dependants marital_status  income  \n",
       "0                 3        married  165665  \n",
       "1                 0         single   59285  \n",
       "2                 2        married   99568  \n",
       "3                 0         single   42049  \n",
       "4                 1        married   40374  \n",
       "5                 2        married   49643  \n",
       "6                 0         single   61746  \n",
       "7                 0         single   63712  \n",
       "8                 1        married  162432  \n",
       "9                 2        married   32072  "
      ]
     },
     "execution_count": 15,
     "metadata": {},
     "output_type": "execute_result"
    }
   ],
   "source": [
    "# checking results\n",
    "df_cust.head(10)"
   ]
  },
  {
   "cell_type": "code",
   "execution_count": 16,
   "id": "873d075a",
   "metadata": {},
   "outputs": [
    {
     "data": {
      "text/plain": [
       "(206209, 10)"
      ]
     },
     "execution_count": 16,
     "metadata": {},
     "output_type": "execute_result"
    }
   ],
   "source": [
    "# checking shape\n",
    "df_cust.shape"
   ]
  },
  {
   "cell_type": "markdown",
   "id": "73a0d964",
   "metadata": {},
   "source": [
    "### B. Data Quality & Concistency Checks"
   ]
  },
  {
   "cell_type": "markdown",
   "id": "929bcf03",
   "metadata": {},
   "source": [
    "#### Checking for mixed-type columns"
   ]
  },
  {
   "cell_type": "code",
   "execution_count": 17,
   "id": "69fa894d",
   "metadata": {
    "scrolled": true
   },
   "outputs": [
    {
     "name": "stdout",
     "output_type": "stream",
     "text": [
      "first_name\n"
     ]
    }
   ],
   "source": [
    "# check for mixed-type columns\n",
    "for col in df_cust.columns.tolist():\n",
    "  weird = (df_cust[[col]].applymap(type) != df_cust[[col]].iloc[0].apply(type)).any(axis = 1)\n",
    "  if len (df_cust[weird]) > 0:\n",
    "    print (col)"
   ]
  },
  {
   "cell_type": "markdown",
   "id": "a10a3f64",
   "metadata": {},
   "source": [
    "Mixed data type in column first_name. I will come back to that later because I want to see if there are NaNs first in case they influence the result of this test."
   ]
  },
  {
   "cell_type": "markdown",
   "id": "36dc3cac",
   "metadata": {},
   "source": [
    "#### Missing Values"
   ]
  },
  {
   "cell_type": "code",
   "execution_count": 18,
   "id": "21546216",
   "metadata": {
    "scrolled": true
   },
   "outputs": [
    {
     "data": {
      "text/plain": [
       "user_id                 0\n",
       "first_name          11259\n",
       "last_name               0\n",
       "gender                  0\n",
       "state                   0\n",
       "age                     0\n",
       "date_joined             0\n",
       "no_of_dependants        0\n",
       "marital_status          0\n",
       "income                  0\n",
       "dtype: int64"
      ]
     },
     "execution_count": 18,
     "metadata": {},
     "output_type": "execute_result"
    }
   ],
   "source": [
    "# checking for missing values\n",
    "df_cust.isnull().sum()"
   ]
  },
  {
   "cell_type": "code",
   "execution_count": 19,
   "id": "9b760cff",
   "metadata": {},
   "outputs": [],
   "source": [
    "# subsetting NaN's\n",
    "df_nan = df_cust[df_cust['first_name'].isnull() == True]"
   ]
  },
  {
   "cell_type": "code",
   "execution_count": 20,
   "id": "062066ab",
   "metadata": {
    "scrolled": true
   },
   "outputs": [
    {
     "data": {
      "text/html": [
       "<div>\n",
       "<style scoped>\n",
       "    .dataframe tbody tr th:only-of-type {\n",
       "        vertical-align: middle;\n",
       "    }\n",
       "\n",
       "    .dataframe tbody tr th {\n",
       "        vertical-align: top;\n",
       "    }\n",
       "\n",
       "    .dataframe thead th {\n",
       "        text-align: right;\n",
       "    }\n",
       "</style>\n",
       "<table border=\"1\" class=\"dataframe\">\n",
       "  <thead>\n",
       "    <tr style=\"text-align: right;\">\n",
       "      <th></th>\n",
       "      <th>user_id</th>\n",
       "      <th>first_name</th>\n",
       "      <th>last_name</th>\n",
       "      <th>gender</th>\n",
       "      <th>state</th>\n",
       "      <th>age</th>\n",
       "      <th>date_joined</th>\n",
       "      <th>no_of_dependants</th>\n",
       "      <th>marital_status</th>\n",
       "      <th>income</th>\n",
       "    </tr>\n",
       "  </thead>\n",
       "  <tbody>\n",
       "    <tr>\n",
       "      <th>53</th>\n",
       "      <td>76659</td>\n",
       "      <td>NaN</td>\n",
       "      <td>Gilbert</td>\n",
       "      <td>Male</td>\n",
       "      <td>Colorado</td>\n",
       "      <td>26</td>\n",
       "      <td>1/1/2017</td>\n",
       "      <td>2</td>\n",
       "      <td>married</td>\n",
       "      <td>41709</td>\n",
       "    </tr>\n",
       "    <tr>\n",
       "      <th>73</th>\n",
       "      <td>13738</td>\n",
       "      <td>NaN</td>\n",
       "      <td>Frost</td>\n",
       "      <td>Female</td>\n",
       "      <td>Louisiana</td>\n",
       "      <td>39</td>\n",
       "      <td>1/1/2017</td>\n",
       "      <td>0</td>\n",
       "      <td>single</td>\n",
       "      <td>82518</td>\n",
       "    </tr>\n",
       "    <tr>\n",
       "      <th>82</th>\n",
       "      <td>89996</td>\n",
       "      <td>NaN</td>\n",
       "      <td>Dawson</td>\n",
       "      <td>Female</td>\n",
       "      <td>Oregon</td>\n",
       "      <td>52</td>\n",
       "      <td>1/1/2017</td>\n",
       "      <td>3</td>\n",
       "      <td>married</td>\n",
       "      <td>117099</td>\n",
       "    </tr>\n",
       "    <tr>\n",
       "      <th>99</th>\n",
       "      <td>96166</td>\n",
       "      <td>NaN</td>\n",
       "      <td>Oconnor</td>\n",
       "      <td>Male</td>\n",
       "      <td>Oklahoma</td>\n",
       "      <td>51</td>\n",
       "      <td>1/1/2017</td>\n",
       "      <td>1</td>\n",
       "      <td>married</td>\n",
       "      <td>155673</td>\n",
       "    </tr>\n",
       "    <tr>\n",
       "      <th>105</th>\n",
       "      <td>29778</td>\n",
       "      <td>NaN</td>\n",
       "      <td>Dawson</td>\n",
       "      <td>Female</td>\n",
       "      <td>Utah</td>\n",
       "      <td>63</td>\n",
       "      <td>1/1/2017</td>\n",
       "      <td>3</td>\n",
       "      <td>married</td>\n",
       "      <td>151819</td>\n",
       "    </tr>\n",
       "    <tr>\n",
       "      <th>...</th>\n",
       "      <td>...</td>\n",
       "      <td>...</td>\n",
       "      <td>...</td>\n",
       "      <td>...</td>\n",
       "      <td>...</td>\n",
       "      <td>...</td>\n",
       "      <td>...</td>\n",
       "      <td>...</td>\n",
       "      <td>...</td>\n",
       "      <td>...</td>\n",
       "    </tr>\n",
       "    <tr>\n",
       "      <th>206038</th>\n",
       "      <td>121317</td>\n",
       "      <td>NaN</td>\n",
       "      <td>Melton</td>\n",
       "      <td>Male</td>\n",
       "      <td>Pennsylvania</td>\n",
       "      <td>28</td>\n",
       "      <td>3/31/2020</td>\n",
       "      <td>3</td>\n",
       "      <td>married</td>\n",
       "      <td>87783</td>\n",
       "    </tr>\n",
       "    <tr>\n",
       "      <th>206044</th>\n",
       "      <td>200799</td>\n",
       "      <td>NaN</td>\n",
       "      <td>Copeland</td>\n",
       "      <td>Female</td>\n",
       "      <td>Hawaii</td>\n",
       "      <td>52</td>\n",
       "      <td>4/1/2020</td>\n",
       "      <td>2</td>\n",
       "      <td>married</td>\n",
       "      <td>108488</td>\n",
       "    </tr>\n",
       "    <tr>\n",
       "      <th>206090</th>\n",
       "      <td>167394</td>\n",
       "      <td>NaN</td>\n",
       "      <td>Frost</td>\n",
       "      <td>Female</td>\n",
       "      <td>Hawaii</td>\n",
       "      <td>61</td>\n",
       "      <td>4/1/2020</td>\n",
       "      <td>1</td>\n",
       "      <td>married</td>\n",
       "      <td>45275</td>\n",
       "    </tr>\n",
       "    <tr>\n",
       "      <th>206162</th>\n",
       "      <td>187532</td>\n",
       "      <td>NaN</td>\n",
       "      <td>Floyd</td>\n",
       "      <td>Female</td>\n",
       "      <td>California</td>\n",
       "      <td>39</td>\n",
       "      <td>4/1/2020</td>\n",
       "      <td>0</td>\n",
       "      <td>single</td>\n",
       "      <td>56325</td>\n",
       "    </tr>\n",
       "    <tr>\n",
       "      <th>206171</th>\n",
       "      <td>116898</td>\n",
       "      <td>NaN</td>\n",
       "      <td>Delgado</td>\n",
       "      <td>Female</td>\n",
       "      <td>Colorado</td>\n",
       "      <td>23</td>\n",
       "      <td>4/1/2020</td>\n",
       "      <td>2</td>\n",
       "      <td>married</td>\n",
       "      <td>59222</td>\n",
       "    </tr>\n",
       "  </tbody>\n",
       "</table>\n",
       "<p>11259 rows × 10 columns</p>\n",
       "</div>"
      ],
      "text/plain": [
       "        user_id first_name last_name  gender         state  age date_joined  \\\n",
       "53        76659        NaN   Gilbert    Male      Colorado   26    1/1/2017   \n",
       "73        13738        NaN     Frost  Female     Louisiana   39    1/1/2017   \n",
       "82        89996        NaN    Dawson  Female        Oregon   52    1/1/2017   \n",
       "99        96166        NaN   Oconnor    Male      Oklahoma   51    1/1/2017   \n",
       "105       29778        NaN    Dawson  Female          Utah   63    1/1/2017   \n",
       "...         ...        ...       ...     ...           ...  ...         ...   \n",
       "206038   121317        NaN    Melton    Male  Pennsylvania   28   3/31/2020   \n",
       "206044   200799        NaN  Copeland  Female        Hawaii   52    4/1/2020   \n",
       "206090   167394        NaN     Frost  Female        Hawaii   61    4/1/2020   \n",
       "206162   187532        NaN     Floyd  Female    California   39    4/1/2020   \n",
       "206171   116898        NaN   Delgado  Female      Colorado   23    4/1/2020   \n",
       "\n",
       "        no_of_dependants marital_status  income  \n",
       "53                     2        married   41709  \n",
       "73                     0         single   82518  \n",
       "82                     3        married  117099  \n",
       "99                     1        married  155673  \n",
       "105                    3        married  151819  \n",
       "...                  ...            ...     ...  \n",
       "206038                 3        married   87783  \n",
       "206044                 2        married  108488  \n",
       "206090                 1        married   45275  \n",
       "206162                 0         single   56325  \n",
       "206171                 2        married   59222  \n",
       "\n",
       "[11259 rows x 10 columns]"
      ]
     },
     "execution_count": 20,
     "metadata": {},
     "output_type": "execute_result"
    }
   ],
   "source": [
    "#check subset\n",
    "df_nan"
   ]
  },
  {
   "cell_type": "markdown",
   "id": "72aeb357",
   "metadata": {},
   "source": [
    "I can't detect any other abnormalities other than missing first name."
   ]
  },
  {
   "cell_type": "code",
   "execution_count": 21,
   "id": "c5eb53f7",
   "metadata": {
    "scrolled": true
   },
   "outputs": [
    {
     "data": {
      "text/plain": [
       "(11259, 10)"
      ]
     },
     "execution_count": 21,
     "metadata": {},
     "output_type": "execute_result"
    }
   ],
   "source": [
    "df_nan.shape"
   ]
  },
  {
   "cell_type": "code",
   "execution_count": 22,
   "id": "34adfcf1",
   "metadata": {},
   "outputs": [
    {
     "data": {
      "text/plain": [
       "194950"
      ]
     },
     "execution_count": 22,
     "metadata": {},
     "output_type": "execute_result"
    }
   ],
   "source": [
    "# getting number of non-NaN values in first_name\n",
    "df_cust['first_name'].notnull().sum()"
   ]
  },
  {
   "cell_type": "code",
   "execution_count": 23,
   "id": "12617cda",
   "metadata": {},
   "outputs": [
    {
     "data": {
      "text/plain": [
       "206209"
      ]
     },
     "execution_count": 23,
     "metadata": {},
     "output_type": "execute_result"
    }
   ],
   "source": [
    "# quick calculation\n",
    "11259+194950"
   ]
  },
  {
   "cell_type": "code",
   "execution_count": 24,
   "id": "0396bd50",
   "metadata": {},
   "outputs": [
    {
     "data": {
      "text/plain": [
       "5.459994471628299"
      ]
     },
     "execution_count": 24,
     "metadata": {},
     "output_type": "execute_result"
    }
   ],
   "source": [
    "# calculating the percentile of missing first names\n",
    "11259/(206209/100)"
   ]
  },
  {
   "cell_type": "markdown",
   "id": "514b8b83",
   "metadata": {},
   "source": [
    "There are 11259 NaNs in column first_name, which makes up over 5 percent. But as each customer has a unique user_id we are still able to identify them. So the missing values have no negativ effects on our analysis. To circumvent any error I will convert the whole column into the data type string and leave the NaNs as they are.\n",
    "Additionally I would inquire why these first names are missing as this could indicate a error in the data collection system."
   ]
  },
  {
   "cell_type": "code",
   "execution_count": 25,
   "id": "db601040",
   "metadata": {},
   "outputs": [],
   "source": [
    "# converting datatype of column first_name\n",
    "df_cust['first_name'] = df_cust['first_name'].astype('str')"
   ]
  },
  {
   "cell_type": "code",
   "execution_count": 26,
   "id": "ad0da21a",
   "metadata": {},
   "outputs": [
    {
     "data": {
      "text/plain": [
       "user_id              int64\n",
       "first_name          object\n",
       "last_name           object\n",
       "gender              object\n",
       "state               object\n",
       "age                  int64\n",
       "date_joined         object\n",
       "no_of_dependants     int64\n",
       "marital_status      object\n",
       "income               int64\n",
       "dtype: object"
      ]
     },
     "execution_count": 26,
     "metadata": {},
     "output_type": "execute_result"
    }
   ],
   "source": [
    "# checking data type again\n",
    "df_cust.dtypes"
   ]
  },
  {
   "cell_type": "code",
   "execution_count": 27,
   "id": "c93a487a",
   "metadata": {},
   "outputs": [],
   "source": [
    "# check for mixed-type columns again\n",
    "for col in df_cust.columns.tolist():\n",
    "  weird = (df_cust[[col]].applymap(type) != df_cust[[col]].iloc[0].apply(type)).any(axis = 1)\n",
    "  if len (df_cust[weird]) > 0:\n",
    "    print (col)"
   ]
  },
  {
   "cell_type": "markdown",
   "id": "21acbfe4",
   "metadata": {},
   "source": [
    "Results show no more mixed data types. So as predicted the NaNs influenced the result for the mixed data type test."
   ]
  },
  {
   "cell_type": "code",
   "execution_count": 28,
   "id": "f100e2e0",
   "metadata": {},
   "outputs": [
    {
     "data": {
      "text/plain": [
       "(206209, 10)"
      ]
     },
     "execution_count": 28,
     "metadata": {},
     "output_type": "execute_result"
    }
   ],
   "source": [
    "df_cust.shape"
   ]
  },
  {
   "cell_type": "markdown",
   "id": "0d6ddf53",
   "metadata": {},
   "source": [
    "#### Duplicates"
   ]
  },
  {
   "cell_type": "code",
   "execution_count": 44,
   "id": "f93381fe",
   "metadata": {},
   "outputs": [
    {
     "data": {
      "text/html": [
       "<div>\n",
       "<style scoped>\n",
       "    .dataframe tbody tr th:only-of-type {\n",
       "        vertical-align: middle;\n",
       "    }\n",
       "\n",
       "    .dataframe tbody tr th {\n",
       "        vertical-align: top;\n",
       "    }\n",
       "\n",
       "    .dataframe thead th {\n",
       "        text-align: right;\n",
       "    }\n",
       "</style>\n",
       "<table border=\"1\" class=\"dataframe\">\n",
       "  <thead>\n",
       "    <tr style=\"text-align: right;\">\n",
       "      <th></th>\n",
       "      <th>user_id</th>\n",
       "      <th>first_name</th>\n",
       "      <th>last_name</th>\n",
       "      <th>gender</th>\n",
       "      <th>state</th>\n",
       "      <th>age</th>\n",
       "      <th>date_joined</th>\n",
       "      <th>no_of_dependants</th>\n",
       "      <th>marital_status</th>\n",
       "      <th>income</th>\n",
       "    </tr>\n",
       "  </thead>\n",
       "  <tbody>\n",
       "  </tbody>\n",
       "</table>\n",
       "</div>"
      ],
      "text/plain": [
       "Empty DataFrame\n",
       "Columns: [user_id, first_name, last_name, gender, state, age, date_joined, no_of_dependants, marital_status, income]\n",
       "Index: []"
      ]
     },
     "execution_count": 44,
     "metadata": {},
     "output_type": "execute_result"
    }
   ],
   "source": [
    "# checking for duplicates\n",
    "df_cust[df_cust.duplicated()]"
   ]
  },
  {
   "cell_type": "markdown",
   "id": "aae16c83",
   "metadata": {},
   "source": [
    "No duplicates"
   ]
  },
  {
   "cell_type": "code",
   "execution_count": 45,
   "id": "939bd822",
   "metadata": {},
   "outputs": [],
   "source": [
    "# Exporting final Customer Data as csv\n",
    "df_cust.to_csv(os.path.join(path, '02 Data','Prepared Data', 'customers.csv'))"
   ]
  },
  {
   "cell_type": "markdown",
   "id": "471ed8d0",
   "metadata": {},
   "source": [
    "### C. Combining Data"
   ]
  },
  {
   "cell_type": "code",
   "execution_count": 46,
   "id": "ea33044b",
   "metadata": {},
   "outputs": [
    {
     "data": {
      "text/html": [
       "<div>\n",
       "<style scoped>\n",
       "    .dataframe tbody tr th:only-of-type {\n",
       "        vertical-align: middle;\n",
       "    }\n",
       "\n",
       "    .dataframe tbody tr th {\n",
       "        vertical-align: top;\n",
       "    }\n",
       "\n",
       "    .dataframe thead th {\n",
       "        text-align: right;\n",
       "    }\n",
       "</style>\n",
       "<table border=\"1\" class=\"dataframe\">\n",
       "  <thead>\n",
       "    <tr style=\"text-align: right;\">\n",
       "      <th></th>\n",
       "      <th>user_id</th>\n",
       "      <th>first_name</th>\n",
       "      <th>last_name</th>\n",
       "      <th>gender</th>\n",
       "      <th>state</th>\n",
       "      <th>age</th>\n",
       "      <th>date_joined</th>\n",
       "      <th>no_of_dependants</th>\n",
       "      <th>marital_status</th>\n",
       "      <th>income</th>\n",
       "    </tr>\n",
       "  </thead>\n",
       "  <tbody>\n",
       "    <tr>\n",
       "      <th>0</th>\n",
       "      <td>26711</td>\n",
       "      <td>Deborah</td>\n",
       "      <td>Esquivel</td>\n",
       "      <td>Female</td>\n",
       "      <td>Missouri</td>\n",
       "      <td>48</td>\n",
       "      <td>1/1/2017</td>\n",
       "      <td>3</td>\n",
       "      <td>married</td>\n",
       "      <td>165665</td>\n",
       "    </tr>\n",
       "    <tr>\n",
       "      <th>1</th>\n",
       "      <td>33890</td>\n",
       "      <td>Patricia</td>\n",
       "      <td>Hart</td>\n",
       "      <td>Female</td>\n",
       "      <td>New Mexico</td>\n",
       "      <td>36</td>\n",
       "      <td>1/1/2017</td>\n",
       "      <td>0</td>\n",
       "      <td>single</td>\n",
       "      <td>59285</td>\n",
       "    </tr>\n",
       "    <tr>\n",
       "      <th>2</th>\n",
       "      <td>65803</td>\n",
       "      <td>Kenneth</td>\n",
       "      <td>Farley</td>\n",
       "      <td>Male</td>\n",
       "      <td>Idaho</td>\n",
       "      <td>35</td>\n",
       "      <td>1/1/2017</td>\n",
       "      <td>2</td>\n",
       "      <td>married</td>\n",
       "      <td>99568</td>\n",
       "    </tr>\n",
       "    <tr>\n",
       "      <th>3</th>\n",
       "      <td>125935</td>\n",
       "      <td>Michelle</td>\n",
       "      <td>Hicks</td>\n",
       "      <td>Female</td>\n",
       "      <td>Iowa</td>\n",
       "      <td>40</td>\n",
       "      <td>1/1/2017</td>\n",
       "      <td>0</td>\n",
       "      <td>single</td>\n",
       "      <td>42049</td>\n",
       "    </tr>\n",
       "    <tr>\n",
       "      <th>4</th>\n",
       "      <td>130797</td>\n",
       "      <td>Ann</td>\n",
       "      <td>Gilmore</td>\n",
       "      <td>Female</td>\n",
       "      <td>Maryland</td>\n",
       "      <td>26</td>\n",
       "      <td>1/1/2017</td>\n",
       "      <td>1</td>\n",
       "      <td>married</td>\n",
       "      <td>40374</td>\n",
       "    </tr>\n",
       "  </tbody>\n",
       "</table>\n",
       "</div>"
      ],
      "text/plain": [
       "   user_id first_name last_name  gender       state  age date_joined  \\\n",
       "0    26711    Deborah  Esquivel  Female    Missouri   48    1/1/2017   \n",
       "1    33890   Patricia      Hart  Female  New Mexico   36    1/1/2017   \n",
       "2    65803    Kenneth    Farley    Male       Idaho   35    1/1/2017   \n",
       "3   125935   Michelle     Hicks  Female        Iowa   40    1/1/2017   \n",
       "4   130797        Ann   Gilmore  Female    Maryland   26    1/1/2017   \n",
       "\n",
       "   no_of_dependants marital_status  income  \n",
       "0                 3        married  165665  \n",
       "1                 0         single   59285  \n",
       "2                 2        married   99568  \n",
       "3                 0         single   42049  \n",
       "4                 1        married   40374  "
      ]
     },
     "execution_count": 46,
     "metadata": {},
     "output_type": "execute_result"
    }
   ],
   "source": [
    "# checking df customer\n",
    "df_cust.head()"
   ]
  },
  {
   "cell_type": "code",
   "execution_count": 49,
   "id": "fe62fbdb",
   "metadata": {
    "scrolled": true
   },
   "outputs": [
    {
     "data": {
      "text/html": [
       "<div>\n",
       "<style scoped>\n",
       "    .dataframe tbody tr th:only-of-type {\n",
       "        vertical-align: middle;\n",
       "    }\n",
       "\n",
       "    .dataframe tbody tr th {\n",
       "        vertical-align: top;\n",
       "    }\n",
       "\n",
       "    .dataframe thead th {\n",
       "        text-align: right;\n",
       "    }\n",
       "</style>\n",
       "<table border=\"1\" class=\"dataframe\">\n",
       "  <thead>\n",
       "    <tr style=\"text-align: right;\">\n",
       "      <th></th>\n",
       "      <th>order_id</th>\n",
       "      <th>user_id</th>\n",
       "      <th>order_number</th>\n",
       "      <th>order_day_of_week</th>\n",
       "      <th>order_hour_of_day</th>\n",
       "      <th>days_since_prior_order</th>\n",
       "      <th>first_order</th>\n",
       "      <th>product_id</th>\n",
       "      <th>add_to_cart_order</th>\n",
       "      <th>reordered</th>\n",
       "      <th>product_name</th>\n",
       "      <th>aisle_id</th>\n",
       "      <th>department_id</th>\n",
       "      <th>prices</th>\n",
       "      <th>_merge</th>\n",
       "      <th>price_range_loc</th>\n",
       "      <th>busiest_day</th>\n",
       "      <th>busiest_days</th>\n",
       "      <th>busiest_period_of_day</th>\n",
       "      <th>max_order</th>\n",
       "      <th>loyalty_flag</th>\n",
       "      <th>avg_price</th>\n",
       "      <th>spending_flag</th>\n",
       "      <th>order_freq</th>\n",
       "      <th>frequency_flag</th>\n",
       "    </tr>\n",
       "  </thead>\n",
       "  <tbody>\n",
       "    <tr>\n",
       "      <th>0</th>\n",
       "      <td>2539329</td>\n",
       "      <td>1</td>\n",
       "      <td>1</td>\n",
       "      <td>2</td>\n",
       "      <td>8</td>\n",
       "      <td>NaN</td>\n",
       "      <td>True</td>\n",
       "      <td>196</td>\n",
       "      <td>1</td>\n",
       "      <td>0</td>\n",
       "      <td>Soda</td>\n",
       "      <td>77</td>\n",
       "      <td>7</td>\n",
       "      <td>9.0</td>\n",
       "      <td>both</td>\n",
       "      <td>Mid-range product</td>\n",
       "      <td>Regularly busy</td>\n",
       "      <td>Regularly busy</td>\n",
       "      <td>Average orders</td>\n",
       "      <td>10</td>\n",
       "      <td>New customer</td>\n",
       "      <td>6.367797</td>\n",
       "      <td>Low spender</td>\n",
       "      <td>20.5</td>\n",
       "      <td>Non-frequent customer</td>\n",
       "    </tr>\n",
       "    <tr>\n",
       "      <th>1</th>\n",
       "      <td>2398795</td>\n",
       "      <td>1</td>\n",
       "      <td>2</td>\n",
       "      <td>3</td>\n",
       "      <td>7</td>\n",
       "      <td>15.0</td>\n",
       "      <td>False</td>\n",
       "      <td>196</td>\n",
       "      <td>1</td>\n",
       "      <td>1</td>\n",
       "      <td>Soda</td>\n",
       "      <td>77</td>\n",
       "      <td>7</td>\n",
       "      <td>9.0</td>\n",
       "      <td>both</td>\n",
       "      <td>Mid-range product</td>\n",
       "      <td>Regularly busy</td>\n",
       "      <td>Less busy</td>\n",
       "      <td>Average orders</td>\n",
       "      <td>10</td>\n",
       "      <td>New customer</td>\n",
       "      <td>6.367797</td>\n",
       "      <td>Low spender</td>\n",
       "      <td>20.5</td>\n",
       "      <td>Non-frequent customer</td>\n",
       "    </tr>\n",
       "    <tr>\n",
       "      <th>2</th>\n",
       "      <td>473747</td>\n",
       "      <td>1</td>\n",
       "      <td>3</td>\n",
       "      <td>3</td>\n",
       "      <td>12</td>\n",
       "      <td>21.0</td>\n",
       "      <td>False</td>\n",
       "      <td>196</td>\n",
       "      <td>1</td>\n",
       "      <td>1</td>\n",
       "      <td>Soda</td>\n",
       "      <td>77</td>\n",
       "      <td>7</td>\n",
       "      <td>9.0</td>\n",
       "      <td>both</td>\n",
       "      <td>Mid-range product</td>\n",
       "      <td>Regularly busy</td>\n",
       "      <td>Less busy</td>\n",
       "      <td>Most orders</td>\n",
       "      <td>10</td>\n",
       "      <td>New customer</td>\n",
       "      <td>6.367797</td>\n",
       "      <td>Low spender</td>\n",
       "      <td>20.5</td>\n",
       "      <td>Non-frequent customer</td>\n",
       "    </tr>\n",
       "    <tr>\n",
       "      <th>3</th>\n",
       "      <td>2254736</td>\n",
       "      <td>1</td>\n",
       "      <td>4</td>\n",
       "      <td>4</td>\n",
       "      <td>7</td>\n",
       "      <td>29.0</td>\n",
       "      <td>False</td>\n",
       "      <td>196</td>\n",
       "      <td>1</td>\n",
       "      <td>1</td>\n",
       "      <td>Soda</td>\n",
       "      <td>77</td>\n",
       "      <td>7</td>\n",
       "      <td>9.0</td>\n",
       "      <td>both</td>\n",
       "      <td>Mid-range product</td>\n",
       "      <td>Least busy</td>\n",
       "      <td>Less busy</td>\n",
       "      <td>Average orders</td>\n",
       "      <td>10</td>\n",
       "      <td>New customer</td>\n",
       "      <td>6.367797</td>\n",
       "      <td>Low spender</td>\n",
       "      <td>20.5</td>\n",
       "      <td>Non-frequent customer</td>\n",
       "    </tr>\n",
       "    <tr>\n",
       "      <th>4</th>\n",
       "      <td>431534</td>\n",
       "      <td>1</td>\n",
       "      <td>5</td>\n",
       "      <td>4</td>\n",
       "      <td>15</td>\n",
       "      <td>28.0</td>\n",
       "      <td>False</td>\n",
       "      <td>196</td>\n",
       "      <td>1</td>\n",
       "      <td>1</td>\n",
       "      <td>Soda</td>\n",
       "      <td>77</td>\n",
       "      <td>7</td>\n",
       "      <td>9.0</td>\n",
       "      <td>both</td>\n",
       "      <td>Mid-range product</td>\n",
       "      <td>Least busy</td>\n",
       "      <td>Less busy</td>\n",
       "      <td>Most orders</td>\n",
       "      <td>10</td>\n",
       "      <td>New customer</td>\n",
       "      <td>6.367797</td>\n",
       "      <td>Low spender</td>\n",
       "      <td>20.5</td>\n",
       "      <td>Non-frequent customer</td>\n",
       "    </tr>\n",
       "  </tbody>\n",
       "</table>\n",
       "</div>"
      ],
      "text/plain": [
       "   order_id  user_id  order_number  order_day_of_week  order_hour_of_day  \\\n",
       "0   2539329        1             1                  2                  8   \n",
       "1   2398795        1             2                  3                  7   \n",
       "2    473747        1             3                  3                 12   \n",
       "3   2254736        1             4                  4                  7   \n",
       "4    431534        1             5                  4                 15   \n",
       "\n",
       "   days_since_prior_order  first_order  product_id  add_to_cart_order  \\\n",
       "0                     NaN         True         196                  1   \n",
       "1                    15.0        False         196                  1   \n",
       "2                    21.0        False         196                  1   \n",
       "3                    29.0        False         196                  1   \n",
       "4                    28.0        False         196                  1   \n",
       "\n",
       "   reordered product_name  aisle_id  department_id  prices _merge  \\\n",
       "0          0         Soda        77              7     9.0   both   \n",
       "1          1         Soda        77              7     9.0   both   \n",
       "2          1         Soda        77              7     9.0   both   \n",
       "3          1         Soda        77              7     9.0   both   \n",
       "4          1         Soda        77              7     9.0   both   \n",
       "\n",
       "     price_range_loc     busiest_day    busiest_days busiest_period_of_day  \\\n",
       "0  Mid-range product  Regularly busy  Regularly busy        Average orders   \n",
       "1  Mid-range product  Regularly busy       Less busy        Average orders   \n",
       "2  Mid-range product  Regularly busy       Less busy           Most orders   \n",
       "3  Mid-range product      Least busy       Less busy        Average orders   \n",
       "4  Mid-range product      Least busy       Less busy           Most orders   \n",
       "\n",
       "   max_order  loyalty_flag  avg_price spending_flag  order_freq  \\\n",
       "0         10  New customer   6.367797   Low spender        20.5   \n",
       "1         10  New customer   6.367797   Low spender        20.5   \n",
       "2         10  New customer   6.367797   Low spender        20.5   \n",
       "3         10  New customer   6.367797   Low spender        20.5   \n",
       "4         10  New customer   6.367797   Low spender        20.5   \n",
       "\n",
       "          frequency_flag  \n",
       "0  Non-frequent customer  \n",
       "1  Non-frequent customer  \n",
       "2  Non-frequent customer  \n",
       "3  Non-frequent customer  \n",
       "4  Non-frequent customer  "
      ]
     },
     "execution_count": 49,
     "metadata": {},
     "output_type": "execute_result"
    }
   ],
   "source": [
    "# checking df ords prods merge\n",
    "ords_prods_merge.head()"
   ]
  },
  {
   "cell_type": "code",
   "execution_count": 48,
   "id": "c14c4f8f",
   "metadata": {},
   "outputs": [],
   "source": [
    "# removing head() restrictions to see all columns\n",
    "pd.options.display.max_columns = None"
   ]
  },
  {
   "cell_type": "code",
   "execution_count": 50,
   "id": "35642c62",
   "metadata": {},
   "outputs": [],
   "source": [
    "# removing prior merge flag from ords prods merge\n",
    "ords_prods_merge = ords_prods_merge.drop(columns=['_merge'])"
   ]
  },
  {
   "cell_type": "code",
   "execution_count": 51,
   "id": "dfa8d052",
   "metadata": {},
   "outputs": [
    {
     "data": {
      "text/html": [
       "<div>\n",
       "<style scoped>\n",
       "    .dataframe tbody tr th:only-of-type {\n",
       "        vertical-align: middle;\n",
       "    }\n",
       "\n",
       "    .dataframe tbody tr th {\n",
       "        vertical-align: top;\n",
       "    }\n",
       "\n",
       "    .dataframe thead th {\n",
       "        text-align: right;\n",
       "    }\n",
       "</style>\n",
       "<table border=\"1\" class=\"dataframe\">\n",
       "  <thead>\n",
       "    <tr style=\"text-align: right;\">\n",
       "      <th></th>\n",
       "      <th>order_id</th>\n",
       "      <th>user_id</th>\n",
       "      <th>order_number</th>\n",
       "      <th>order_day_of_week</th>\n",
       "      <th>order_hour_of_day</th>\n",
       "      <th>days_since_prior_order</th>\n",
       "      <th>first_order</th>\n",
       "      <th>product_id</th>\n",
       "      <th>add_to_cart_order</th>\n",
       "      <th>reordered</th>\n",
       "      <th>product_name</th>\n",
       "      <th>aisle_id</th>\n",
       "      <th>department_id</th>\n",
       "      <th>prices</th>\n",
       "      <th>price_range_loc</th>\n",
       "      <th>busiest_day</th>\n",
       "      <th>busiest_days</th>\n",
       "      <th>busiest_period_of_day</th>\n",
       "      <th>max_order</th>\n",
       "      <th>loyalty_flag</th>\n",
       "      <th>avg_price</th>\n",
       "      <th>spending_flag</th>\n",
       "      <th>order_freq</th>\n",
       "      <th>frequency_flag</th>\n",
       "    </tr>\n",
       "  </thead>\n",
       "  <tbody>\n",
       "    <tr>\n",
       "      <th>0</th>\n",
       "      <td>2539329</td>\n",
       "      <td>1</td>\n",
       "      <td>1</td>\n",
       "      <td>2</td>\n",
       "      <td>8</td>\n",
       "      <td>NaN</td>\n",
       "      <td>True</td>\n",
       "      <td>196</td>\n",
       "      <td>1</td>\n",
       "      <td>0</td>\n",
       "      <td>Soda</td>\n",
       "      <td>77</td>\n",
       "      <td>7</td>\n",
       "      <td>9.0</td>\n",
       "      <td>Mid-range product</td>\n",
       "      <td>Regularly busy</td>\n",
       "      <td>Regularly busy</td>\n",
       "      <td>Average orders</td>\n",
       "      <td>10</td>\n",
       "      <td>New customer</td>\n",
       "      <td>6.367797</td>\n",
       "      <td>Low spender</td>\n",
       "      <td>20.5</td>\n",
       "      <td>Non-frequent customer</td>\n",
       "    </tr>\n",
       "    <tr>\n",
       "      <th>1</th>\n",
       "      <td>2398795</td>\n",
       "      <td>1</td>\n",
       "      <td>2</td>\n",
       "      <td>3</td>\n",
       "      <td>7</td>\n",
       "      <td>15.0</td>\n",
       "      <td>False</td>\n",
       "      <td>196</td>\n",
       "      <td>1</td>\n",
       "      <td>1</td>\n",
       "      <td>Soda</td>\n",
       "      <td>77</td>\n",
       "      <td>7</td>\n",
       "      <td>9.0</td>\n",
       "      <td>Mid-range product</td>\n",
       "      <td>Regularly busy</td>\n",
       "      <td>Less busy</td>\n",
       "      <td>Average orders</td>\n",
       "      <td>10</td>\n",
       "      <td>New customer</td>\n",
       "      <td>6.367797</td>\n",
       "      <td>Low spender</td>\n",
       "      <td>20.5</td>\n",
       "      <td>Non-frequent customer</td>\n",
       "    </tr>\n",
       "    <tr>\n",
       "      <th>2</th>\n",
       "      <td>473747</td>\n",
       "      <td>1</td>\n",
       "      <td>3</td>\n",
       "      <td>3</td>\n",
       "      <td>12</td>\n",
       "      <td>21.0</td>\n",
       "      <td>False</td>\n",
       "      <td>196</td>\n",
       "      <td>1</td>\n",
       "      <td>1</td>\n",
       "      <td>Soda</td>\n",
       "      <td>77</td>\n",
       "      <td>7</td>\n",
       "      <td>9.0</td>\n",
       "      <td>Mid-range product</td>\n",
       "      <td>Regularly busy</td>\n",
       "      <td>Less busy</td>\n",
       "      <td>Most orders</td>\n",
       "      <td>10</td>\n",
       "      <td>New customer</td>\n",
       "      <td>6.367797</td>\n",
       "      <td>Low spender</td>\n",
       "      <td>20.5</td>\n",
       "      <td>Non-frequent customer</td>\n",
       "    </tr>\n",
       "    <tr>\n",
       "      <th>3</th>\n",
       "      <td>2254736</td>\n",
       "      <td>1</td>\n",
       "      <td>4</td>\n",
       "      <td>4</td>\n",
       "      <td>7</td>\n",
       "      <td>29.0</td>\n",
       "      <td>False</td>\n",
       "      <td>196</td>\n",
       "      <td>1</td>\n",
       "      <td>1</td>\n",
       "      <td>Soda</td>\n",
       "      <td>77</td>\n",
       "      <td>7</td>\n",
       "      <td>9.0</td>\n",
       "      <td>Mid-range product</td>\n",
       "      <td>Least busy</td>\n",
       "      <td>Less busy</td>\n",
       "      <td>Average orders</td>\n",
       "      <td>10</td>\n",
       "      <td>New customer</td>\n",
       "      <td>6.367797</td>\n",
       "      <td>Low spender</td>\n",
       "      <td>20.5</td>\n",
       "      <td>Non-frequent customer</td>\n",
       "    </tr>\n",
       "    <tr>\n",
       "      <th>4</th>\n",
       "      <td>431534</td>\n",
       "      <td>1</td>\n",
       "      <td>5</td>\n",
       "      <td>4</td>\n",
       "      <td>15</td>\n",
       "      <td>28.0</td>\n",
       "      <td>False</td>\n",
       "      <td>196</td>\n",
       "      <td>1</td>\n",
       "      <td>1</td>\n",
       "      <td>Soda</td>\n",
       "      <td>77</td>\n",
       "      <td>7</td>\n",
       "      <td>9.0</td>\n",
       "      <td>Mid-range product</td>\n",
       "      <td>Least busy</td>\n",
       "      <td>Less busy</td>\n",
       "      <td>Most orders</td>\n",
       "      <td>10</td>\n",
       "      <td>New customer</td>\n",
       "      <td>6.367797</td>\n",
       "      <td>Low spender</td>\n",
       "      <td>20.5</td>\n",
       "      <td>Non-frequent customer</td>\n",
       "    </tr>\n",
       "  </tbody>\n",
       "</table>\n",
       "</div>"
      ],
      "text/plain": [
       "   order_id  user_id  order_number  order_day_of_week  order_hour_of_day  \\\n",
       "0   2539329        1             1                  2                  8   \n",
       "1   2398795        1             2                  3                  7   \n",
       "2    473747        1             3                  3                 12   \n",
       "3   2254736        1             4                  4                  7   \n",
       "4    431534        1             5                  4                 15   \n",
       "\n",
       "   days_since_prior_order  first_order  product_id  add_to_cart_order  \\\n",
       "0                     NaN         True         196                  1   \n",
       "1                    15.0        False         196                  1   \n",
       "2                    21.0        False         196                  1   \n",
       "3                    29.0        False         196                  1   \n",
       "4                    28.0        False         196                  1   \n",
       "\n",
       "   reordered product_name  aisle_id  department_id  prices    price_range_loc  \\\n",
       "0          0         Soda        77              7     9.0  Mid-range product   \n",
       "1          1         Soda        77              7     9.0  Mid-range product   \n",
       "2          1         Soda        77              7     9.0  Mid-range product   \n",
       "3          1         Soda        77              7     9.0  Mid-range product   \n",
       "4          1         Soda        77              7     9.0  Mid-range product   \n",
       "\n",
       "      busiest_day    busiest_days busiest_period_of_day  max_order  \\\n",
       "0  Regularly busy  Regularly busy        Average orders         10   \n",
       "1  Regularly busy       Less busy        Average orders         10   \n",
       "2  Regularly busy       Less busy           Most orders         10   \n",
       "3      Least busy       Less busy        Average orders         10   \n",
       "4      Least busy       Less busy           Most orders         10   \n",
       "\n",
       "   loyalty_flag  avg_price spending_flag  order_freq         frequency_flag  \n",
       "0  New customer   6.367797   Low spender        20.5  Non-frequent customer  \n",
       "1  New customer   6.367797   Low spender        20.5  Non-frequent customer  \n",
       "2  New customer   6.367797   Low spender        20.5  Non-frequent customer  \n",
       "3  New customer   6.367797   Low spender        20.5  Non-frequent customer  \n",
       "4  New customer   6.367797   Low spender        20.5  Non-frequent customer  "
      ]
     },
     "execution_count": 51,
     "metadata": {},
     "output_type": "execute_result"
    }
   ],
   "source": [
    "# check\n",
    "ords_prods_merge.head()"
   ]
  },
  {
   "cell_type": "code",
   "execution_count": 52,
   "id": "f42d1201",
   "metadata": {},
   "outputs": [
    {
     "data": {
      "text/plain": [
       "(206209, 10)"
      ]
     },
     "execution_count": 52,
     "metadata": {},
     "output_type": "execute_result"
    }
   ],
   "source": [
    "# checking shape customer before merge\n",
    "df_cust.shape"
   ]
  },
  {
   "cell_type": "code",
   "execution_count": 53,
   "id": "8c5da31a",
   "metadata": {},
   "outputs": [
    {
     "data": {
      "text/plain": [
       "(32404859, 24)"
      ]
     },
     "execution_count": 53,
     "metadata": {},
     "output_type": "execute_result"
    }
   ],
   "source": [
    "# checking shape ords prods before merge\n",
    "ords_prods_merge.shape"
   ]
  },
  {
   "cell_type": "code",
   "execution_count": 54,
   "id": "e29bdc65",
   "metadata": {},
   "outputs": [
    {
     "data": {
      "text/plain": [
       "206209"
      ]
     },
     "execution_count": 54,
     "metadata": {},
     "output_type": "execute_result"
    }
   ],
   "source": [
    "# counting unique user_id in ords prods\n",
    "ords_prods_merge['user_id'].nunique()"
   ]
  },
  {
   "cell_type": "code",
   "execution_count": 55,
   "id": "f90fd46f",
   "metadata": {},
   "outputs": [
    {
     "data": {
      "text/plain": [
       "206209"
      ]
     },
     "execution_count": 55,
     "metadata": {},
     "output_type": "execute_result"
    }
   ],
   "source": [
    "# counting unique user_id in customer\n",
    "df_cust['user_id'].nunique()"
   ]
  },
  {
   "cell_type": "code",
   "execution_count": 56,
   "id": "0bd69ef6",
   "metadata": {},
   "outputs": [
    {
     "data": {
      "text/plain": [
       "dtype('int64')"
      ]
     },
     "execution_count": 56,
     "metadata": {},
     "output_type": "execute_result"
    }
   ],
   "source": [
    "# checking data type for key (df customer)\n",
    "df_cust['user_id'].dtype"
   ]
  },
  {
   "cell_type": "code",
   "execution_count": 57,
   "id": "ac506216",
   "metadata": {},
   "outputs": [
    {
     "data": {
      "text/plain": [
       "dtype('int64')"
      ]
     },
     "execution_count": 57,
     "metadata": {},
     "output_type": "execute_result"
    }
   ],
   "source": [
    "# checking data type for key (df ords prods)\n",
    "ords_prods_merge['user_id'].dtype"
   ]
  },
  {
   "cell_type": "code",
   "execution_count": 58,
   "id": "f52bf057",
   "metadata": {},
   "outputs": [],
   "source": [
    "# Merging dataframes\n",
    "df_opc_merge = ords_prods_merge.merge(df_cust, on = 'user_id', indicator = True)"
   ]
  },
  {
   "cell_type": "code",
   "execution_count": 59,
   "id": "6e5f3338",
   "metadata": {},
   "outputs": [
    {
     "data": {
      "text/html": [
       "<div>\n",
       "<style scoped>\n",
       "    .dataframe tbody tr th:only-of-type {\n",
       "        vertical-align: middle;\n",
       "    }\n",
       "\n",
       "    .dataframe tbody tr th {\n",
       "        vertical-align: top;\n",
       "    }\n",
       "\n",
       "    .dataframe thead th {\n",
       "        text-align: right;\n",
       "    }\n",
       "</style>\n",
       "<table border=\"1\" class=\"dataframe\">\n",
       "  <thead>\n",
       "    <tr style=\"text-align: right;\">\n",
       "      <th></th>\n",
       "      <th>order_id</th>\n",
       "      <th>user_id</th>\n",
       "      <th>order_number</th>\n",
       "      <th>order_day_of_week</th>\n",
       "      <th>order_hour_of_day</th>\n",
       "      <th>days_since_prior_order</th>\n",
       "      <th>first_order</th>\n",
       "      <th>product_id</th>\n",
       "      <th>add_to_cart_order</th>\n",
       "      <th>reordered</th>\n",
       "      <th>product_name</th>\n",
       "      <th>aisle_id</th>\n",
       "      <th>department_id</th>\n",
       "      <th>prices</th>\n",
       "      <th>price_range_loc</th>\n",
       "      <th>busiest_day</th>\n",
       "      <th>busiest_days</th>\n",
       "      <th>busiest_period_of_day</th>\n",
       "      <th>max_order</th>\n",
       "      <th>loyalty_flag</th>\n",
       "      <th>avg_price</th>\n",
       "      <th>spending_flag</th>\n",
       "      <th>order_freq</th>\n",
       "      <th>frequency_flag</th>\n",
       "      <th>first_name</th>\n",
       "      <th>last_name</th>\n",
       "      <th>gender</th>\n",
       "      <th>state</th>\n",
       "      <th>age</th>\n",
       "      <th>date_joined</th>\n",
       "      <th>no_of_dependants</th>\n",
       "      <th>marital_status</th>\n",
       "      <th>income</th>\n",
       "      <th>_merge</th>\n",
       "    </tr>\n",
       "  </thead>\n",
       "  <tbody>\n",
       "    <tr>\n",
       "      <th>0</th>\n",
       "      <td>2539329</td>\n",
       "      <td>1</td>\n",
       "      <td>1</td>\n",
       "      <td>2</td>\n",
       "      <td>8</td>\n",
       "      <td>NaN</td>\n",
       "      <td>True</td>\n",
       "      <td>196</td>\n",
       "      <td>1</td>\n",
       "      <td>0</td>\n",
       "      <td>Soda</td>\n",
       "      <td>77</td>\n",
       "      <td>7</td>\n",
       "      <td>9.0</td>\n",
       "      <td>Mid-range product</td>\n",
       "      <td>Regularly busy</td>\n",
       "      <td>Regularly busy</td>\n",
       "      <td>Average orders</td>\n",
       "      <td>10</td>\n",
       "      <td>New customer</td>\n",
       "      <td>6.367797</td>\n",
       "      <td>Low spender</td>\n",
       "      <td>20.5</td>\n",
       "      <td>Non-frequent customer</td>\n",
       "      <td>Linda</td>\n",
       "      <td>Nguyen</td>\n",
       "      <td>Female</td>\n",
       "      <td>Alabama</td>\n",
       "      <td>31</td>\n",
       "      <td>2/17/2019</td>\n",
       "      <td>3</td>\n",
       "      <td>married</td>\n",
       "      <td>40423</td>\n",
       "      <td>both</td>\n",
       "    </tr>\n",
       "    <tr>\n",
       "      <th>1</th>\n",
       "      <td>2398795</td>\n",
       "      <td>1</td>\n",
       "      <td>2</td>\n",
       "      <td>3</td>\n",
       "      <td>7</td>\n",
       "      <td>15.0</td>\n",
       "      <td>False</td>\n",
       "      <td>196</td>\n",
       "      <td>1</td>\n",
       "      <td>1</td>\n",
       "      <td>Soda</td>\n",
       "      <td>77</td>\n",
       "      <td>7</td>\n",
       "      <td>9.0</td>\n",
       "      <td>Mid-range product</td>\n",
       "      <td>Regularly busy</td>\n",
       "      <td>Less busy</td>\n",
       "      <td>Average orders</td>\n",
       "      <td>10</td>\n",
       "      <td>New customer</td>\n",
       "      <td>6.367797</td>\n",
       "      <td>Low spender</td>\n",
       "      <td>20.5</td>\n",
       "      <td>Non-frequent customer</td>\n",
       "      <td>Linda</td>\n",
       "      <td>Nguyen</td>\n",
       "      <td>Female</td>\n",
       "      <td>Alabama</td>\n",
       "      <td>31</td>\n",
       "      <td>2/17/2019</td>\n",
       "      <td>3</td>\n",
       "      <td>married</td>\n",
       "      <td>40423</td>\n",
       "      <td>both</td>\n",
       "    </tr>\n",
       "    <tr>\n",
       "      <th>2</th>\n",
       "      <td>473747</td>\n",
       "      <td>1</td>\n",
       "      <td>3</td>\n",
       "      <td>3</td>\n",
       "      <td>12</td>\n",
       "      <td>21.0</td>\n",
       "      <td>False</td>\n",
       "      <td>196</td>\n",
       "      <td>1</td>\n",
       "      <td>1</td>\n",
       "      <td>Soda</td>\n",
       "      <td>77</td>\n",
       "      <td>7</td>\n",
       "      <td>9.0</td>\n",
       "      <td>Mid-range product</td>\n",
       "      <td>Regularly busy</td>\n",
       "      <td>Less busy</td>\n",
       "      <td>Most orders</td>\n",
       "      <td>10</td>\n",
       "      <td>New customer</td>\n",
       "      <td>6.367797</td>\n",
       "      <td>Low spender</td>\n",
       "      <td>20.5</td>\n",
       "      <td>Non-frequent customer</td>\n",
       "      <td>Linda</td>\n",
       "      <td>Nguyen</td>\n",
       "      <td>Female</td>\n",
       "      <td>Alabama</td>\n",
       "      <td>31</td>\n",
       "      <td>2/17/2019</td>\n",
       "      <td>3</td>\n",
       "      <td>married</td>\n",
       "      <td>40423</td>\n",
       "      <td>both</td>\n",
       "    </tr>\n",
       "    <tr>\n",
       "      <th>3</th>\n",
       "      <td>2254736</td>\n",
       "      <td>1</td>\n",
       "      <td>4</td>\n",
       "      <td>4</td>\n",
       "      <td>7</td>\n",
       "      <td>29.0</td>\n",
       "      <td>False</td>\n",
       "      <td>196</td>\n",
       "      <td>1</td>\n",
       "      <td>1</td>\n",
       "      <td>Soda</td>\n",
       "      <td>77</td>\n",
       "      <td>7</td>\n",
       "      <td>9.0</td>\n",
       "      <td>Mid-range product</td>\n",
       "      <td>Least busy</td>\n",
       "      <td>Less busy</td>\n",
       "      <td>Average orders</td>\n",
       "      <td>10</td>\n",
       "      <td>New customer</td>\n",
       "      <td>6.367797</td>\n",
       "      <td>Low spender</td>\n",
       "      <td>20.5</td>\n",
       "      <td>Non-frequent customer</td>\n",
       "      <td>Linda</td>\n",
       "      <td>Nguyen</td>\n",
       "      <td>Female</td>\n",
       "      <td>Alabama</td>\n",
       "      <td>31</td>\n",
       "      <td>2/17/2019</td>\n",
       "      <td>3</td>\n",
       "      <td>married</td>\n",
       "      <td>40423</td>\n",
       "      <td>both</td>\n",
       "    </tr>\n",
       "    <tr>\n",
       "      <th>4</th>\n",
       "      <td>431534</td>\n",
       "      <td>1</td>\n",
       "      <td>5</td>\n",
       "      <td>4</td>\n",
       "      <td>15</td>\n",
       "      <td>28.0</td>\n",
       "      <td>False</td>\n",
       "      <td>196</td>\n",
       "      <td>1</td>\n",
       "      <td>1</td>\n",
       "      <td>Soda</td>\n",
       "      <td>77</td>\n",
       "      <td>7</td>\n",
       "      <td>9.0</td>\n",
       "      <td>Mid-range product</td>\n",
       "      <td>Least busy</td>\n",
       "      <td>Less busy</td>\n",
       "      <td>Most orders</td>\n",
       "      <td>10</td>\n",
       "      <td>New customer</td>\n",
       "      <td>6.367797</td>\n",
       "      <td>Low spender</td>\n",
       "      <td>20.5</td>\n",
       "      <td>Non-frequent customer</td>\n",
       "      <td>Linda</td>\n",
       "      <td>Nguyen</td>\n",
       "      <td>Female</td>\n",
       "      <td>Alabama</td>\n",
       "      <td>31</td>\n",
       "      <td>2/17/2019</td>\n",
       "      <td>3</td>\n",
       "      <td>married</td>\n",
       "      <td>40423</td>\n",
       "      <td>both</td>\n",
       "    </tr>\n",
       "  </tbody>\n",
       "</table>\n",
       "</div>"
      ],
      "text/plain": [
       "   order_id  user_id  order_number  order_day_of_week  order_hour_of_day  \\\n",
       "0   2539329        1             1                  2                  8   \n",
       "1   2398795        1             2                  3                  7   \n",
       "2    473747        1             3                  3                 12   \n",
       "3   2254736        1             4                  4                  7   \n",
       "4    431534        1             5                  4                 15   \n",
       "\n",
       "   days_since_prior_order  first_order  product_id  add_to_cart_order  \\\n",
       "0                     NaN         True         196                  1   \n",
       "1                    15.0        False         196                  1   \n",
       "2                    21.0        False         196                  1   \n",
       "3                    29.0        False         196                  1   \n",
       "4                    28.0        False         196                  1   \n",
       "\n",
       "   reordered product_name  aisle_id  department_id  prices    price_range_loc  \\\n",
       "0          0         Soda        77              7     9.0  Mid-range product   \n",
       "1          1         Soda        77              7     9.0  Mid-range product   \n",
       "2          1         Soda        77              7     9.0  Mid-range product   \n",
       "3          1         Soda        77              7     9.0  Mid-range product   \n",
       "4          1         Soda        77              7     9.0  Mid-range product   \n",
       "\n",
       "      busiest_day    busiest_days busiest_period_of_day  max_order  \\\n",
       "0  Regularly busy  Regularly busy        Average orders         10   \n",
       "1  Regularly busy       Less busy        Average orders         10   \n",
       "2  Regularly busy       Less busy           Most orders         10   \n",
       "3      Least busy       Less busy        Average orders         10   \n",
       "4      Least busy       Less busy           Most orders         10   \n",
       "\n",
       "   loyalty_flag  avg_price spending_flag  order_freq         frequency_flag  \\\n",
       "0  New customer   6.367797   Low spender        20.5  Non-frequent customer   \n",
       "1  New customer   6.367797   Low spender        20.5  Non-frequent customer   \n",
       "2  New customer   6.367797   Low spender        20.5  Non-frequent customer   \n",
       "3  New customer   6.367797   Low spender        20.5  Non-frequent customer   \n",
       "4  New customer   6.367797   Low spender        20.5  Non-frequent customer   \n",
       "\n",
       "  first_name last_name  gender    state  age date_joined  no_of_dependants  \\\n",
       "0      Linda    Nguyen  Female  Alabama   31   2/17/2019                 3   \n",
       "1      Linda    Nguyen  Female  Alabama   31   2/17/2019                 3   \n",
       "2      Linda    Nguyen  Female  Alabama   31   2/17/2019                 3   \n",
       "3      Linda    Nguyen  Female  Alabama   31   2/17/2019                 3   \n",
       "4      Linda    Nguyen  Female  Alabama   31   2/17/2019                 3   \n",
       "\n",
       "  marital_status  income _merge  \n",
       "0        married   40423   both  \n",
       "1        married   40423   both  \n",
       "2        married   40423   both  \n",
       "3        married   40423   both  \n",
       "4        married   40423   both  "
      ]
     },
     "execution_count": 59,
     "metadata": {},
     "output_type": "execute_result"
    }
   ],
   "source": [
    "# checking results\n",
    "df_opc_merge.head()"
   ]
  },
  {
   "cell_type": "code",
   "execution_count": 60,
   "id": "456ce395",
   "metadata": {},
   "outputs": [
    {
     "data": {
      "text/plain": [
       "both          32404859\n",
       "left_only            0\n",
       "right_only           0\n",
       "Name: _merge, dtype: int64"
      ]
     },
     "execution_count": 60,
     "metadata": {},
     "output_type": "execute_result"
    }
   ],
   "source": [
    "# Checking Frequency inner join\n",
    "df_opc_merge['_merge'].value_counts()"
   ]
  },
  {
   "cell_type": "code",
   "execution_count": 62,
   "id": "67b8a9ff",
   "metadata": {},
   "outputs": [
    {
     "data": {
      "text/plain": [
       "(32404859, 34)"
      ]
     },
     "execution_count": 62,
     "metadata": {},
     "output_type": "execute_result"
    }
   ],
   "source": [
    "#checking shape merged df\n",
    "df_opc_merge.shape"
   ]
  },
  {
   "cell_type": "code",
   "execution_count": 63,
   "id": "ca662695",
   "metadata": {},
   "outputs": [
    {
     "data": {
      "text/plain": [
       "206209"
      ]
     },
     "execution_count": 63,
     "metadata": {},
     "output_type": "execute_result"
    }
   ],
   "source": [
    "# counting unique user_id in merged df\n",
    "df_opc_merge['user_id'].nunique()"
   ]
  },
  {
   "cell_type": "markdown",
   "id": "e7c0e625",
   "metadata": {},
   "source": [
    "Shape and number of unique user_id's is correct and merge frequency test shows desired result."
   ]
  },
  {
   "cell_type": "markdown",
   "id": "6df0a905",
   "metadata": {},
   "source": [
    "### D. Exporting Data"
   ]
  },
  {
   "cell_type": "code",
   "execution_count": 64,
   "id": "9a288abe",
   "metadata": {},
   "outputs": [],
   "source": [
    "# Exporting the final Dataframe\n",
    "df_opc_merge.to_pickle(os.path.join(path, '02 Data','Prepared Data', 'orders_products_all.pkl'))"
   ]
  }
 ],
 "metadata": {
  "kernelspec": {
   "display_name": "Python 3 (ipykernel)",
   "language": "python",
   "name": "python3"
  },
  "language_info": {
   "codemirror_mode": {
    "name": "ipython",
    "version": 3
   },
   "file_extension": ".py",
   "mimetype": "text/x-python",
   "name": "python",
   "nbconvert_exporter": "python",
   "pygments_lexer": "ipython3",
   "version": "3.9.13"
  },
  "varInspector": {
   "cols": {
    "lenName": 16,
    "lenType": 16,
    "lenVar": 40
   },
   "kernels_config": {
    "python": {
     "delete_cmd_postfix": "",
     "delete_cmd_prefix": "del ",
     "library": "var_list.py",
     "varRefreshCmd": "print(var_dic_list())"
    },
    "r": {
     "delete_cmd_postfix": ") ",
     "delete_cmd_prefix": "rm(",
     "library": "var_list.r",
     "varRefreshCmd": "cat(var_dic_list()) "
    }
   },
   "types_to_exclude": [
    "module",
    "function",
    "builtin_function_or_method",
    "instance",
    "_Feature"
   ],
   "window_display": false
  }
 },
 "nbformat": 4,
 "nbformat_minor": 5
}
